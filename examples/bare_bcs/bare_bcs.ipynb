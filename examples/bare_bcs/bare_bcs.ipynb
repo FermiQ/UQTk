{
 "cells": [
  {
   "cell_type": "raw",
   "id": "461c7a2e",
   "metadata": {},
   "source": []
  },
  {
   "cell_type": "markdown",
   "id": "c32c8012-f3bf-4f96-9aff-e8b20eca1ec7",
   "metadata": {},
   "source": [
    "# Bare BCS for surrogate construction"
   ]
  },
  {
   "cell_type": "markdown",
   "id": "6e289260-b35a-4113-90d9-6f0c2eb4bc92",
   "metadata": {},
   "source": [
    "This notebook constructs a surrogate with arbitrary basis functions for Genz functions and gives the normalized root mean square error between the surrogate and the actual function. Both the Genz function and the basis are defined on [-1,1]."
   ]
  },
  {
   "cell_type": "code",
   "execution_count": 1,
   "id": "f74bf835-9ef7-452b-85cc-7fd3ebbe7dd3",
   "metadata": {},
   "outputs": [
    {
     "name": "stdout",
     "output_type": "stream",
     "text": [
      "PyMC is required for some of the MCMC postprocessing codes.\n",
      "Will proceed without, but some convergence tests will not be available.\n"
     ]
    }
   ],
   "source": [
    "import numpy as np\n",
    "import math  \n",
    "from scipy.stats import qmc\n",
    "import pandas as pd\n",
    "\n",
    "import PyUQTk.pce as uqtkpce\n",
    "import PyUQTk.PyPCE.pce_tools as pce_tools\n",
    "from PyUQTk.utils.func import *\n",
    "\n",
    "\n",
    "import matplotlib.pyplot as plt\n",
    "from sklearn.linear_model import OrthogonalMatchingPursuit\n",
    "from sklearn.linear_model import OrthogonalMatchingPursuitCV\n",
    "from sklearn.datasets import make_sparse_coded_signal"
   ]
  },
  {
   "cell_type": "markdown",
   "id": "532e0f3a-c607-4877-b64f-4a9cf1c40556",
   "metadata": {},
   "source": [
    "We define our input parameters. BCS is best for undetermined models and/or large basis sets."
   ]
  },
  {
   "cell_type": "code",
   "execution_count": null,
   "id": "aa0bbccd-c5e7-40ab-a720-9ccf740514e9",
   "metadata": {},
   "outputs": [],
   "source": [
    "# PC parameters\n",
    "nord = 8            # Order of the final PCE basis\n",
    "ndim = 2            # Number of dimensions\n",
    "pc_type = \"LU\"      # Polynomial type\n",
    "pc_alpha = 0.0      # Free parameter > -1 for Gamma-Laguerre and Beta-Jacobi PCs\n",
    "pc_beta = 1.0       # Free parameter > -1 for Gamma-Laguerre and Beta-Jacobi PCs\n",
    "\n",
    "# BCS parameters\n",
    "niter = 3                                        # Number of iterations to run, must be > 0\n",
    "eta = 1/np.power(10,[i for i in range(1,16)])    # Threshold for stopping the algorithm\n",
    "ntry = 5                                         # Number of splits for cross-validation of the retained basis terms \n",
    "eta_folds = 5                       # Number of folds to use for eta cross-validation                          \n",
    "mindex_growth = 'nonconservative'   # Method for basis growth; options are \"conservative,\" \"nonconservative,\" or None\n",
    "regparams = None                    # Regularization weights (provide an array or value); if None, they are autopopulated\n",
    "sigma = 1e-8                        # Inital noise variance; updated in BCS\n",
    "trval_frac = None                   # Fraction of total data to use in each split\n",
    "npccut = None                       # Maximum number of PC coefficients to retain\n",
    "pcf_thr = None                      # Minimum value (by magnitude) for PC coefficients\n",
    "verbose = 0                         # Flag for print statements\n",
    "\n",
    "# Model Choice \n",
    "model = 'genz_osc'   # Choices are 'genz_osc', 'genz_exp', 'genz_cont','genz_gaus','genz_cpeak', 'genz_ppeak'"
   ]
  },
  {
   "cell_type": "markdown",
   "id": "e17570ae-1ebd-4b8d-a9e8-7b1b26ec1809",
   "metadata": {},
   "source": [
    "We randomly generate training and testing data."
   ]
  },
  {
   "cell_type": "code",
   "execution_count": null,
   "id": "38790a1d-574d-427b-b5e3-44eb3408aa0e",
   "metadata": {},
   "outputs": [],
   "source": [
    "# PC model with a full basis set\n",
    "pc_model =  uqtkpce.PCSet(\"NISPnoq\", nord, ndim, pc_type, pc_alpha, pc_beta)\n",
    "\n",
    "# Random number generator\n",
    "rng = qmc.LatinHypercube(d=ndim, seed=42)\n",
    "\n",
    "#Training\n",
    "nTrain = int(pc_model.GetNumberPCTerms()*0.75) # Number of training samples\n",
    "x_train = 2*rng.random(n=nTrain)-1\n",
    "y_train = func(x_train, model, np.ones(ndim+1))\n",
    "\n",
    "#Testing\n",
    "nTest = 10000  # Number of testing samples\n",
    "x_test = 2*rng.random(n=nTest)-1\n",
    "y_test = func(x_test, model, np.ones(ndim+1))"
   ]
  },
  {
   "cell_type": "markdown",
   "id": "b7fc4f66-eb0d-4a35-a7f6-b3acfa40afb5",
   "metadata": {},
   "source": [
    "We perform BCS."
   ]
  },
  {
   "cell_type": "code",
   "execution_count": null,
   "id": "9de91054-432f-468a-8664-af6e54ddc454",
   "metadata": {},
   "outputs": [],
   "source": [
    "# PC object with the starting basis\n",
    "\n",
    "# determine order of the starting basis\n",
    "if mindex_growth == None:\n",
    "    start_ord = nord # if no basis growth, order of the final basis = order of the starting basis\n",
    "else:\n",
    "    start_ord = nord-niter+1 # if basis growth, shrink starting basis to allow for growth niter-1 times\n",
    "    \n",
    "pc_start = uqtkpce.PCSet(\"NISPnoq\", start_ord, ndim, pc_type, pc_alpha, pc_beta)\n",
    "\n",
    "# Determine coefficients through BCS\n",
    "pc_final, c_k = pce_tools.UQTkBCS(pc_start, x_train, y_train, niter, eta, ntry, eta_folds, mindex_growth, regparams, sigma, trval_frac, npccut, pcf_thr, verbose)"
   ]
  },
  {
   "cell_type": "markdown",
   "id": "26eba228-1435-4d87-bf60-a98a33026144",
   "metadata": {},
   "source": [
    "Finally, we calculate the error."
   ]
  },
  {
   "cell_type": "code",
   "execution_count": null,
   "id": "850871ba-2c45-4f5c-a0d4-1ce0fd98502d",
   "metadata": {},
   "outputs": [],
   "source": [
    "# Evaluate the PCE\n",
    "pce_evals = pce_tools.UQTkEvaluatePCE(pc_final, c_k, x_test)\n",
    "\n",
    "# Calculate error metric\n",
    "MSE = np.square(np.subtract(y_test, pce_evals)).mean()\n",
    "NRMSE=math.sqrt(MSE)/np.linalg.norm(y_test)\n",
    "print(\"The NRMS error between a\", ndim, \"-dimensional\", model, \"function and a BCS-based PC surrogate of \\\n",
    "order\", nord, \"is\")\n",
    "NRMSE"
   ]
  },
  {
   "cell_type": "code",
   "execution_count": null,
   "id": "0177f0db",
   "metadata": {},
   "outputs": [],
   "source": [
    "\n",
    "\n",
    "n_components, n_features = 512, 100\n",
    "n_nonzero_coefs = 17\n",
    "\n",
    "# generate the data\n",
    "\n",
    "# y = Xw\n",
    "# y (n_features, n_samples)\n",
    "# X (n_features, n_components)\n",
    "# w (n_components, n_samples)\n",
    "n_samples = 1\n",
    "# |x|_0 = n_nonzero_coefs\n",
    "\n",
    "y, X, w = make_sparse_coded_signal(\n",
    "    n_samples=1,\n",
    "    n_components=n_components,\n",
    "    n_features=n_features,\n",
    "    n_nonzero_coefs=n_nonzero_coefs,\n",
    "    random_state=0,\n",
    "    data_transposed=True,\n",
    ")\n",
    "\n",
    "(idx,) = w.nonzero()\n",
    "\n",
    "# distort the clean signal\n",
    "y_noisy = y + 0.05 * np.random.randn(len(y))\n",
    "\n",
    "# plot the sparse signal\n",
    "plt.figure(figsize=(7, 7))\n",
    "plt.subplot(4, 1, 1)\n",
    "plt.xlim(0, 512)\n",
    "plt.title(\"Sparse signal\")\n",
    "plt.stem(idx, w[idx])\n",
    "\n",
    "# plot the noise-free reconstruction\n",
    "omp = OrthogonalMatchingPursuit(n_nonzero_coefs=n_nonzero_coefs)\n",
    "omp.fit(X, y)\n",
    "coef = omp.coef_\n",
    "(idx_r,) = coef.nonzero()\n",
    "plt.subplot(4, 1, 2)\n",
    "plt.xlim(0, 512)\n",
    "plt.title(\"Recovered signal from noise-free measurements\")\n",
    "plt.stem(idx_r, coef[idx_r])\n",
    "\n",
    "# plot the noisy reconstruction\n",
    "omp.fit(X, y_noisy)\n",
    "coef = omp.coef_\n",
    "(idx_r,) = coef.nonzero()\n",
    "plt.subplot(4, 1, 3)\n",
    "plt.xlim(0, 512)\n",
    "plt.title(\"Recovered signal from noisy measurements\")\n",
    "plt.stem(idx_r, coef[idx_r])\n",
    "\n",
    "# plot the noisy reconstruction with number of non-zeros set by CV\n",
    "omp_cv = OrthogonalMatchingPursuitCV()\n",
    "omp_cv.fit(X, y_noisy)\n",
    "coef = omp_cv.coef_\n",
    "(idx_r,) = coef.nonzero()\n",
    "plt.subplot(4, 1, 4)\n",
    "plt.xlim(0, 512)\n",
    "plt.title(\"Recovered signal from noisy measurements with CV\")\n",
    "plt.stem(idx_r, coef[idx_r])\n",
    "\n",
    "plt.subplots_adjust(0.06, 0.04, 0.94, 0.90, 0.20, 0.38)\n",
    "plt.suptitle(\"Sparse signal recovery with Orthogonal Matching Pursuit\", fontsize=16)\n",
    "plt.show()"
   ]
  },
  {
   "cell_type": "code",
   "execution_count": 2,
   "id": "6923a609",
   "metadata": {},
   "outputs": [],
   "source": [
    "n_c = 512 # number of coefficients\n",
    "n_ys = 100 # number of y samples\n",
    "n_nz_c = 20 # number of nonzero coeffs\n",
    "\n",
    "# generate the data\n",
    "\n",
    "# ys = A coeffs\n",
    "# ys (n_features, n_samples)\n",
    "# A (n_features, n_components)\n",
    "# coeffs (n_components, n_samples)\n",
    "# n_samples = 1 (is more like a set of replicate problems)\n",
    "# |x|_0 = n_nonzero_coefs\n",
    "\n",
    "ys, A, coeffs = make_sparse_coded_signal(\n",
    "    n_samples=1,\n",
    "    n_components=n_c,\n",
    "    n_features=n_ys,\n",
    "    n_nonzero_coefs=n_nz_c,\n",
    "    random_state=0,\n",
    "    data_transposed=True,\n",
    ")\n",
    "\n",
    "(idc,) = coeffs.nonzero()"
   ]
  },
  {
   "cell_type": "code",
   "execution_count": null,
   "id": "7702dac5",
   "metadata": {},
   "outputs": [],
   "source": []
  },
  {
   "cell_type": "code",
   "execution_count": null,
   "id": "65fc096b",
   "metadata": {},
   "outputs": [],
   "source": []
  },
  {
   "cell_type": "code",
   "execution_count": null,
   "id": "f7231059",
   "metadata": {},
   "outputs": [],
   "source": []
  },
  {
   "cell_type": "code",
   "execution_count": 3,
   "id": "8baed65a",
   "metadata": {},
   "outputs": [],
   "source": [
    "# add noise to the outputs\n",
    "ys_noisy = ys + 0.05 * np.random.randn(len(ys))"
   ]
  },
  {
   "cell_type": "code",
   "execution_count": 4,
   "id": "ec6d7b15",
   "metadata": {},
   "outputs": [],
   "source": [
    "# reconstruction of coefficients with OMP\n",
    "omp_cv = OrthogonalMatchingPursuitCV()\n",
    "omp_cv.fit(A, ys_noisy)\n",
    "omp_coef = omp_cv.coef_\n",
    "(idc_omp,) = omp_coef.nonzero()"
   ]
  },
  {
   "cell_type": "code",
   "execution_count": 5,
   "id": "4555b001",
   "metadata": {},
   "outputs": [
    {
     "data": {
      "text/plain": [
       "array([ 0.19342191, -0.42948835, -0.38090366, -0.3526881 ,  1.59331601,\n",
       "       -0.89616794,  1.63950051, -2.75911696, -1.48202232, -1.44564498,\n",
       "        1.44932224, -1.07117147,  0.21082588, -3.34853889, -0.28891701,\n",
       "       -0.256209  ])"
      ]
     },
     "execution_count": 5,
     "metadata": {},
     "output_type": "execute_result"
    }
   ],
   "source": [
    "omp_coef[idc_omp]"
   ]
  },
  {
   "cell_type": "code",
   "execution_count": 10,
   "id": "5fd8ab71",
   "metadata": {},
   "outputs": [
    {
     "name": "stdout",
     "output_type": "stream",
     "text": [
      "BCS has selected 15 basis terms out of 512 basis terms\n"
     ]
    }
   ],
   "source": [
    "# reconstruction of coefficients with BCS\n",
    "reg_params = np.array([])\n",
    "bcs_coef = pce_tools.UQTkCallBCSDirect(A,ys_noisy,0.05,1.e-9,reg_params,verbose=True)"
   ]
  },
  {
   "cell_type": "code",
   "execution_count": 11,
   "id": "504eca33",
   "metadata": {},
   "outputs": [
    {
     "data": {
      "text/plain": [
       "(512,)"
      ]
     },
     "execution_count": 11,
     "metadata": {},
     "output_type": "execute_result"
    }
   ],
   "source": [
    "omp_coef.shape"
   ]
  },
  {
   "cell_type": "code",
   "execution_count": 12,
   "id": "5c553ac8",
   "metadata": {},
   "outputs": [
    {
     "data": {
      "text/plain": [
       "array([ 46,  68,  88, 158, 195, 226, 268, 269, 339, 355, 359, 399, 467,\n",
       "       492, 494, 509])"
      ]
     },
     "execution_count": 12,
     "metadata": {},
     "output_type": "execute_result"
    }
   ],
   "source": [
    "idc_omp"
   ]
  },
  {
   "cell_type": "code",
   "execution_count": 13,
   "id": "837ca9d7",
   "metadata": {},
   "outputs": [
    {
     "data": {
      "text/plain": [
       "array([ 68,  88, 158, 195, 226, 268, 269, 339, 355, 359, 399, 467, 492,\n",
       "       494, 509])"
      ]
     },
     "execution_count": 13,
     "metadata": {},
     "output_type": "execute_result"
    }
   ],
   "source": [
    "(idc_bcs,) = bcs_coef.nonzero()\n",
    "idc_bcs"
   ]
  },
  {
   "cell_type": "code",
   "execution_count": 14,
   "id": "44766089",
   "metadata": {},
   "outputs": [
    {
     "data": {
      "text/plain": [
       "array([-0.23975996, -0.31060015, -0.05457724,  1.58877797, -0.87092082,\n",
       "        1.55721957, -2.66490749, -1.42951065, -1.40130787,  1.38692746,\n",
       "       -1.0684128 ,  0.06093616, -3.26011169, -0.1083081 , -0.15859183])"
      ]
     },
     "execution_count": 14,
     "metadata": {},
     "output_type": "execute_result"
    }
   ],
   "source": [
    "bcs_coef[idc_bcs]"
   ]
  },
  {
   "cell_type": "code",
   "execution_count": 15,
   "id": "fabd78d4",
   "metadata": {},
   "outputs": [
    {
     "data": {
      "text/plain": [
       "0.0"
      ]
     },
     "execution_count": 15,
     "metadata": {},
     "output_type": "execute_result"
    }
   ],
   "source": [
    "bcs_coef[100]"
   ]
  },
  {
   "cell_type": "code",
   "execution_count": null,
   "id": "cbf5369a",
   "metadata": {},
   "outputs": [],
   "source": []
  }
 ],
 "metadata": {
  "kernelspec": {
   "display_name": "Python 3 (ipykernel)",
   "language": "python",
   "name": "python3"
  },
  "language_info": {
   "codemirror_mode": {
    "name": "ipython",
    "version": 3
   },
   "file_extension": ".py",
   "mimetype": "text/x-python",
   "name": "python",
   "nbconvert_exporter": "python",
   "pygments_lexer": "ipython3",
   "version": "3.9.13"
  }
 },
 "nbformat": 4,
 "nbformat_minor": 5
}
