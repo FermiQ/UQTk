{
 "cells": [
  {
   "cell_type": "markdown",
   "id": "cc857e93-b4e7-453c-a956-9c87182ae8f2",
   "metadata": {},
   "source": [
    "# Twelve-dimensional Model of Heat Transfer through a Dual-Pane Window\n",
    "## Sparse Quadrature only\n",
    "This script produces a probability density function of the heat flux for a twelve-dimensional model, using fourth order PCE’s and non-intrusive spectral projection with sparse quadrature."
   ]
  },
  {
   "cell_type": "code",
   "execution_count": 1,
   "id": "f9da496e-52bf-47d7-962b-f7d60d491d97",
   "metadata": {},
   "outputs": [
    {
     "name": "stdout",
     "output_type": "stream",
     "text": [
      "PyMC is required for some of the MCMC postprocessing codes.\n",
      "Will proceed without, but some convergence tests will not be available.\n"
     ]
    }
   ],
   "source": [
    "#general imports\n",
    "\n",
    "from __future__ import print_function\n",
    "\n",
    "try:\n",
    "    import numpy as np\n",
    "except ImportError:\n",
    "    print(\"Numpy module could not be found\")\n",
    "\n",
    "try:\n",
    "    import matplotlib.pyplot as plt\n",
    "    from matplotlib import rc\n",
    "    rc('mathtext', default='regular')\n",
    "except ImportError:\n",
    "    print(\"Matplotlib not found\")\n",
    "\n",
    "try:\n",
    "    from scipy import stats\n",
    "except ImportError:\n",
    "    print(\"Scipy stats module could not be found\")\n",
    "\n",
    "try:\n",
    "    import PyUQTk.pce as uqtkpce\n",
    "except ImportError:\n",
    "    print(\"PyUQTk PCE module not found\")\n",
    "    \n",
    "try:\n",
    "    import PyUQTk.PyPCE.pce_tools as pce_tools\n",
    "except ImportError:\n",
    "    print(\"PyUQTk pce_tools module not found\")     "
   ]
  },
  {
   "cell_type": "code",
   "execution_count": 2,
   "id": "48e53c64-bc1e-4cc2-94ef-cbe33d9d4fea",
   "metadata": {},
   "outputs": [],
   "source": [
    "#problem-specific imports\n",
    "try:\n",
    "    from tools_conductance_dp_pce_wrad import *\n",
    "except ImportError:\n",
    "    print(\"File with PCE utilities not found.\")"
   ]
  },
  {
   "cell_type": "markdown",
   "id": "62d50c74-c57a-4732-baea-8c3d63b54307",
   "metadata": {},
   "source": [
    "## Setting input arguments"
   ]
  },
  {
   "cell_type": "code",
   "execution_count": 3,
   "id": "97f4823c-76d0-4a43-97df-22945450011c",
   "metadata": {},
   "outputs": [],
   "source": [
    "main_verbose = 0 #1 for intermediate print statements, otherwise set to 0\n",
    "nord = 3 # Order of the PCE; may be increased, however the number of points produced will increase dramatically\n",
    "ndim = 12 # Number of dimensions of the PCE\n",
    "pc_type = \"HG\" #PC type\n",
    "pc_alpha = 0.0 #Free parameter > -1 for Gamma-Laguerre and Beta-Jacobi PCs\n",
    "pc_beta = 1.0 #Free parameter > -1 for Gamma-Laguerre and Beta-Jacobi PCs\n",
    "param= nord+1 # Quad points per dimension for full quadrature or level for sparse quadrature\n",
    "n_kde = 100000 # Number of random samples for KDE"
   ]
  },
  {
   "cell_type": "code",
   "execution_count": 4,
   "id": "cbc322fd-5e0a-4e97-83f9-05d1e273db48",
   "metadata": {},
   "outputs": [],
   "source": [
    "# The uncertain, Gaussian parameters used to calculate the heat flux\n",
    "Ti = 293.0 # Room temperature (K)\n",
    "To = 273.0 # Outside temperature (K)\n",
    "dw = 0.005 # Width of the glass pane (m)\n",
    "da = 0.01  # Width of the gap between the panes (m)\n",
    "kw = 1.0   # Conduction constant for glass (W/m*K)\n",
    "ka = 0.024 # Conduction constant for air (W/m*K)\n",
    "hi = 2.0   # Coefficient of convection inside (W/m^2*s)\n",
    "ho = 6.0   # Coefficient of convection outside (W/m^2*s)\n",
    "Ts = 200.0   # Sky temperature (K)\n",
    "mu = 1.86e-5 # Viscosity of air (kg/m*s)\n",
    "rho = 1.29 # Density of air (kg/m^3)\n",
    "beta = 3.67e-3 # Coefficient of thermal exspansion (1/K)\n",
    "\n",
    "# Set the standard deviations of these uncertain parameters\n",
    "std_Ti=Ti*0.005\n",
    "std_To=To*0.01\n",
    "std_dw=dw*0.01\n",
    "std_da=da*0.01\n",
    "std_kw=kw*0.05\n",
    "std_ka=ka*0.05\n",
    "std_hi=hi*0.15\n",
    "std_ho=ho*0.15\n",
    "std_Ts=Ts*0.1\n",
    "std_mu=mu*0.05\n",
    "std_rho=rho*0.05\n",
    "std_beta=beta*0.05"
   ]
  },
  {
   "cell_type": "markdown",
   "id": "025be9f8-f8ca-421e-a817-abf5d8ccd01e",
   "metadata": {},
   "source": [
    "## Forward Propagation using PCEs"
   ]
  },
  {
   "cell_type": "code",
   "execution_count": 5,
   "id": "c335caf0-1807-4655-84b9-6b4f9b8d8f1b",
   "metadata": {},
   "outputs": [
    {
     "name": "stdout",
     "output_type": "stream",
     "text": [
      "Performing forward UQ using sparse quadrature for a 12 dimensional PCE of order 2\n"
     ]
    }
   ],
   "source": [
    "print(\"Performing forward UQ using sparse quadrature for a\", ndim, \"dimensional PCE of order\",nord)\n",
    "\n",
    "# Instantiate PC Object with sparse quadrature methods\n",
    "pc_model2 = uqtkpce.PCSet(\"NISPnoq\", nord,ndim,pc_type,pc_alpha,pc_beta)\n",
    "pc_model2.SetQuadRule(pc_type,'sparse',param)\n",
    "npce2 = pc_model2.GetNumberPCTerms() # Number of terms in the PCE\n",
    "if main_verbose > 0:\n",
    "    print(\"The number of terms in each PCE is \",npce2)\n",
    "    print(\"Multi-index and norm squared for all terms:\")\n",
    "    pc_model2.PrintMultiIndexNormSquared()"
   ]
  },
  {
   "cell_type": "code",
   "execution_count": 6,
   "id": "1d93ddeb-5ff8-45bf-968c-36998e7512bd",
   "metadata": {},
   "outputs": [
    {
     "name": "stdout",
     "output_type": "stream",
     "text": [
      "Sparse quadrature method requires model evaluations at  3873  points\n",
      "This may take a while if the chosen order is > 3\n"
     ]
    }
   ],
   "source": [
    "#Get NumPy array of quadrature points\n",
    "qdpts2, totquat2= pce_tools.UQTkGetQuadPoints(pc_model2)\n",
    "\n",
    "print(\"Sparse quadrature method requires model evaluations at \", totquat2, \" points\")\n",
    "print(\"This may take a while if the chosen order is > 3\")\n",
    "\n",
    "# Convert Quadrature points in ξ_i to equivalent samples of input parameters\n",
    "# Taking advantage of the fact that inputs are assumed to be Gaussian\n",
    "# Following parameter_samples = μ + σ(qdpts)\n",
    "# This is equivalent to evaluating 1st order PC expansions for the input parameters.\n",
    "Ti_samples2 = Ti + std_Ti * qdpts2[:,0]\n",
    "To_samples2 = To + std_To * qdpts2[:,1]\n",
    "dw_samples2 = dw + std_dw * qdpts2[:,2]\n",
    "da_samples2 = da + std_da * qdpts2[:,3]\n",
    "kw_samples2 = kw + std_kw * qdpts2[:,4]\n",
    "ka_samples2 = ka + std_ka * qdpts2[:,5]\n",
    "hi_samples2 = hi + std_hi * qdpts2[:,6]\n",
    "ho_samples2 = ho + std_ho * qdpts2[:,7]\n",
    "Ts_samples2 = Ts + std_Ts * qdpts2[:,8]\n",
    "mu_samples2 = mu + std_mu * qdpts2[:,9]\n",
    "rho_samples2 = rho + std_rho * qdpts2[:,10]\n",
    "beta_samples2 = beta + std_beta * qdpts2[:,11]\n",
    "\n",
    "# Evaluate forward model for sampled parameters, computing heat flux Q\n",
    "#Q_evals is an array of evaluations of the forward model\n",
    "\n",
    "# fwd_model first solves five linear equations, neglecting convection for the air gap and radiative heat transfer\n",
    "# Then, these values are used as initial inputs for full calculations using a nonlinear solver\n",
    "Q_evals2=fwd_model(Ti_samples2,To_samples2,Ts_samples2,dw_samples2,da_samples2,kw_samples2,\\\n",
    "ka_samples2,hi_samples2,ho_samples2,mu_samples2,rho_samples2,beta_samples2)\n",
    "\n",
    "# Galerkin Projection\n",
    "c_k2 = pce_tools.UQTkGalerkinProjection(pc_model2,Q_evals2)\n",
    "\n",
    "# Generate germ samples\n",
    "germ_samples2=np.random.normal(0,1, (n_kde,ndim))\n",
    "\n",
    "# Evaluate the PCE at the germ samples\n",
    "pce_evals2=pce_tools.UQTkEvaluatePCE(pc_model2,c_k2,germ_samples2)\n",
    "\n",
    "# Peform kernel density estimation\n",
    "xpts_pce2, PDF_data_pce2=pce_tools.UQTkKDE(pce_evals2)"
   ]
  },
  {
   "cell_type": "markdown",
   "id": "0c575939-3cf2-405a-9293-341cf6fb9489",
   "metadata": {},
   "source": [
    "## Summary Information"
   ]
  },
  {
   "cell_type": "code",
   "execution_count": 7,
   "id": "e41a3a25-1c1b-406a-ba79-10f0fb1fb788",
   "metadata": {},
   "outputs": [
    {
     "name": "stdout",
     "output_type": "stream",
     "text": [
      "\n",
      "td_heat_flux_pce.pdf has been saved.\n"
     ]
    },
    {
     "data": {
      "image/png": "[encoded data removed]",
      "text/plain": [
       "<Figure size 720x720 with 1 Axes>"
      ]
     },
     "metadata": {
      "needs_background": "light"
     },
     "output_type": "display_data"
    }
   ],
   "source": [
    "# Plot the PDF curve\n",
    "plt.figure(figsize=(10,10))\n",
    "plt.plot(xpts_pce2, PDF_data_pce2, linewidth=2, color='g', label= 'NISP sparse quadrature method')\n",
    "# Label Axes\n",
    "plt.xlabel(r'Total Heat Flux ($W/m^2$)', size=16)\n",
    "plt.ylabel(\"PDF\", size=16)\n",
    "# Add title\n",
    "plt.suptitle(\"Heat Transfer Through a Dual Pane Window - PCE order %s\"%(nord), size=20)\n",
    "# Change tick size\n",
    "plt.tick_params(axis='both', labelsize=14)\n",
    "# Pad tick labels\n",
    "plt.gca().tick_params(pad=6)\n",
    "# Create legend\n",
    "plt.legend(loc='upper left', prop={'size':12})\n",
    "# Save figure\n",
    "fig_name=\"td_heat_flux_pce.pdf\"\n",
    "plt.savefig(fig_name)\n",
    "print(\"\\ntd_heat_flux_pce.pdf has been saved.\")\n",
    "# Show figure\n",
    "plt.show()"
   ]
  }
 ],
 "metadata": {
  "kernelspec": {
   "display_name": "Python 3 (ipykernel)",
   "language": "python",
   "name": "python3"
  },
  "language_info": {
   "codemirror_mode": {
    "name": "ipython",
    "version": 3
   },
   "file_extension": ".py",
   "mimetype": "text/x-python",
   "name": "python",
   "nbconvert_exporter": "python",
   "pygments_lexer": "ipython3",
   "version": "3.9.12"
  }
 },
 "nbformat": 4,
 "nbformat_minor": 5
}
