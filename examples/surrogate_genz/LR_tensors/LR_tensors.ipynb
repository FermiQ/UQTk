{
 "cells": [
  {
   "cell_type": "code",
   "execution_count": 32,
   "id": "4dfb40c3-42d4-40d3-a4eb-ab1c6610ef74",
   "metadata": {},
   "outputs": [],
   "source": [
    "import sys\n",
    "sys.path.append('../pyuqtkarray/')\n",
    "sys.path.append('../pce/')\n",
    "sys.path.append('../quad/')\n",
    "sys.path.append('../tools/')\n",
    "sys.path.append('../lowrank/')\n",
    "\n",
    "# Import Modules\n",
    "import PyUQTk.uqtkarray as uqtkarray\n",
    "import PyUQTk.quad as uqtkquad\n",
    "import PyUQTk.pce as uqtkpce\n",
    "import PyUQTk.tools as uqtktools\n",
    "import PyUQTk.lowrank as lr\n",
    "import PyUQTk.pce as uqtkpce\n",
    "\n",
    "import numpy as np\n",
    "\n",
    "from scipy.stats import qmc\n",
    "import PyUQTk.PyPCE.pce_tools as pce_tools"
   ]
  },
  {
   "cell_type": "code",
   "execution_count": 23,
   "id": "429dfc66-25c3-4c31-b056-1b5be786f7bc",
   "metadata": {},
   "outputs": [],
   "source": [
    "#xfile = xdata.dat\n",
    "#yfile = ydata.dat\n",
    "basistype = \"PC\"\n",
    "intpar = 4\n",
    "rank = 4\n",
    "maxiter = 4\n",
    "strpar = 50\n",
    "meth = \"lsq\"\n",
    "\n",
    "lflag=False\n",
    "vflag=False\n",
    "\n",
    "nx = 10\n",
    "ndim = 2"
   ]
  },
  {
   "cell_type": "code",
   "execution_count": 37,
   "id": "5eef3298-5b1b-4831-8923-63ef947a05eb",
   "metadata": {},
   "outputs": [],
   "source": [
    "rng = qmc.LatinHypercube(d=ndim, seed=42)\n",
    "\n",
    "\n",
    "x_np = 2*rng.random(n=nx)-1\n",
    "poly=uqtkpce.PCSet(\"NISPnoq\", rank, ndim, 'LU', 1.0, 0.0)\n",
    "coef=np.array([i+1 for i in range(poly.GetNumberPCTerms())])\n",
    "y_np = pce_tools.UQTkEvaluatePCE(poly, coef, x_np)"
   ]
  },
  {
   "cell_type": "code",
   "execution_count": 38,
   "id": "920c91c2-9595-48e1-9640-f3b9d38b6307",
   "metadata": {},
   "outputs": [],
   "source": [
    "# empty array for training data\n",
    "xdata=uqtkarray.dblArray2D(nx, ndim) #Nxd training samples\n",
    "xdata=uqtkarray.numpy2uqtk(np.asfortranarray(x_np))\n",
    "\n",
    "#Read true function evaluation\n",
    "ydata=uqtkarray.dblArray1D(nx,0.e0)\n",
    "ydata=uqtkarray.numpy2uqtk(np.asfortranarray(y_np))\n",
    "\n",
    "yapprox=uqtkarray.dblArray1D(nx, 0.e0) # keep empty\n",
    "error=uqtkarray.dblArray1D(nx, 0.e0)   # keep empty\n",
    "\n",
    "#Sanity checks\n",
    "ny = ydata.XSize()\n",
    "if(nx != ny):\n",
    "    print(\"Number of input samples is not the same as output samples. Exiting.\\n\")"
   ]
  },
  {
   "cell_type": "code",
   "execution_count": null,
   "id": "b6df194b-0a1a-4eff-a34b-843f81130bdd",
   "metadata": {},
   "outputs": [],
   "source": [
    "## Declare tensor object\n",
    "f = lr.CanonicalTensor()"
   ]
  },
  {
   "cell_type": "code",
   "execution_count": 39,
   "id": "77e6ee0c-3fae-4cb8-80c9-f1bda659a98a",
   "metadata": {},
   "outputs": [
    {
     "ename": "TypeError",
     "evalue": "__init__(): incompatible constructor arguments. The following argument types are supported:\n    1. _lowrank.PCBases(arg0: Array1D<std::__cxx11::basic_string<char, std::char_traits<char>, std::allocator<char> > >, arg1: _uqtkarray.intArray1D)\n\nInvoked with: <_uqtkarray.intArray1D object at 0x7ff1edfdc730>, <_uqtkarray.intArray1D object at 0x7ff1ee419fb0>\n\nDid you forget to `#include <pybind11/stl.h>`? Or <pybind11/complex.h>,\n<pybind11/functional.h>, <pybind11/chrono.h>, etc. Some automatic\nconversions are optional and require extra headers to be included\nwhen compiling your pybind11 module.",
     "output_type": "error",
     "traceback": [
      "\u001b[0;31m---------------------------------------------------------------------------\u001b[0m",
      "\u001b[0;31mTypeError\u001b[0m                                 Traceback (most recent call last)",
      "Input \u001b[0;32mIn [39]\u001b[0m, in \u001b[0;36m<cell line: 12>\u001b[0;34m()\u001b[0m\n\u001b[1;32m     13\u001b[0m     baseOrder\u001b[38;5;241m=\u001b[39muqtkarray\u001b[38;5;241m.\u001b[39mintArray1D(ndim,order)\n\u001b[1;32m     14\u001b[0m     pctype \u001b[38;5;241m=\u001b[39m uqtkarray\u001b[38;5;241m.\u001b[39mintArray1D(ndim, strpar)\n\u001b[0;32m---> 15\u001b[0m     newBase \u001b[38;5;241m=\u001b[39m \u001b[43mlr\u001b[49m\u001b[38;5;241;43m.\u001b[39;49m\u001b[43mPCBases\u001b[49m\u001b[43m(\u001b[49m\u001b[43mpctype\u001b[49m\u001b[43m,\u001b[49m\u001b[43m \u001b[49m\u001b[43mbaseOrder\u001b[49m\u001b[43m)\u001b[49m\n\u001b[1;32m     16\u001b[0m     testFArr0 \u001b[38;5;241m=\u001b[39m newBase\n\u001b[1;32m     17\u001b[0m \u001b[38;5;28;01melif\u001b[39;00m(basistype\u001b[38;5;241m==\u001b[39m\u001b[38;5;124m\"\u001b[39m\u001b[38;5;124mPOL\u001b[39m\u001b[38;5;124m\"\u001b[39m):\n",
      "\u001b[0;31mTypeError\u001b[0m: __init__(): incompatible constructor arguments. The following argument types are supported:\n    1. _lowrank.PCBases(arg0: Array1D<std::__cxx11::basic_string<char, std::char_traits<char>, std::allocator<char> > >, arg1: _uqtkarray.intArray1D)\n\nInvoked with: <_uqtkarray.intArray1D object at 0x7ff1edfdc730>, <_uqtkarray.intArray1D object at 0x7ff1ee419fb0>\n\nDid you forget to `#include <pybind11/stl.h>`? Or <pybind11/complex.h>,\n<pybind11/functional.h>, <pybind11/chrono.h>, etc. Some automatic\nconversions are optional and require extra headers to be included\nwhen compiling your pybind11 module."
     ]
    }
   ],
   "source": [
    "####### FunctionalBases*--how can i find out what this is\n",
    "####### Array1D<string> --is there a function that allows me to create this in python\n",
    "\n",
    "## Initialize an array of functional bases\n",
    "testFArr1=uqtkarray.intArray1D()\n",
    "#Array1D<FunctionalBases* > testFArr(1)\n",
    "order = 4\n",
    "\n",
    "# Set type of basis (PC or PL) in each dimension\n",
    "#FunctionalBases *newBase;\n",
    "\n",
    "if (basistype==\"PC\"):\n",
    "    baseOrder = uqtkarray.intArray1D(ndim,order)\n",
    "    pctype = uqtkarray.intArray1D(ndim, strpar)\n",
    "    newBase = lr.PCBases(pctype, baseOrder)\n",
    "    testFArr[0] = newBase\n",
    "    \n",
    "# elif(basistype==\"POL\"):\n",
    "#     baseOrder=uqtkarray.intArray(ndim,order)\n",
    "#     newBase = lr.PLBases(baseOrder)\n",
    "#     testFArr0 = newBase\n",
    "# else:\n",
    "#     print(\"Basistype %s is not recognized, should be PC or POL.\",basistype)"
   ]
  },
  {
   "cell_type": "code",
   "execution_count": null,
   "id": "25bba5fa-36d2-4e6d-8275-b7ff3de53a6e",
   "metadata": {},
   "outputs": [],
   "source": [
    "### what is testFArr--it has FunctionalBases and newbase in it\n",
    "# it an array with the length of the prder of the CanonicalTensor"
   ]
  },
  {
   "cell_type": "code",
   "execution_count": null,
   "id": "1d24452d-83e8-4f88-a70d-8f55c5f3fda6",
   "metadata": {},
   "outputs": [],
   "source": [
    "# Initialize algorithm\n",
    "s = lr.CanonicalTensorALSLeastSquares()\n",
    "s.setBases(testFArr)\n",
    "s.setIteration(maxiter)\n",
    "\n",
    "\n",
    "#Set the regularization parameter\n",
    "if (lflag):\n",
    "    lmbda = dblpar\n",
    "    s.setLambda(lmbda)\n",
    "\n",
    "# Loop over one to rank\n",
    "for r in range(1, rank+1):\n",
    "    s.setRank(r)\n",
    "    f = s.solveDirect(xdata, ydata, vflag) # gives info back to CT, f\n",
    "\n",
    "    fun = lr.FunctionalTensor(f,testFArr) # makes a functional tensor, fun\n",
    "\n",
    "yapprox = fun.tensorEval(xdata)\n",
    "error = subtract(ydata,yapprox)\n",
    "\n",
    "print(\"Norm of the error for rank %d approximation = %e\\n\",r,(norm(error)/norm(ydata)));"
   ]
  },
  {
   "cell_type": "code",
   "execution_count": null,
   "id": "08bac4b8-8362-44ba-8fb5-176ce92b052d",
   "metadata": {},
   "outputs": [],
   "source": []
  }
 ],
 "metadata": {
  "kernelspec": {
   "display_name": "Python 3 (ipykernel)",
   "language": "python",
   "name": "python3"
  },
  "language_info": {
   "codemirror_mode": {
    "name": "ipython",
    "version": 3
   },
   "file_extension": ".py",
   "mimetype": "text/x-python",
   "name": "python",
   "nbconvert_exporter": "python",
   "pygments_lexer": "ipython3",
   "version": "3.9.12"
  }
 },
 "nbformat": 4,
 "nbformat_minor": 5
}
