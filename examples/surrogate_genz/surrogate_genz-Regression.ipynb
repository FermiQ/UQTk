{
 "cells": [
  {
   "cell_type": "markdown",
   "id": "c32c8012-f3bf-4f96-9aff-e8b20eca1ec7",
   "metadata": {},
   "source": [
    "# Surrogate Construction for Genz Functions: Regression"
   ]
  },
  {
   "cell_type": "markdown",
   "id": "6e289260-b35a-4113-90d9-6f0c2eb4bc92",
   "metadata": {},
   "source": [
    "This notebook constructs a PC surrogate for Genz functions using full and sparse quadrature and gives the normalized root mean square error between the surrogate and the actual function. The Genz functions are defined on [-1,1]."
   ]
  },
  {
   "cell_type": "code",
   "execution_count": 1,
   "id": "f74bf835-9ef7-452b-85cc-7fd3ebbe7dd3",
   "metadata": {},
   "outputs": [
    {
     "name": "stdout",
     "output_type": "stream",
     "text": [
      "PyMC is required for some of the MCMC postprocessing codes.\n",
      "Will proceed without, but some convergence tests will not be available.\n"
     ]
    }
   ],
   "source": [
    "import numpy as np\n",
    "import math  \n",
    "from scipy.stats import qmc\n",
    "import pandas as pd\n",
    "\n",
    "import PyUQTk.pce as uqtkpce\n",
    "import PyUQTk.PyPCE.pce_tools as pce_tools\n",
    "from PyUQTk.utils.func import *"
   ]
  },
  {
   "cell_type": "markdown",
   "id": "532e0f3a-c607-4877-b64f-4a9cf1c40556",
   "metadata": {},
   "source": [
    "## Inputs"
   ]
  },
  {
   "cell_type": "code",
   "execution_count": 2,
   "id": "aa0bbccd-c5e7-40ab-a720-9ccf740514e9",
   "metadata": {},
   "outputs": [],
   "source": [
    "nord = 8            # Order of the PCE\n",
    "pc_type = \"LU\"      # Polynomial type\n",
    "pc_alpha = 0.0      # Free parameter > -1 for Gamma-Laguerre and Beta-Jacobi PCs\n",
    "pc_beta = 1.0       # Free parameter > -1 for Gamma-Laguerre and Beta-Jacobi PCs\n",
    "param = nord+1      # Number of quadrature points per dimension for full quadrature or level for sparse quadrature\n",
    "ndim = 2            # Number of dimensions\n",
    "model= 'genz_osc'   # Choices are 'genz_osc', 'genz_exp', 'genz_cont','genz_gaus','genz_cpeak', 'genz_ppeak'"
   ]
  },
  {
   "cell_type": "markdown",
   "id": "f1f3b934-eba7-4981-9e95-6ab6c2a8d0a6",
   "metadata": {},
   "source": [
    "We first define a PC object. for regression and then get a collection of random sample points in [-1,1]."
   ]
  },
  {
   "cell_type": "code",
   "execution_count": 3,
   "id": "2921be71-89ae-49d2-829c-c6dcb9d8f0c8",
   "metadata": {},
   "outputs": [],
   "source": [
    "pc_model = uqtkpce.PCSet(\"NISPnoq\", nord, ndim, pc_type, pc_alpha, pc_beta)"
   ]
  },
  {
   "cell_type": "markdown",
   "id": "b5b47da6-0ee2-4638-a75d-8650f87808ff",
   "metadata": {},
   "source": [
    "Then, we generate training and testing data."
   ]
  },
  {
   "cell_type": "code",
   "execution_count": 4,
   "id": "dd118a31-830b-4894-b187-e7d38d313c66",
   "metadata": {},
   "outputs": [],
   "source": [
    "# Random generator\n",
    "rng = qmc.LatinHypercube(d=ndim, seed=42)\n",
    "\n",
    "# Training\n",
    "nTrain=int(2*pc_model.GetNumberPCTerms())\n",
    "x_train = 2*rng.random(n=nTrain)-1 #draw n samples from [-1,1]\n",
    "y_train = func(x_train,model,np.ones(ndim+1))\n",
    "\n",
    "# Testing\n",
    "nTest=10000\n",
    "x_test=2*rng.random(n=nTest)-1\n",
    "y_test=func(x_test,model,np.ones(ndim+1))"
   ]
  },
  {
   "cell_type": "markdown",
   "id": "aeea0099-04f0-4061-aa20-176aa13572c3",
   "metadata": {},
   "source": [
    "Then, we use regression to find the PC coefficients and evaluate the PC at the testing points. The error between these evaluations and the actual model is determined."
   ]
  },
  {
   "cell_type": "code",
   "execution_count": 5,
   "id": "a2cfc58d-66fa-497f-aaac-2cbe5c1d62f5",
   "metadata": {},
   "outputs": [
    {
     "name": "stdout",
     "output_type": "stream",
     "text": [
      "The NRMS error between a 2 -dimensional genz_osc function and a regression-based PC surrogate of order 8 is\n"
     ]
    },
    {
     "data": {
      "text/plain": [
       "8.441105764360879e-11"
      ]
     },
     "execution_count": 5,
     "metadata": {},
     "output_type": "execute_result"
    }
   ],
   "source": [
    "#Regression\n",
    "c_k = pce_tools.UQTkRegression(pc_model, y_train, x_train)\n",
    "\n",
    "# Validation points\n",
    "pce_evals = pce_tools.UQTkEvaluatePCE(pc_model, c_k, x_test)\n",
    "\n",
    "#Error\n",
    "MSE = np.square(np.subtract(y_test,pce_evals)).mean()\n",
    "RMSE=math.sqrt(MSE)\n",
    "\n",
    "print(\"The NRMS error between a\", ndim, \"-dimensional\", model, \"function and a regression-based PC surrogate of \\\n",
    "order\", nord, \"is\")\n",
    "RMSE/np.linalg.norm(y_test)"
   ]
  }
 ],
 "metadata": {
  "kernelspec": {
   "display_name": "Python 3 (ipykernel)",
   "language": "python",
   "name": "python3"
  },
  "language_info": {
   "codemirror_mode": {
    "name": "ipython",
    "version": 3
   },
   "file_extension": ".py",
   "mimetype": "text/x-python",
   "name": "python",
   "nbconvert_exporter": "python",
   "pygments_lexer": "ipython3",
   "version": "3.9.12"
  }
 },
 "nbformat": 4,
 "nbformat_minor": 5
}
