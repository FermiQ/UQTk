{
 "cells": [
  {
   "cell_type": "markdown",
   "id": "39bfcf31-3e50-48bb-bffd-560189b6d471",
   "metadata": {},
   "source": [
    "# BCS Testing"
   ]
  },
  {
   "cell_type": "code",
   "execution_count": 1,
   "id": "fd6df840-efd3-4f4f-9263-4e7e51cd0160",
   "metadata": {},
   "outputs": [
    {
     "name": "stdout",
     "output_type": "stream",
     "text": [
      "PyMC is required for some of the MCMC postprocessing codes.\n",
      "Will proceed without, but some convergence tests will not be available.\n"
     ]
    }
   ],
   "source": [
    "# imports\n",
    "import numpy as np\n",
    "from scipy.stats import qmc\n",
    "\n",
    "import PyUQTk.uqtkarray as uqtkarray\n",
    "import PyUQTk.pce as uqtkpce\n",
    "import PyUQTk.PyPCE.pce_tools as pce_tools\n",
    "\n",
    "import bcs as bcs"
   ]
  },
  {
   "cell_type": "markdown",
   "id": "52ebc187-222c-4d38-bde2-20e6b4964e26",
   "metadata": {},
   "source": [
    "## Inputs"
   ]
  },
  {
   "cell_type": "code",
   "execution_count": 2,
   "id": "ef7db376-98d0-4e7c-859a-2b81e88af662",
   "metadata": {},
   "outputs": [],
   "source": [
    "nord = 3\n",
    "ndim = 2\n",
    "param = 6 # quad points per dimension for full, or level for sparse\n",
    "pc_type=\"LU\"\n",
    "quad_type='sparse'\n",
    "pc_alpha = 0.0      # Free parameter > -1 for Gamma-Laguerre and Beta-Jacobi PCs\n",
    "pc_beta = 1.0       # Free parameter > -1 for Gamma-Laguerre and Beta-Jacobi PCs"
   ]
  },
  {
   "cell_type": "markdown",
   "id": "8dc92216-e3f2-4f71-ba1e-67e2c1fc6cad",
   "metadata": {},
   "source": [
    "## Initialize PC"
   ]
  },
  {
   "cell_type": "code",
   "execution_count": 3,
   "id": "d2b82f7e-f30c-4160-b4bb-39829474049f",
   "metadata": {},
   "outputs": [],
   "source": [
    "pc_model = uqtkpce.PCSet(\"NISPnoq\", nord, ndim, pc_type, pc_alpha, pc_beta)"
   ]
  },
  {
   "cell_type": "markdown",
   "id": "88a8e963-9fa9-4eae-90a1-9dac01cc247e",
   "metadata": {},
   "source": [
    "## Training points"
   ]
  },
  {
   "cell_type": "code",
   "execution_count": 4,
   "id": "aaf6b25f-b5c8-4318-b8b6-4b96a741fce1",
   "metadata": {},
   "outputs": [],
   "source": [
    "if False:\n",
    "# quad points\n",
    "    pc_model.SetQuadRule(pc_type, quad_type, param)\n",
    "    samplepts, totquat= pce_tools.UQTkGetQuadPoints(pc_model)\n",
    "if True:\n",
    "# random LHS\n",
    "    npce=pc_model.GetNumberPCTerms()\n",
    "    nTest=npce\n",
    "    rng = qmc.LatinHypercube(d=ndim, seed=42)\n",
    "    samplepts=2*rng.random(n=nTest)-1"
   ]
  },
  {
   "cell_type": "markdown",
   "id": "5def4326-6c5a-47e0-b5f8-768c12f3d755",
   "metadata": {},
   "source": [
    "## BSC Inputs"
   ]
  },
  {
   "cell_type": "code",
   "execution_count": 5,
   "id": "f5749236-550d-4092-9c9e-d68bbf840436",
   "metadata": {},
   "outputs": [],
   "source": [
    "sigma = np.array([1.e-08]) # inital noise variance; updated in BCS\n",
    "eta = 1e-8                           # threshold for stopping the algorithm\n",
    "lambda_init = np.array([]) # set lambda to a fixed nonnegative value\n",
    "\n",
    "scale = 0.1     # diagonal loading parameter\n",
    "adaptive = 1    # generative basis for adaptive CS, 0 or 1\n",
    "optimal = 1     # use the rigorous implementation of adaptive CS, 0 or 1\n",
    "verbose = 0     # print statements, 0 or 1"
   ]
  },
  {
   "cell_type": "markdown",
   "id": "25372eed-9afb-4564-81f6-89381fddb242",
   "metadata": {},
   "source": [
    "## Define coefficients"
   ]
  },
  {
   "cell_type": "code",
   "execution_count": 6,
   "id": "7c183836-bad9-46bc-a620-418bc92788f4",
   "metadata": {},
   "outputs": [],
   "source": [
    "npce=pc_model.GetNumberPCTerms()\n",
    "coef=np.array([i+1 for i in range(npce)])\n",
    "\n",
    "f_evals=pce_tools.UQTkEvaluatePCE(pc_model, coef, samplepts)"
   ]
  },
  {
   "cell_type": "code",
   "execution_count": 7,
   "id": "1a51bd3b-de87-4f21-a298-fcec9b454ad0",
   "metadata": {},
   "outputs": [
    {
     "name": "stdout",
     "output_type": "stream",
     "text": [
      "Iteration # 0\n",
      "Iteration # 10\n"
     ]
    }
   ],
   "source": [
    "c_k=pce_tools.UQTkBCS(pc_model, f_evals, samplepts, sigma, eta, lambda_init, adaptive, optimal, scale)"
   ]
  },
  {
   "cell_type": "code",
   "execution_count": 8,
   "id": "4539e985-fa01-48b5-8ad2-0cf89a536e38",
   "metadata": {},
   "outputs": [],
   "source": [
    "# What goes into the BCS function\n",
    "# pce_tools.UQTkBSC()\n",
    "\n",
    "#make quadpoints into uqtk\n",
    "#x=uqtkarray.dblArray2D()\n",
    "#x=uqtkarray.numpy2uqtk(np.asfortranarray(qdpts))\n",
    "\n",
    "#eval basis at the quad points\n",
    "#Phi = uqtkarray.dblArray2D()\n",
    "#pc_model.EvalBasisAtCustPts(x,Phi)\n",
    "\n",
    "#make uqtkarray for evals\n",
    "#y=uqtkarray.dblArray2D()\n",
    "#y = uqtkarray.numpy2uqtk(np.asfortranarray(evals))\n",
    "\n",
    "# create output arrays\n",
    "#weights = uqtkarray.dblArray1D()      # sparse weights\n",
    "#used = uqtkarray.intArray1D()         # position of the sparse weights\n",
    "#errbars = uqtkarray.dblArray1D()      # one standard deviation around the sparse weights\n",
    "#basis = uqtkarray.dblArray1D()        # if adaptive==1, basis = next projection vector\n",
    "#alpha = uqtkarray.dblArray1D()        # sparse hyperparameters (1/gamma)\n",
    "#_lambda = uqtkarray.dblArray1D(1,0.0) # parameter controlling the sparsity\n",
    "\n",
    "#bcs.BCS(Phi,y,sigma,eta,lambda_init,adaptive,optimal,scale,verbose,weights,used,errbars,basis,alpha,_lambda)\n",
    "\n",
    "#coef2=np.zeros(npce)\n",
    "#for i in range(npce):\n",
    " #   pos = used[i]\n",
    "  #  coef2[pos]=weights[i]"
   ]
  },
  {
   "cell_type": "code",
   "execution_count": 9,
   "id": "1a2e15c3-7fc3-4bbd-badf-c8cdbd77d592",
   "metadata": {},
   "outputs": [
    {
     "data": {
      "text/html": [
       "<div>\n",
       "<style scoped>\n",
       "    .dataframe tbody tr th:only-of-type {\n",
       "        vertical-align: middle;\n",
       "    }\n",
       "\n",
       "    .dataframe tbody tr th {\n",
       "        vertical-align: top;\n",
       "    }\n",
       "\n",
       "    .dataframe thead th {\n",
       "        text-align: right;\n",
       "    }\n",
       "</style>\n",
       "<table border=\"1\" class=\"dataframe\">\n",
       "  <thead>\n",
       "    <tr style=\"text-align: right;\">\n",
       "      <th></th>\n",
       "      <th>bcs</th>\n",
       "      <th>actual</th>\n",
       "    </tr>\n",
       "  </thead>\n",
       "  <tbody>\n",
       "    <tr>\n",
       "      <th>0</th>\n",
       "      <td>1.000000</td>\n",
       "      <td>1.0</td>\n",
       "    </tr>\n",
       "    <tr>\n",
       "      <th>1</th>\n",
       "      <td>1.999999</td>\n",
       "      <td>2.0</td>\n",
       "    </tr>\n",
       "    <tr>\n",
       "      <th>2</th>\n",
       "      <td>2.999999</td>\n",
       "      <td>3.0</td>\n",
       "    </tr>\n",
       "    <tr>\n",
       "      <th>3</th>\n",
       "      <td>4.000000</td>\n",
       "      <td>4.0</td>\n",
       "    </tr>\n",
       "    <tr>\n",
       "      <th>4</th>\n",
       "      <td>5.000000</td>\n",
       "      <td>5.0</td>\n",
       "    </tr>\n",
       "    <tr>\n",
       "      <th>5</th>\n",
       "      <td>6.000000</td>\n",
       "      <td>6.0</td>\n",
       "    </tr>\n",
       "    <tr>\n",
       "      <th>6</th>\n",
       "      <td>6.999999</td>\n",
       "      <td>7.0</td>\n",
       "    </tr>\n",
       "    <tr>\n",
       "      <th>7</th>\n",
       "      <td>7.999997</td>\n",
       "      <td>8.0</td>\n",
       "    </tr>\n",
       "    <tr>\n",
       "      <th>8</th>\n",
       "      <td>8.999997</td>\n",
       "      <td>9.0</td>\n",
       "    </tr>\n",
       "    <tr>\n",
       "      <th>9</th>\n",
       "      <td>9.999999</td>\n",
       "      <td>10.0</td>\n",
       "    </tr>\n",
       "  </tbody>\n",
       "</table>\n",
       "</div>"
      ],
      "text/plain": [
       "        bcs  actual\n",
       "0  1.000000     1.0\n",
       "1  1.999999     2.0\n",
       "2  2.999999     3.0\n",
       "3  4.000000     4.0\n",
       "4  5.000000     5.0\n",
       "5  6.000000     6.0\n",
       "6  6.999999     7.0\n",
       "7  7.999997     8.0\n",
       "8  8.999997     9.0\n",
       "9  9.999999    10.0"
      ]
     },
     "execution_count": 9,
     "metadata": {},
     "output_type": "execute_result"
    }
   ],
   "source": [
    "import pandas as pd\n",
    "pd.DataFrame(data=np.transpose([c_k, coef]), columns=['bcs', 'actual'])"
   ]
  }
 ],
 "metadata": {
  "kernelspec": {
   "display_name": "Python 3 (ipykernel)",
   "language": "python",
   "name": "python3"
  },
  "language_info": {
   "codemirror_mode": {
    "name": "ipython",
    "version": 3
   },
   "file_extension": ".py",
   "mimetype": "text/x-python",
   "name": "python",
   "nbconvert_exporter": "python",
   "pygments_lexer": "ipython3",
   "version": "3.9.12"
  }
 },
 "nbformat": 4,
 "nbformat_minor": 5
}
