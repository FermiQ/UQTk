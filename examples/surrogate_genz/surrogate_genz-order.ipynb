{
 "cells": [
  {
   "cell_type": "markdown",
   "id": "c32c8012-f3bf-4f96-9aff-e8b20eca1ec7",
   "metadata": {},
   "source": [
    "# Surrogate Construction for Genz Functions\n",
    "## As a function of PC order"
   ]
  },
  {
   "cell_type": "markdown",
   "id": "6e289260-b35a-4113-90d9-6f0c2eb4bc92",
   "metadata": {},
   "source": [
    "This notebook constructs a PC surrogate for Genz functions using full and sparse quadrature and gives the root mean square error between the surrogate and the actual function."
   ]
  },
  {
   "cell_type": "code",
   "execution_count": 1,
   "id": "f74bf835-9ef7-452b-85cc-7fd3ebbe7dd3",
   "metadata": {},
   "outputs": [
    {
     "name": "stdout",
     "output_type": "stream",
     "text": [
      "PyMC is required for some of the MCMC postprocessing codes.\n",
      "Will proceed without, but some convergence tests will not be available.\n"
     ]
    }
   ],
   "source": [
    "# imports\n",
    "import numpy as np\n",
    "import math  \n",
    "import matplotlib.pyplot as plt\n",
    "import pandas as pd\n",
    "\n",
    "import PyUQTk.pce as uqtkpce\n",
    "import PyUQTk.PyPCE.pce_tools as pce_tools\n",
    "from PyUQTk.utils.func import *"
   ]
  },
  {
   "cell_type": "markdown",
   "id": "2a738a9c-0788-4813-87b0-3b46959a1866",
   "metadata": {},
   "source": [
    "## Inputs"
   ]
  },
  {
   "cell_type": "code",
   "execution_count": 2,
   "id": "29c32327-c82d-4663-8114-3eae87c27dde",
   "metadata": {},
   "outputs": [],
   "source": [
    "max_nord = 6        # Order of the PCE\n",
    "pc_type = \"HG\"      # Polynomial type\n",
    "pc_alpha = 0.0      # Free parameter > -1 for Gamma-Laguerre and Beta-Jacobi PCs\n",
    "pc_beta = 1.0       # Free parameter > -1 for Gamma-Laguerre and Beta-Jacobi PCs\n",
    "nSam = 100000       # Number of random samples\n",
    "ndim = 2            # Number of dimensions\n",
    "model= 'genz_osc'   # Choices are 'genz_osc', 'genz_exp', 'genz_cont','genz_gaus','genz_cpeak', 'genz_ppeak'  "
   ]
  },
  {
   "cell_type": "markdown",
   "id": "5cd2818b-3b5c-41a3-83a2-b3760ab3c9e3",
   "metadata": {},
   "source": [
    "We define the range of PC orders points we will be using."
   ]
  },
  {
   "cell_type": "code",
   "execution_count": 3,
   "id": "e309c003-b881-4f15-9ea7-eff3bbe168ef",
   "metadata": {},
   "outputs": [],
   "source": [
    "num_nord=range(1,max_nord+1)\n",
    "tot_ord=[i for i in num_nord]"
   ]
  },
  {
   "cell_type": "markdown",
   "id": "b207d7cc-ddb6-47bc-a1f2-ea4d60de37a8",
   "metadata": {},
   "source": [
    "## Full Quadrature\n",
    "We loop through different PC orders for full quadrature and obtain the RMSE for each."
   ]
  },
  {
   "cell_type": "code",
   "execution_count": 4,
   "id": "f277f835-ac6f-4aaf-aec9-dd6282bba4e7",
   "metadata": {},
   "outputs": [],
   "source": [
    "q_errors=[] #list to store quad errors\n",
    "\n",
    "#Loop though different PC orders\n",
    "for nord_i in num_nord:\n",
    "    param = nord_i +1     # Number of quadrature points per dimension for full quadrature or level for sparse quadrature\n",
    "    pc_model = uqtkpce.PCSet(\"NISPnoq\", nord_i, ndim, pc_type, pc_alpha, pc_beta)\n",
    "    pc_model.SetQuadRule(pc_type, 'full', param) # set full or sparse\n",
    "    qdpts, totquat= pce_tools.UQTkGetQuadPoints(pc_model)\n",
    "    f_evals=func(qdpts,model,np.ones(ndim+1))\n",
    "    \n",
    "    if (coef==\"regression\"):\n",
    "        c_k = pce_tools.UQTkRegression(pc_model, f_evals)\n",
    "    elif (coef==\"galerkin\"):\n",
    "        c_k = pce_tools.UQTkGalerkinProjection(pc_model,f_evals)\n",
    "    else:\n",
    "        print(\"Invalid coef chosen. Galerkin projection is used by deafult.)\n",
    "        c_k = pce_tools.UQTkGalerkinProjection(pc_model,f_evals)\n",
    "    \n",
    "    germ_samples=np.random.normal(0,1, (nSam,ndim))\n",
    "    pce_evals=pce_tools.UQTkEvaluatePCE(pc_model,c_k,germ_samples)\n",
    "    f_actual=func(germ_samples,model,np.ones(ndim+1))\n",
    "    MSE = np.square(np.subtract(f_actual,pce_evals)).mean()\n",
    "    RMSE=math.sqrt(MSE)\n",
    "    q_errors.append(RMSE)"
   ]
  },
  {
   "cell_type": "markdown",
   "id": "20f376ad-6ba3-4c7c-9db6-115e1e852e6d",
   "metadata": {},
   "source": [
    "## Sparse Quadrature\n",
    "We repeat the process for sparse quadrature."
   ]
  },
  {
   "cell_type": "code",
   "execution_count": 5,
   "id": "03552da5-23c3-48ce-a2b1-7568f6ada15d",
   "metadata": {},
   "outputs": [],
   "source": [
    "q_errors2=[] #list to store quad errors\n",
    "\n",
    "#Loop though different values for number of quad points per dimension\n",
    "for nord_i in num_nord:\n",
    "    pc_model2 = uqtkpce.PCSet(\"NISPnoq\", nord_i, ndim, pc_type, pc_alpha, pc_beta)\n",
    "    pc_model2.SetQuadRule(pc_type, 'sparse', param)\n",
    "    qdpts2, totquat2= pce_tools.UQTkGetQuadPoints(pc_model2)\n",
    "    f_evals2=func(qdpts2, model, np.ones(ndim+1))\n",
    "    \n",
    "    c_k2 = pce_tools.UQTkGalerkinProjection(pc_model2,f_evals2)\n",
    "    \n",
    "    germ_samples2=np.random.normal(0,1, (nSam,ndim))\n",
    "    pce_evals2=pce_tools.UQTkEvaluatePCE(pc_model2,c_k2,germ_samples2)\n",
    "    f_actual2=func(germ_samples2,model,np.ones(ndim+1))\n",
    "    MSE2 = np.square(np.subtract(f_actual2,pce_evals2)).mean()\n",
    "    RMSE2=math.sqrt(MSE2)\n",
    "    q_errors2.append(RMSE2)"
   ]
  },
  {
   "cell_type": "markdown",
   "id": "4e767b9c-afa3-4fb1-9599-8c9199c513bc",
   "metadata": {},
   "source": [
    "## Summary\n",
    "The following table and figures compare full and sparse quadrature RMSEs as a function of the PC order."
   ]
  },
  {
   "cell_type": "code",
   "execution_count": 6,
   "id": "a69c63dd-4a2a-49bd-87f7-e4494f54c3fd",
   "metadata": {},
   "outputs": [
    {
     "data": {
      "text/html": [
       "<div>\n",
       "<style scoped>\n",
       "    .dataframe tbody tr th:only-of-type {\n",
       "        vertical-align: middle;\n",
       "    }\n",
       "\n",
       "    .dataframe tbody tr th {\n",
       "        vertical-align: top;\n",
       "    }\n",
       "\n",
       "    .dataframe thead th {\n",
       "        text-align: right;\n",
       "    }\n",
       "</style>\n",
       "<table border=\"1\" class=\"dataframe\">\n",
       "  <thead>\n",
       "    <tr style=\"text-align: right;\">\n",
       "      <th></th>\n",
       "      <th>nord</th>\n",
       "      <th>Full</th>\n",
       "      <th>Sparse</th>\n",
       "    </tr>\n",
       "  </thead>\n",
       "  <tbody>\n",
       "    <tr>\n",
       "      <th>0</th>\n",
       "      <td>1.0</td>\n",
       "      <td>0.181165</td>\n",
       "      <td>0.179065</td>\n",
       "    </tr>\n",
       "    <tr>\n",
       "      <th>1</th>\n",
       "      <td>2.0</td>\n",
       "      <td>0.098215</td>\n",
       "      <td>0.096717</td>\n",
       "    </tr>\n",
       "    <tr>\n",
       "      <th>2</th>\n",
       "      <td>3.0</td>\n",
       "      <td>0.023765</td>\n",
       "      <td>0.024841</td>\n",
       "    </tr>\n",
       "    <tr>\n",
       "      <th>3</th>\n",
       "      <td>4.0</td>\n",
       "      <td>0.009606</td>\n",
       "      <td>0.010283</td>\n",
       "    </tr>\n",
       "    <tr>\n",
       "      <th>4</th>\n",
       "      <td>5.0</td>\n",
       "      <td>0.004369</td>\n",
       "      <td>0.001765</td>\n",
       "    </tr>\n",
       "    <tr>\n",
       "      <th>5</th>\n",
       "      <td>6.0</td>\n",
       "      <td>0.000710</td>\n",
       "      <td>0.000624</td>\n",
       "    </tr>\n",
       "  </tbody>\n",
       "</table>\n",
       "</div>"
      ],
      "text/plain": [
       "   nord      Full    Sparse\n",
       "0   1.0  0.181165  0.179065\n",
       "1   2.0  0.098215  0.096717\n",
       "2   3.0  0.023765  0.024841\n",
       "3   4.0  0.009606  0.010283\n",
       "4   5.0  0.004369  0.001765\n",
       "5   6.0  0.000710  0.000624"
      ]
     },
     "execution_count": 6,
     "metadata": {},
     "output_type": "execute_result"
    }
   ],
   "source": [
    "pd.DataFrame(data=np.transpose([tot_ord,q_errors, q_errors2]), columns=[\"nord\", \"Full\", \"Sparse\"])"
   ]
  },
  {
   "cell_type": "code",
   "execution_count": 7,
   "id": "b406371e-b580-42ca-aa65-d3e7379b32ef",
   "metadata": {},
   "outputs": [
    {
     "data": {
      "image/png": "[encoded data removed]",
      "text/plain": [
       "<Figure size 720x720 with 1 Axes>"
      ]
     },
     "metadata": {
      "needs_background": "light"
     },
     "output_type": "display_data"
    }
   ],
   "source": [
    "#Create figure\n",
    "fig, ax = plt.subplots(figsize=(10,10))\n",
    "#Plot Quadrature Data\n",
    "plt.plot(tot_ord, q_errors, color='r', label='Full Quadrature')\n",
    "plt.plot(tot_ord, q_errors2, color='b', label='Sparse Quadrature')\n",
    "#Label Axes\n",
    "plt.xlabel(\"Order of the PCE\",fontsize=20)\n",
    "plt.ylabel(\"RMSE\",fontsize=20)\n",
    "#Create legend\n",
    "plt.legend(loc='lower left')\n",
    "\n",
    "#Model titles to be displayed\n",
    "if model==\"genz_osc\":\n",
    "    model_title=\"Genz Oscillatory\"\n",
    "elif model==\"genz_gaus\":\n",
    "    model_title=\"Genz Gaussian\"\n",
    "elif model==\"genz_ppeak\":\n",
    "    model_title=\"Genz Product-Peak\"\n",
    "elif model==\"genz_cpeak\":\n",
    "    model_title=\"Genz Corner-Peak\"\n",
    "elif model==\"genz_exp\":\n",
    "    model_title=\"Genz Exponential\"\n",
    "else:\n",
    "    model_title=\"Genz Continuous\"\n",
    "\n",
    "#Add title\n",
    "fig.suptitle(\"Comparison of Full and Sparse Quadrature\\nfor %s Model with\\\n",
    " Dimension %s\"%(model_title, str(ndim)), fontsize=22)\n",
    "#Make scales logarithmic\n",
    "plt.yscale('log')\n",
    "plt.xscale('log')\n",
    "#Change size of tick labels\n",
    "plt.tick_params(axis='both', labelsize=16)\n",
    "\n",
    "#Show figure\n",
    "plt.show() "
   ]
  }
 ],
 "metadata": {
  "kernelspec": {
   "display_name": "Python 3 (ipykernel)",
   "language": "python",
   "name": "python3"
  },
  "language_info": {
   "codemirror_mode": {
    "name": "ipython",
    "version": 3
   },
   "file_extension": ".py",
   "mimetype": "text/x-python",
   "name": "python",
   "nbconvert_exporter": "python",
   "pygments_lexer": "ipython3",
   "version": "3.9.12"
  }
 },
 "nbformat": 4,
 "nbformat_minor": 5
}
