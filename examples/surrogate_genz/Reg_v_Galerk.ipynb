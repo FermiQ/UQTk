{
 "cells": [
  {
   "cell_type": "markdown",
   "id": "6aa10178-21a0-4dab-89a8-90c550414a41",
   "metadata": {},
   "source": [
    "# Testing Regression vs. Galerkin Projection"
   ]
  },
  {
   "cell_type": "markdown",
   "id": "ac0ccc2a-9ab3-49a0-8521-bf7b4837bd3a",
   "metadata": {},
   "source": [
    "This script tests the accuracy of regression at different PC orders, dimensions, and number of training points."
   ]
  },
  {
   "cell_type": "code",
   "execution_count": 1,
   "id": "a3ccaab6-7604-4438-a5df-c500cfeb60c0",
   "metadata": {},
   "outputs": [
    {
     "name": "stdout",
     "output_type": "stream",
     "text": [
      "PyMC is required for some of the MCMC postprocessing codes.\n",
      "Will proceed without, but some convergence tests will not be available.\n"
     ]
    }
   ],
   "source": [
    "# Imports\n",
    "import numpy as np\n",
    "#import math\n",
    "from __future__ import print_function\n",
    "from scipy.stats import qmc\n",
    "\n",
    "import PyUQTk.pce as uqtkpce\n",
    "import PyUQTk.PyPCE.pce_tools as pce_tools\n",
    "#from PyUQTk.utils.func import *\n",
    "\n",
    "#import sys\n",
    "#sys.path.append('../pyuqtkarray/')\n",
    "#import PyUQTk.uqtkarray as uqtkarray\n",
    "\n",
    "#import polynomial\n",
    "\n",
    "import pandas as pd"
   ]
  },
  {
   "cell_type": "markdown",
   "id": "4e86d22f-e74b-4400-a240-765f7f73abef",
   "metadata": {},
   "source": [
    "## Inputs"
   ]
  },
  {
   "cell_type": "code",
   "execution_count": 2,
   "id": "482c71a2-7ec9-4fa7-a506-a970a9a9c936",
   "metadata": {},
   "outputs": [],
   "source": [
    "nord = 4            # Order of the PCE\n",
    "pc_type = \"LU\"      # Polynomial type\n",
    "pc_alpha = 0.0      # Free parameter > -1 for Gamma-Laguerre and Beta-Jacobi PCs\n",
    "pc_beta = 1.0       # Free parameter > -1 for Gamma-Laguerre and Beta-Jacobi PCs\n",
    "param = nord+1      # Number of quadrature points per dimension for full quadrature or level for sparse quadrature\n",
    "ndim = 5            # Number of dimensions"
   ]
  },
  {
   "cell_type": "markdown",
   "id": "8cbd531d-5201-4ce0-904f-2d8875103797",
   "metadata": {},
   "source": [
    "We use a pc set object to hold the polynomial we will use. We define our coefficients as a sequence from 1 to 10."
   ]
  },
  {
   "cell_type": "code",
   "execution_count": 3,
   "id": "bdd57f44-21d3-4c73-9448-a1161a615387",
   "metadata": {},
   "outputs": [
    {
     "data": {
      "text/plain": [
       "(126,)"
      ]
     },
     "execution_count": 3,
     "metadata": {},
     "output_type": "execute_result"
    }
   ],
   "source": [
    "poly = uqtkpce.PCSet(\"NISPnoq\", nord, ndim,pc_type, pc_alpha,pc_beta)\n",
    "npce=poly.GetNumberPCTerms()\n",
    "coef=np.array([i+1 for i in range(npce)])\n",
    "coef.shape"
   ]
  },
  {
   "cell_type": "markdown",
   "id": "09233783-8270-4f13-a042-892bfbe038d4",
   "metadata": {},
   "source": [
    "We use random testing points in [-1,1]."
   ]
  },
  {
   "cell_type": "code",
   "execution_count": 4,
   "id": "9f15cd50-1877-448e-8ad7-3f058fc589c0",
   "metadata": {},
   "outputs": [],
   "source": [
    "nTest=npce\n",
    "rng = qmc.LatinHypercube(d=ndim, seed=42)\n",
    "rand=2*rng.random(n=nTest)-1"
   ]
  },
  {
   "cell_type": "code",
   "execution_count": 5,
   "id": "b6d1b776-09f8-41a6-b01b-7af290de1475",
   "metadata": {},
   "outputs": [
    {
     "data": {
      "text/plain": [
       "(126,)"
      ]
     },
     "execution_count": 5,
     "metadata": {},
     "output_type": "execute_result"
    }
   ],
   "source": [
    "rng2 = np.random.default_rng()\n",
    "coef=(rng2.random(npce)*10)\n",
    "coef.shape"
   ]
  },
  {
   "cell_type": "markdown",
   "id": "a21b1b83-6281-4208-afea-ec4b7495796f",
   "metadata": {},
   "source": [
    "In order to test regression, we are creating a matrix\n",
    "Ax=b\n",
    "A is the evaluated basis\n",
    "where x are the coefficients,\n",
    "b are the evaluations of the polynomial.\n",
    "\n",
    "We create b, which is an array of evaluations of polynomial chaos expansion (a linear combination of the chosen polynomial types, using the chosen coefficients)."
   ]
  },
  {
   "cell_type": "code",
   "execution_count": 6,
   "id": "d75ebf76-2dea-46c0-884c-b02a40c977a7",
   "metadata": {},
   "outputs": [],
   "source": [
    "# Creating b\n",
    "b = pce_tools.UQTkEvaluatePCE(poly, coef, rand)"
   ]
  },
  {
   "cell_type": "markdown",
   "id": "ee1237ac-b52b-4033-92b8-2c712eb9ab24",
   "metadata": {},
   "source": [
    "We use regression to create an array of basis evaluations A and find x, our coefficients. If done correctly, x should be the array we originally chose."
   ]
  },
  {
   "cell_type": "code",
   "execution_count": 7,
   "id": "f9b690be-63ba-481a-88ed-a63cdfe92d5e",
   "metadata": {},
   "outputs": [],
   "source": [
    "# Regression creates A and finds x\n",
    "c_k=pce_tools.UQTkRegression(poly, b, rand)"
   ]
  },
  {
   "cell_type": "markdown",
   "id": "8977ba44-91f1-4e6e-9a13-c079fecd0746",
   "metadata": {},
   "source": [
    "Was the regression test successful? Select a decimal place to compare answers to"
   ]
  },
  {
   "cell_type": "code",
   "execution_count": 8,
   "id": "4730ebda-3eec-4ea2-80dc-aebf4226daf9",
   "metadata": {},
   "outputs": [
    {
     "data": {
      "text/plain": [
       "True"
      ]
     },
     "execution_count": 8,
     "metadata": {},
     "output_type": "execute_result"
    }
   ],
   "source": [
    "dec_place=5\n",
    "reg=(np.round(c_k, dec_place)==np.round(coef, dec_place))\n",
    "(all(reg) and reg[0]==True)"
   ]
  },
  {
   "cell_type": "markdown",
   "id": "fbdf5491-87f2-4fd1-bd0a-1bbea73ddc60",
   "metadata": {},
   "source": [
    "Galerkin projection should produce the original coefficients as well."
   ]
  },
  {
   "cell_type": "code",
   "execution_count": 9,
   "id": "2e71cd9d-3ca3-4eb8-901c-31a4aefa8362",
   "metadata": {},
   "outputs": [],
   "source": [
    "#Galerkin for comparison\n",
    "pc_model = uqtkpce.PCSet(\"NISPnoq\", nord, ndim,pc_type, pc_alpha,pc_beta)\n",
    "#coef=np.array([i+1 for i in range(npce)])\n",
    "\n",
    "pc_model.SetQuadRule(pc_type, 'full', param)\n",
    "qdpts, totquat= pce_tools.UQTkGetQuadPoints(pc_model)\n",
    "f_evals=pce_tools.UQTkEvaluatePCE(pc_model, coef, qdpts)\n",
    "\n",
    "c_k2 = pce_tools.UQTkGalerkinProjection(pc_model,f_evals)"
   ]
  },
  {
   "cell_type": "code",
   "execution_count": 10,
   "id": "0365103a-56ab-4b4a-a317-b19d44938dd2",
   "metadata": {},
   "outputs": [
    {
     "data": {
      "text/html": [
       "<div>\n",
       "<style scoped>\n",
       "    .dataframe tbody tr th:only-of-type {\n",
       "        vertical-align: middle;\n",
       "    }\n",
       "\n",
       "    .dataframe tbody tr th {\n",
       "        vertical-align: top;\n",
       "    }\n",
       "\n",
       "    .dataframe thead th {\n",
       "        text-align: right;\n",
       "    }\n",
       "</style>\n",
       "<table border=\"1\" class=\"dataframe\">\n",
       "  <thead>\n",
       "    <tr style=\"text-align: right;\">\n",
       "      <th></th>\n",
       "      <th>Regression</th>\n",
       "      <th>Galerkin</th>\n",
       "      <th>coef</th>\n",
       "    </tr>\n",
       "  </thead>\n",
       "  <tbody>\n",
       "    <tr>\n",
       "      <th>0</th>\n",
       "      <td>1.390146</td>\n",
       "      <td>1.390146</td>\n",
       "      <td>1.390146</td>\n",
       "    </tr>\n",
       "    <tr>\n",
       "      <th>1</th>\n",
       "      <td>3.356956</td>\n",
       "      <td>3.356956</td>\n",
       "      <td>3.356956</td>\n",
       "    </tr>\n",
       "    <tr>\n",
       "      <th>2</th>\n",
       "      <td>3.466469</td>\n",
       "      <td>3.466469</td>\n",
       "      <td>3.466469</td>\n",
       "    </tr>\n",
       "    <tr>\n",
       "      <th>3</th>\n",
       "      <td>4.433141</td>\n",
       "      <td>4.433141</td>\n",
       "      <td>4.433141</td>\n",
       "    </tr>\n",
       "    <tr>\n",
       "      <th>4</th>\n",
       "      <td>5.994006</td>\n",
       "      <td>5.994006</td>\n",
       "      <td>5.994006</td>\n",
       "    </tr>\n",
       "    <tr>\n",
       "      <th>...</th>\n",
       "      <td>...</td>\n",
       "      <td>...</td>\n",
       "      <td>...</td>\n",
       "    </tr>\n",
       "    <tr>\n",
       "      <th>121</th>\n",
       "      <td>2.858060</td>\n",
       "      <td>2.858060</td>\n",
       "      <td>2.858060</td>\n",
       "    </tr>\n",
       "    <tr>\n",
       "      <th>122</th>\n",
       "      <td>6.964865</td>\n",
       "      <td>6.964865</td>\n",
       "      <td>6.964865</td>\n",
       "    </tr>\n",
       "    <tr>\n",
       "      <th>123</th>\n",
       "      <td>0.839024</td>\n",
       "      <td>0.839024</td>\n",
       "      <td>0.839024</td>\n",
       "    </tr>\n",
       "    <tr>\n",
       "      <th>124</th>\n",
       "      <td>8.742857</td>\n",
       "      <td>8.742857</td>\n",
       "      <td>8.742857</td>\n",
       "    </tr>\n",
       "    <tr>\n",
       "      <th>125</th>\n",
       "      <td>9.352358</td>\n",
       "      <td>9.352358</td>\n",
       "      <td>9.352358</td>\n",
       "    </tr>\n",
       "  </tbody>\n",
       "</table>\n",
       "<p>126 rows × 3 columns</p>\n",
       "</div>"
      ],
      "text/plain": [
       "     Regression  Galerkin      coef\n",
       "0      1.390146  1.390146  1.390146\n",
       "1      3.356956  3.356956  3.356956\n",
       "2      3.466469  3.466469  3.466469\n",
       "3      4.433141  4.433141  4.433141\n",
       "4      5.994006  5.994006  5.994006\n",
       "..          ...       ...       ...\n",
       "121    2.858060  2.858060  2.858060\n",
       "122    6.964865  6.964865  6.964865\n",
       "123    0.839024  0.839024  0.839024\n",
       "124    8.742857  8.742857  8.742857\n",
       "125    9.352358  9.352358  9.352358\n",
       "\n",
       "[126 rows x 3 columns]"
      ]
     },
     "execution_count": 10,
     "metadata": {},
     "output_type": "execute_result"
    }
   ],
   "source": [
    "pd.DataFrame(data=np.transpose([c_k, c_k2, coef]), columns=['Regression', \"Galerkin\", \"coef\"])"
   ]
  }
 ],
 "metadata": {
  "kernelspec": {
   "display_name": "Python 3 (ipykernel)",
   "language": "python",
   "name": "python3"
  },
  "language_info": {
   "codemirror_mode": {
    "name": "ipython",
    "version": 3
   },
   "file_extension": ".py",
   "mimetype": "text/x-python",
   "name": "python",
   "nbconvert_exporter": "python",
   "pygments_lexer": "ipython3",
   "version": "3.9.12"
  }
 },
 "nbformat": 4,
 "nbformat_minor": 5
}
