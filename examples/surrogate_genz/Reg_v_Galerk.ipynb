{
 "cells": [
  {
   "cell_type": "markdown",
   "id": "6aa10178-21a0-4dab-89a8-90c550414a41",
   "metadata": {},
   "source": [
    "# Testing Regression vs. Galerkin Projection"
   ]
  },
  {
   "cell_type": "code",
   "execution_count": 1,
   "id": "a3ccaab6-7604-4438-a5df-c500cfeb60c0",
   "metadata": {},
   "outputs": [
    {
     "name": "stdout",
     "output_type": "stream",
     "text": [
      "PyMC is required for some of the MCMC postprocessing codes.\n",
      "Will proceed without, but some convergence tests will not be available.\n"
     ]
    }
   ],
   "source": [
    "# Imports\n",
    "import numpy as np\n",
    "import math\n",
    "from __future__ import print_function\n",
    " \n",
    "\n",
    "import PyUQTk.pce as uqtkpce\n",
    "import PyUQTk.PyPCE.pce_tools as pce_tools\n",
    "from PyUQTk.utils.func import *\n",
    "\n",
    "import sys\n",
    "sys.path.append('../pyuqtkarray/')\n",
    "import PyUQTk.uqtkarray as uqtkarray\n",
    "\n",
    "import pandas as pd"
   ]
  },
  {
   "cell_type": "markdown",
   "id": "4e86d22f-e74b-4400-a240-765f7f73abef",
   "metadata": {},
   "source": [
    "## Inputs"
   ]
  },
  {
   "cell_type": "code",
   "execution_count": 2,
   "id": "482c71a2-7ec9-4fa7-a506-a970a9a9c936",
   "metadata": {},
   "outputs": [],
   "source": [
    "nord = 2            # Order of the PCE\n",
    "pc_type = \"HG\"      # Polynomial type\n",
    "pc_alpha = 0.0      # Free parameter > -1 for Gamma-Laguerre and Beta-Jacobi PCs\n",
    "pc_beta = 1.0       # Free parameter > -1 for Gamma-Laguerre and Beta-Jacobi PCs\n",
    "param = nord+1      # Number of quadrature points per dimension for full quadrature or level for sparse quadrature\n",
    "nSam = 100000       # Number of random samples\n",
    "ndim = 2            # Number of dimensions"
   ]
  },
  {
   "cell_type": "markdown",
   "id": "8a321efe-ed8a-4f24-9d27-7619219139bb",
   "metadata": {},
   "source": [
    "Define the polynomial model to matching the chosen PC type."
   ]
  },
  {
   "cell_type": "code",
   "execution_count": 3,
   "id": "24f75fab-7c7b-4b31-9a43-0fcc94b89b21",
   "metadata": {},
   "outputs": [],
   "source": [
    "coef=np.ones(param)\n",
    "if (ndim==1):\n",
    "    if (pc_type=='LU'):\n",
    "        poly = np.polynomial.legendre.Legendre(coef, domain=None, window=None)\n",
    "    if (pc_type=='HG'):\n",
    "        poly=np.polynomial.hermite_e.HermiteE(coef, domain=None, window=None)\n",
    "    if (pc_type=='LG'):\n",
    "        poly=np.polynomial.laguerre.Laguerre(coef, domain=None, window=None)\n",
    "# 'JB', 'CC', 'CCO', 'NC', 'NCO', 'GP3', 'pdf'\n",
    "    poly"
   ]
  },
  {
   "cell_type": "markdown",
   "id": "a078e5d0-5532-484e-9a6b-600349a175bf",
   "metadata": {},
   "source": [
    "## Quadrature"
   ]
  },
  {
   "cell_type": "code",
   "execution_count": 4,
   "id": "2e71cd9d-3ca3-4eb8-901c-31a4aefa8362",
   "metadata": {},
   "outputs": [],
   "source": [
    "pc_model = uqtkpce.PCSet(\"NISPnoq\", nord,ndim,pc_type, pc_alpha,pc_beta)\n",
    "pc_model.SetQuadRule(pc_type, 'full', param)\n",
    "qdpts, totquat= pce_tools.UQTkGetQuadPoints(pc_model)"
   ]
  },
  {
   "cell_type": "code",
   "execution_count": 5,
   "id": "d2e052b6-90dd-464d-b638-64f9d0c245fc",
   "metadata": {},
   "outputs": [
    {
     "data": {
      "text/html": [
       "<div>\n",
       "<style scoped>\n",
       "    .dataframe tbody tr th:only-of-type {\n",
       "        vertical-align: middle;\n",
       "    }\n",
       "\n",
       "    .dataframe tbody tr th {\n",
       "        vertical-align: top;\n",
       "    }\n",
       "\n",
       "    .dataframe thead th {\n",
       "        text-align: right;\n",
       "    }\n",
       "</style>\n",
       "<table border=\"1\" class=\"dataframe\">\n",
       "  <thead>\n",
       "    <tr style=\"text-align: right;\">\n",
       "      <th></th>\n",
       "      <th>0</th>\n",
       "      <th>1</th>\n",
       "    </tr>\n",
       "  </thead>\n",
       "  <tbody>\n",
       "    <tr>\n",
       "      <th>0</th>\n",
       "      <td>-1.732051e+00</td>\n",
       "      <td>-1.732051e+00</td>\n",
       "    </tr>\n",
       "    <tr>\n",
       "      <th>1</th>\n",
       "      <td>-2.069764e-16</td>\n",
       "      <td>-1.732051e+00</td>\n",
       "    </tr>\n",
       "    <tr>\n",
       "      <th>2</th>\n",
       "      <td>1.732051e+00</td>\n",
       "      <td>-1.732051e+00</td>\n",
       "    </tr>\n",
       "    <tr>\n",
       "      <th>3</th>\n",
       "      <td>-1.732051e+00</td>\n",
       "      <td>-2.069764e-16</td>\n",
       "    </tr>\n",
       "    <tr>\n",
       "      <th>4</th>\n",
       "      <td>-2.069764e-16</td>\n",
       "      <td>-2.069764e-16</td>\n",
       "    </tr>\n",
       "    <tr>\n",
       "      <th>5</th>\n",
       "      <td>1.732051e+00</td>\n",
       "      <td>-2.069764e-16</td>\n",
       "    </tr>\n",
       "    <tr>\n",
       "      <th>6</th>\n",
       "      <td>-1.732051e+00</td>\n",
       "      <td>1.732051e+00</td>\n",
       "    </tr>\n",
       "    <tr>\n",
       "      <th>7</th>\n",
       "      <td>-2.069764e-16</td>\n",
       "      <td>1.732051e+00</td>\n",
       "    </tr>\n",
       "    <tr>\n",
       "      <th>8</th>\n",
       "      <td>1.732051e+00</td>\n",
       "      <td>1.732051e+00</td>\n",
       "    </tr>\n",
       "  </tbody>\n",
       "</table>\n",
       "</div>"
      ],
      "text/plain": [
       "              0             1\n",
       "0 -1.732051e+00 -1.732051e+00\n",
       "1 -2.069764e-16 -1.732051e+00\n",
       "2  1.732051e+00 -1.732051e+00\n",
       "3 -1.732051e+00 -2.069764e-16\n",
       "4 -2.069764e-16 -2.069764e-16\n",
       "5  1.732051e+00 -2.069764e-16\n",
       "6 -1.732051e+00  1.732051e+00\n",
       "7 -2.069764e-16  1.732051e+00\n",
       "8  1.732051e+00  1.732051e+00"
      ]
     },
     "execution_count": 5,
     "metadata": {},
     "output_type": "execute_result"
    }
   ],
   "source": [
    "pd.DataFrame(qdpts)"
   ]
  },
  {
   "cell_type": "code",
   "execution_count": 6,
   "id": "d7fa0d6b-1abc-4cb2-a374-38ee0bac5c02",
   "metadata": {},
   "outputs": [],
   "source": [
    "f_evals=np.zeros(totquat)\n",
    "q=[]\n",
    "for i in range(totquat):\n",
    "    #f_evals[i]=poly(qdpts[i])\n",
    "    f_evals[i]=np.polynomial.hermite_e.hermeval2d(qdpts[i][0], qdpts[i][1], coef)\n",
    "#pd.DataFrame(data=np.transpose([q, f_evals]), columns=[\"qdpts\", \"f_evals\"])"
   ]
  },
  {
   "cell_type": "markdown",
   "id": "7015e602-c330-4102-8a82-360864c1636e",
   "metadata": {},
   "source": [
    "## Finding Coefficients"
   ]
  },
  {
   "cell_type": "code",
   "execution_count": 7,
   "id": "bea474d3-1c7a-425b-8618-d54555020e5f",
   "metadata": {},
   "outputs": [],
   "source": [
    "c_k=pce_tools.UQTkRegression(pc_model, f_evals)"
   ]
  },
  {
   "cell_type": "code",
   "execution_count": 8,
   "id": "78781b87-c19b-465b-a764-3f08b764efc3",
   "metadata": {},
   "outputs": [],
   "source": [
    "#psi_uqtk = uqtkarray.dblArray2D()\n",
    "#pc_model.GetPsi(psi_uqtk)\n",
    "#psi_np = np.zeros( (totquat, pc_model.GetNumberPCTerms()) )\n",
    "#psi_np = uqtkarray.uqtk2numpy(psi_uqtk)\n",
    "#c_k, resids, rank, s = np.linalg.lstsq(psi_np,f_evals,rcond=None)"
   ]
  },
  {
   "cell_type": "code",
   "execution_count": 9,
   "id": "f0965d23-ae8c-47e3-9f67-a786e102b472",
   "metadata": {},
   "outputs": [],
   "source": [
    "c_k2 = pce_tools.UQTkGalerkinProjection(pc_model,f_evals)"
   ]
  },
  {
   "cell_type": "code",
   "execution_count": 10,
   "id": "0365103a-56ab-4b4a-a317-b19d44938dd2",
   "metadata": {},
   "outputs": [
    {
     "data": {
      "text/html": [
       "<div>\n",
       "<style scoped>\n",
       "    .dataframe tbody tr th:only-of-type {\n",
       "        vertical-align: middle;\n",
       "    }\n",
       "\n",
       "    .dataframe tbody tr th {\n",
       "        vertical-align: top;\n",
       "    }\n",
       "\n",
       "    .dataframe thead th {\n",
       "        text-align: right;\n",
       "    }\n",
       "</style>\n",
       "<table border=\"1\" class=\"dataframe\">\n",
       "  <thead>\n",
       "    <tr style=\"text-align: right;\">\n",
       "      <th></th>\n",
       "      <th>Regression</th>\n",
       "      <th>Galerkin</th>\n",
       "    </tr>\n",
       "  </thead>\n",
       "  <tbody>\n",
       "    <tr>\n",
       "      <th>0</th>\n",
       "      <td>1.000000e+00</td>\n",
       "      <td>1.000000e+00</td>\n",
       "    </tr>\n",
       "    <tr>\n",
       "      <th>1</th>\n",
       "      <td>1.000000e+00</td>\n",
       "      <td>1.000000e+00</td>\n",
       "    </tr>\n",
       "    <tr>\n",
       "      <th>2</th>\n",
       "      <td>1.127942e-16</td>\n",
       "      <td>-6.938894e-16</td>\n",
       "    </tr>\n",
       "    <tr>\n",
       "      <th>3</th>\n",
       "      <td>1.000000e+00</td>\n",
       "      <td>1.000000e+00</td>\n",
       "    </tr>\n",
       "    <tr>\n",
       "      <th>4</th>\n",
       "      <td>2.926378e-16</td>\n",
       "      <td>-6.106227e-16</td>\n",
       "    </tr>\n",
       "    <tr>\n",
       "      <th>5</th>\n",
       "      <td>8.208866e-16</td>\n",
       "      <td>1.942890e-16</td>\n",
       "    </tr>\n",
       "  </tbody>\n",
       "</table>\n",
       "</div>"
      ],
      "text/plain": [
       "     Regression      Galerkin\n",
       "0  1.000000e+00  1.000000e+00\n",
       "1  1.000000e+00  1.000000e+00\n",
       "2  1.127942e-16 -6.938894e-16\n",
       "3  1.000000e+00  1.000000e+00\n",
       "4  2.926378e-16 -6.106227e-16\n",
       "5  8.208866e-16  1.942890e-16"
      ]
     },
     "execution_count": 10,
     "metadata": {},
     "output_type": "execute_result"
    }
   ],
   "source": [
    "pd.DataFrame(data=np.transpose([c_k, c_k2]), columns=['Regression', \"Galerkin\"])"
   ]
  },
  {
   "cell_type": "markdown",
   "id": "fc03d4a3-a313-4c80-8ad0-1552224c6845",
   "metadata": {},
   "source": [
    "## Error"
   ]
  },
  {
   "cell_type": "code",
   "execution_count": 11,
   "id": "ba788a95-c6e5-4d11-b593-2da25ed137d8",
   "metadata": {},
   "outputs": [
    {
     "ename": "NameError",
     "evalue": "name 'poly' is not defined",
     "output_type": "error",
     "traceback": [
      "\u001b[0;31m---------------------------------------------------------------------------\u001b[0m",
      "\u001b[0;31mNameError\u001b[0m                                 Traceback (most recent call last)",
      "Input \u001b[0;32mIn [11]\u001b[0m, in \u001b[0;36m<cell line: 5>\u001b[0;34m()\u001b[0m\n\u001b[1;32m      4\u001b[0m f_actual\u001b[38;5;241m=\u001b[39mnp\u001b[38;5;241m.\u001b[39mzeros(nSam)\n\u001b[1;32m      5\u001b[0m \u001b[38;5;28;01mfor\u001b[39;00m i \u001b[38;5;129;01min\u001b[39;00m \u001b[38;5;28mrange\u001b[39m(nSam):\n\u001b[0;32m----> 6\u001b[0m     f_actual[i]\u001b[38;5;241m=\u001b[39m\u001b[43mpoly\u001b[49m(germ_samples[i])\n\u001b[1;32m      8\u001b[0m MSE \u001b[38;5;241m=\u001b[39m np\u001b[38;5;241m.\u001b[39msquare(np\u001b[38;5;241m.\u001b[39msubtract(f_actual,pce_evals))\u001b[38;5;241m.\u001b[39mmean()\n\u001b[1;32m      9\u001b[0m RMSE\u001b[38;5;241m=\u001b[39mmath\u001b[38;5;241m.\u001b[39msqrt(MSE)\n",
      "\u001b[0;31mNameError\u001b[0m: name 'poly' is not defined"
     ]
    }
   ],
   "source": [
    "germ_samples=np.random.normal(0,1, (nSam,ndim))\n",
    "pce_evals=pce_tools.UQTkEvaluatePCE(pc_model,c_k,germ_samples)\n",
    "\n",
    "f_actual=np.zeros(nSam)\n",
    "for i in range(nSam):\n",
    "    f_actual[i]=poly(germ_samples[i])\n",
    "    \n",
    "MSE = np.square(np.subtract(f_actual,pce_evals)).mean()\n",
    "RMSE=math.sqrt(MSE)\n",
    "\n",
    "print(\"The RMSE is\")\n",
    "RMSE"
   ]
  }
 ],
 "metadata": {
  "kernelspec": {
   "display_name": "Python 3 (ipykernel)",
   "language": "python",
   "name": "python3"
  },
  "language_info": {
   "codemirror_mode": {
    "name": "ipython",
    "version": 3
   },
   "file_extension": ".py",
   "mimetype": "text/x-python",
   "name": "python",
   "nbconvert_exporter": "python",
   "pygments_lexer": "ipython3",
   "version": "3.9.12"
  }
 },
 "nbformat": 4,
 "nbformat_minor": 5
}
