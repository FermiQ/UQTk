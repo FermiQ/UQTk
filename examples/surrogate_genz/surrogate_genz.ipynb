{
 "cells": [
  {
   "cell_type": "markdown",
   "id": "c32c8012-f3bf-4f96-9aff-e8b20eca1ec7",
   "metadata": {},
   "source": [
    "# Surrogate Construction for Genz Functions"
   ]
  },
  {
   "cell_type": "markdown",
   "id": "6e289260-b35a-4113-90d9-6f0c2eb4bc92",
   "metadata": {},
   "source": [
    "This notebook constructs a PC surrogate for Genz functions using full and sparse quadrature and gives the root mean square error between the surrogate and the actual function."
   ]
  },
  {
   "cell_type": "code",
   "execution_count": 1,
   "id": "f74bf835-9ef7-452b-85cc-7fd3ebbe7dd3",
   "metadata": {},
   "outputs": [
    {
     "name": "stdout",
     "output_type": "stream",
     "text": [
      "PyMC is required for some of the MCMC postprocessing codes.\n",
      "Will proceed without, but some convergence tests will not be available.\n"
     ]
    }
   ],
   "source": [
    "from __future__ import print_function\n",
    "import numpy as np\n",
    "import math  \n",
    "\n",
    "import PyUQTk.pce as uqtkpce\n",
    "import PyUQTk.PyPCE.pce_tools as pce_tools\n",
    "from PyUQTk.utils.func import *"
   ]
  },
  {
   "cell_type": "markdown",
   "id": "532e0f3a-c607-4877-b64f-4a9cf1c40556",
   "metadata": {},
   "source": [
    "## Inputs"
   ]
  },
  {
   "cell_type": "code",
   "execution_count": 2,
   "id": "aa0bbccd-c5e7-40ab-a720-9ccf740514e9",
   "metadata": {},
   "outputs": [],
   "source": [
    "nord = 7            # Order of the PCE\n",
    "pc_type = \"LU\"      # Polynomial type\n",
    "pc_alpha = 0.0      # Free parameter > -1 for Gamma-Laguerre and Beta-Jacobi PCs\n",
    "pc_beta = 1.0       # Free parameter > -1 for Gamma-Laguerre and Beta-Jacobi PCs\n",
    "param = nord +1     # Number of quadrature points per dimension for full quadrature or level for sparse quadrature\n",
    "nSam = 100000       # Number of random samples\n",
    "ndim = 5            # Number of dimensions\n",
    "model= 'genz_exp'   # Choices are 'genz_osc', 'genz_exp', 'genz_cont','genz_gaus','genz_cpeak', 'genz_ppeak'"
   ]
  },
  {
   "cell_type": "markdown",
   "id": "b0906b61-aaa4-4b7c-abb8-bb509d06067d",
   "metadata": {
    "tags": []
   },
   "source": [
    "## Full Quadrature"
   ]
  },
  {
   "cell_type": "markdown",
   "id": "897b36fb-519b-4c00-b7de-1c96d1e6b5a8",
   "metadata": {},
   "source": [
    "First, we instantiate the PC object with full quadrature."
   ]
  },
  {
   "cell_type": "code",
   "execution_count": 3,
   "id": "49a98c9b-87ca-4497-9e00-12883c41b5f4",
   "metadata": {},
   "outputs": [],
   "source": [
    "pc_model = uqtkpce.PCSet(\"NISPnoq\", nord, ndim, pc_type, pc_alpha,pc_beta)\n",
    "pc_model.SetQuadRule(pc_type, 'full', param)"
   ]
  },
  {
   "cell_type": "markdown",
   "id": "9563928f-5f61-4c1f-9c9e-f890b14b9952",
   "metadata": {},
   "source": [
    "Then, we get a NumPy array of quadrature points, qdpts. Totquat is the total number of quadrature points."
   ]
  },
  {
   "cell_type": "code",
   "execution_count": 4,
   "id": "6849c412-7895-4271-a288-0b934b6adfa8",
   "metadata": {},
   "outputs": [],
   "source": [
    "qdpts, totquat= pce_tools.UQTkGetQuadPoints(pc_model)"
   ]
  },
  {
   "cell_type": "markdown",
   "id": "08d158b2-7a26-4538-83e5-d2972c745d74",
   "metadata": {},
   "source": [
    "We evaluate the forward model, the chosen Genz function. The input parameters for the model are all 1, for simpicity, and must be in the form of an array of dimension ndim+1, where the first entry is the shift.\n",
    "We obtain f_evals, an array of evaluations."
   ]
  },
  {
   "cell_type": "code",
   "execution_count": 5,
   "id": "4b59523c-ff9e-4311-b518-d85a2b151737",
   "metadata": {},
   "outputs": [
    {
     "name": "stdout",
     "output_type": "stream",
     "text": [
      "The shape of ww is:  ()\n",
      "The shape of gcf is:  (5,)\n",
      "The shape of x is:  (32768, 5)\n"
     ]
    }
   ],
   "source": [
    "f_evals=func(qdpts,model,np.ones(ndim+1))"
   ]
  },
  {
   "cell_type": "markdown",
   "id": "2ef94fa5-80b3-46ec-bdde-56c864e5318a",
   "metadata": {},
   "source": [
    "We use Galerkin projection to obtain the PC coefficents."
   ]
  },
  {
   "cell_type": "code",
   "execution_count": 6,
   "id": "b07bb65a-5c48-4290-9597-ce4d1b0faeb1",
   "metadata": {},
   "outputs": [],
   "source": [
    "c_k = pce_tools.UQTkGalerkinProjection(pc_model,f_evals)"
   ]
  },
  {
   "cell_type": "markdown",
   "id": "19247a95-8c2b-47c6-9713-6dc7d7d1bba2",
   "metadata": {},
   "source": [
    "We then generate germ samples at which to evaluate the PCE. These are the points at which we are checking the accuracy of the surrogate."
   ]
  },
  {
   "cell_type": "code",
   "execution_count": 7,
   "id": "66dacb2d-db83-4ab8-8591-3ab46c3de571",
   "metadata": {},
   "outputs": [],
   "source": [
    "germ_samples=np.random.normal(0,1, (nSam,ndim))\n",
    "pce_evals=pce_tools.UQTkEvaluatePCE(pc_model,c_k,germ_samples)"
   ]
  },
  {
   "cell_type": "markdown",
   "id": "aeec5d5a-bdf4-493c-8deb-a235486fd145",
   "metadata": {},
   "source": [
    "We find the actual values of the model at each germ sample and use that to calculate the RMS error between the surrogate and model."
   ]
  },
  {
   "cell_type": "code",
   "execution_count": 8,
   "id": "8c9c0b8b-568b-414c-876f-e837013934a6",
   "metadata": {},
   "outputs": [
    {
     "name": "stdout",
     "output_type": "stream",
     "text": [
      "The shape of ww is:  ()\n",
      "The shape of gcf is:  (5,)\n",
      "The shape of x is:  (100000, 5)\n",
      "The RMS error between a 5 -dimensional genz_exp function and a full PC surrogate of order 7 is\n"
     ]
    },
    {
     "data": {
      "text/plain": [
       "0.004579877365484132"
      ]
     },
     "execution_count": 8,
     "metadata": {},
     "output_type": "execute_result"
    }
   ],
   "source": [
    "f_actual=func(germ_samples,model,np.ones(ndim+1))\n",
    "MSE = np.square(np.subtract(f_actual,pce_evals)).mean()\n",
    "RMSE=math.sqrt(MSE)\n",
    "\n",
    "print(\"The RMS error between a\", ndim, \"-dimensional\", model, \"function and a full PC surrogate of order\", nord, \"is\")\n",
    "RMSE"
   ]
  },
  {
   "cell_type": "markdown",
   "id": "11f00a92-b3e2-47d8-bc2b-705e8ebb436e",
   "metadata": {},
   "source": [
    "## Sparse Quadrature\n",
    "We repeat the process with sparse quadrature."
   ]
  },
  {
   "cell_type": "code",
   "execution_count": 9,
   "id": "721593ae-545b-4530-a227-91f3d822aef2",
   "metadata": {},
   "outputs": [
    {
     "name": "stdout",
     "output_type": "stream",
     "text": [
      "The shape of ww is:  ()\n",
      "The shape of gcf is:  (5,)\n",
      "The shape of x is:  (187903, 5)\n",
      "The RMS error between a 5 -dimensional genz_exp function and a sparse PC surrogate of order 7 is\n"
     ]
    },
    {
     "data": {
      "text/plain": [
       "0.3407980253345635"
      ]
     },
     "execution_count": 9,
     "metadata": {},
     "output_type": "execute_result"
    }
   ],
   "source": [
    "pc_model2 = uqtkpce.PCSet(\"NISPnoq\", nord,ndim,pc_type, pc_alpha,pc_beta)\n",
    "pc_model2.SetQuadRule(pc_type, 'sparse', param)\n",
    "qdpts2, totquat2= pce_tools.UQTkGetQuadPoints(pc_model2)\n",
    "f_evals2=func(qdpts2,model,np.ones(ndim+1))\n",
    "c_k2 = pce_tools.UQTkGalerkinProjection(pc_model2,f_evals2)\n",
    "germ_samples2=np.random.normal(0,1, (nSam,ndim))\n",
    "pce_evals2=pce_tools.UQTkEvaluatePCE(pc_model2,c_k2,germ_samples2)\n",
    "MSE2 = np.square(np.subtract(f_actual,pce_evals2)).mean()\n",
    "RMSE2=math.sqrt(MSE2)\n",
    "print(\"The RMS error between a\", ndim, \"-dimensional\", model, \"function and a sparse PC surrogate of order\", nord, \"is\")\n",
    "RMSE2"
   ]
  },
  {
   "cell_type": "markdown",
   "id": "2bc98149-a29c-4ff9-aaea-9a6341eb2d7a",
   "metadata": {},
   "source": [
    "## Monte Carlo Sampling"
   ]
  },
  {
   "cell_type": "markdown",
   "id": "17d9b49d-96c9-42fa-ae8b-c6af67347f1c",
   "metadata": {},
   "source": [
    "For Monte Carlo Sampling"
   ]
  },
  {
   "cell_type": "code",
   "execution_count": 14,
   "id": "2d1d5a81-e923-4467-a678-ee7bee02d4fd",
   "metadata": {},
   "outputs": [
    {
     "name": "stdout",
     "output_type": "stream",
     "text": [
      "The shape of ww is:  ()\n",
      "The shape of gcf is:  (5,)\n",
      "The shape of x is:  (100000, 5)\n",
      "The shape of ww is:  ()\n",
      "The shape of gcf is:  (5,)\n",
      "The shape of x is:  (100000, 5)\n",
      "The shape of ww is:  ()\n",
      "The shape of gcf is:  (5,)\n",
      "The shape of x is:  (100000, 5)\n",
      "The shape of ww is:  ()\n",
      "The shape of gcf is:  (5,)\n",
      "The shape of x is:  (100000, 5)\n",
      "The shape of ww is:  ()\n",
      "The shape of gcf is:  (5,)\n",
      "The shape of x is:  (100000, 5)\n",
      "The shape of ww is:  ()\n",
      "The shape of gcf is:  (5,)\n",
      "The shape of x is:  (100000, 5)\n",
      "The shape of ww is:  ()\n",
      "The shape of gcf is:  (5,)\n",
      "The shape of x is:  (100000, 5)\n",
      "The shape of ww is:  ()\n",
      "The shape of gcf is:  (5,)\n",
      "The shape of x is:  (100000, 5)\n",
      "The shape of ww is:  ()\n",
      "The shape of gcf is:  (5,)\n",
      "The shape of x is:  (100000, 5)\n",
      "The shape of ww is:  ()\n",
      "The shape of gcf is:  (5,)\n",
      "The shape of x is:  (100000, 5)\n",
      "Over 10 samples, the average RMS error between a 5 -dimensional genz_exp function and MC sampling is\n"
     ]
    },
    {
     "data": {
      "text/plain": [
       "0.2554013850179419"
      ]
     },
     "execution_count": 14,
     "metadata": {},
     "output_type": "execute_result"
    }
   ],
   "source": []
  }
 ],
 "metadata": {
  "kernelspec": {
   "display_name": "Python 3 (ipykernel)",
   "language": "python",
   "name": "python3"
  },
  "language_info": {
   "codemirror_mode": {
    "name": "ipython",
    "version": 3
   },
   "file_extension": ".py",
   "mimetype": "text/x-python",
   "name": "python",
   "nbconvert_exporter": "python",
   "pygments_lexer": "ipython3",
   "version": "3.9.12"
  }
 },
 "nbformat": 4,
 "nbformat_minor": 5
}
