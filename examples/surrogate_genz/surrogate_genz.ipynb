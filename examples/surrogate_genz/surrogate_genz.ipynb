{
 "cells": [
  {
   "attachments": {},
   "cell_type": "markdown",
   "id": "c32c8012-f3bf-4f96-9aff-e8b20eca1ec7",
   "metadata": {},
   "source": [
    "# Surrogate Construction for Genz Functions"
   ]
  },
  {
   "attachments": {},
   "cell_type": "markdown",
   "id": "6e289260-b35a-4113-90d9-6f0c2eb4bc92",
   "metadata": {},
   "source": [
    "This notebook constructs a PC surrogate for Genz functions using full and sparse quadrature, regression, and Bayesian Compressive Sensing and gives the normalized root mean square error between the surrogate and the actual function. Both the Genz function and PCE are defined on [-1,1]."
   ]
  },
  {
   "cell_type": "code",
   "execution_count": 1,
   "id": "f74bf835-9ef7-452b-85cc-7fd3ebbe7dd3",
   "metadata": {},
   "outputs": [
    {
     "name": "stdout",
     "output_type": "stream",
     "text": [
      "PyMC is required for some of the MCMC postprocessing codes.\n",
      "Will proceed without, but some convergence tests will not be available.\n"
     ]
    }
   ],
   "source": [
    "import numpy as np\n",
    "import math  \n",
    "from scipy.stats import qmc\n",
    "import pandas as pd\n",
    "\n",
    "import PyUQTk.pce as uqtkpce\n",
    "import PyUQTk.PyPCE.pce_tools as pce_tools\n",
    "from PyUQTk.utils.func import *"
   ]
  },
  {
   "attachments": {},
   "cell_type": "markdown",
   "id": "532e0f3a-c607-4877-b64f-4a9cf1c40556",
   "metadata": {},
   "source": [
    "## Inputs"
   ]
  },
  {
   "cell_type": "code",
   "execution_count": 2,
   "id": "aa0bbccd-c5e7-40ab-a720-9ccf740514e9",
   "metadata": {},
   "outputs": [],
   "source": [
    "nord = 3            # Order of the PCE\n",
    "pc_type = \"LU\"      # Polynomial type\n",
    "pc_alpha = 0.0      # Free parameter > -1 for Gamma-Laguerre and Beta-Jacobi PCs\n",
    "pc_beta = 1.0       # Free parameter > -1 for Gamma-Laguerre and Beta-Jacobi PCs\n",
    "param = nord+1      # Number of quadrature points per dimension for full quadrature or level for sparse quadrature\n",
    "nSam = 10000        # Number of random samples\n",
    "ndim = 6            # Number of dimensions\n",
    "model= 'genz_osc'   # Choices are 'genz_osc', 'genz_exp', 'genz_cont','genz_gaus','genz_cpeak', 'genz_ppeak'"
   ]
  },
  {
   "attachments": {},
   "cell_type": "markdown",
   "id": "b0906b61-aaa4-4b7c-abb8-bb509d06067d",
   "metadata": {
    "tags": []
   },
   "source": [
    "## Quadrature and Galerkin Projection\n",
    "#### Full Quadrature"
   ]
  },
  {
   "attachments": {},
   "cell_type": "markdown",
   "id": "897b36fb-519b-4c00-b7de-1c96d1e6b5a8",
   "metadata": {},
   "source": [
    "First, we instantiate the PC object with full quadrature."
   ]
  },
  {
   "cell_type": "code",
   "execution_count": 3,
   "id": "49a98c9b-87ca-4497-9e00-12883c41b5f4",
   "metadata": {},
   "outputs": [],
   "source": [
    "pc_model = uqtkpce.PCSet(\"NISPnoq\", nord, ndim, pc_type, pc_alpha,pc_beta)\n",
    "pc_model.SetQuadRule(pc_type, 'full', param)"
   ]
  },
  {
   "attachments": {},
   "cell_type": "markdown",
   "id": "9563928f-5f61-4c1f-9c9e-f890b14b9952",
   "metadata": {},
   "source": [
    "Then, we get a NumPy array of quadrature points, qdpts. Totquat is the total number of quadrature points."
   ]
  },
  {
   "cell_type": "code",
   "execution_count": 4,
   "id": "6849c412-7895-4271-a288-0b934b6adfa8",
   "metadata": {},
   "outputs": [],
   "source": [
    "qdpts, totquat= pce_tools.UQTkGetQuadPoints(pc_model)"
   ]
  },
  {
   "attachments": {},
   "cell_type": "markdown",
   "id": "08d158b2-7a26-4538-83e5-d2972c745d74",
   "metadata": {},
   "source": [
    "We evaluate the forward model, the chosen Genz function. The input parameters for the model are all 1, for simpicity, and must be in the form of an array of dimension ndim+1, where the first entry is the shift.\n",
    "We obtain f_evals, an array of evaluations."
   ]
  },
  {
   "cell_type": "code",
   "execution_count": 5,
   "id": "4b59523c-ff9e-4311-b518-d85a2b151737",
   "metadata": {},
   "outputs": [],
   "source": [
    "f_evals=func(qdpts,model,np.ones(ndim+1))"
   ]
  },
  {
   "attachments": {},
   "cell_type": "markdown",
   "id": "2ef94fa5-80b3-46ec-bdde-56c864e5318a",
   "metadata": {},
   "source": [
    "We obtain the PC coefficents with Galerkin projection."
   ]
  },
  {
   "cell_type": "code",
   "execution_count": 6,
   "id": "b07bb65a-5c48-4290-9597-ce4d1b0faeb1",
   "metadata": {},
   "outputs": [],
   "source": [
    "c_k = pce_tools.UQTkGalerkinProjection(pc_model,f_evals)"
   ]
  },
  {
   "attachments": {},
   "cell_type": "markdown",
   "id": "19247a95-8c2b-47c6-9713-6dc7d7d1bba2",
   "metadata": {},
   "source": [
    "We then generate test samples in [-1, 1] at which to evaluate the PCE. These are the points at which we are checking the accuracy of the surrogate."
   ]
  },
  {
   "cell_type": "code",
   "execution_count": 7,
   "id": "66dacb2d-db83-4ab8-8591-3ab46c3de571",
   "metadata": {},
   "outputs": [],
   "source": [
    "rng = qmc.LatinHypercube(d=ndim, seed=42) # random number generator\n",
    "x_test=2*rng.random(n=nSam)-1 #draw n samples from [-1,1]\n",
    "pce_evals=pce_tools.UQTkEvaluatePCE(pc_model,c_k,x_test)"
   ]
  },
  {
   "attachments": {},
   "cell_type": "markdown",
   "id": "aeec5d5a-bdf4-493c-8deb-a235486fd145",
   "metadata": {},
   "source": [
    "We find the actual values of the model at each test sample and use that to calculate the NRMS error between the surrogate and model."
   ]
  },
  {
   "cell_type": "code",
   "execution_count": 8,
   "id": "8c9c0b8b-568b-414c-876f-e837013934a6",
   "metadata": {},
   "outputs": [
    {
     "name": "stdout",
     "output_type": "stream",
     "text": [
      "The NRMS error between a 6 -dimensional genz_osc function and a full PC surrogate of order 3 is\n"
     ]
    },
    {
     "data": {
      "text/plain": [
       "0.04172611337356407"
      ]
     },
     "execution_count": 8,
     "metadata": {},
     "output_type": "execute_result"
    }
   ],
   "source": [
    "y_test=func(x_test,model,np.ones(ndim+1))\n",
    "MSE = np.square(np.subtract(y_test,pce_evals)).mean()\n",
    "RMSE = math.sqrt(MSE)\n",
    "NRMSE = RMSE/np.abs(y_test.mean())\n",
    "print(\"The NRMS error between a\", ndim, \"-dimensional\", model, \"function and a full PC surrogate of order\", nord, \"is\")\n",
    "NRMSE"
   ]
  },
  {
   "attachments": {},
   "cell_type": "markdown",
   "id": "11f00a92-b3e2-47d8-bc2b-705e8ebb436e",
   "metadata": {},
   "source": [
    "#### Sparse Quadrature\n",
    "We repeat the process with sparse quadrature."
   ]
  },
  {
   "cell_type": "code",
   "execution_count": 9,
   "id": "721593ae-545b-4530-a227-91f3d822aef2",
   "metadata": {},
   "outputs": [
    {
     "name": "stdout",
     "output_type": "stream",
     "text": [
      "The NRMS error between a 6 -dimensional genz_osc function and a sparse PC surrogate of order 3 is\n"
     ]
    },
    {
     "data": {
      "text/plain": [
       "0.040385444287216805"
      ]
     },
     "execution_count": 9,
     "metadata": {},
     "output_type": "execute_result"
    }
   ],
   "source": [
    "pc_model2 = uqtkpce.PCSet(\"NISPnoq\", nord, ndim, pc_type, pc_alpha, pc_beta)\n",
    "pc_model2.SetQuadRule(pc_type, 'sparse', param)\n",
    "qdpts2, totquat2= pce_tools.UQTkGetQuadPoints(pc_model2)\n",
    "f_evals2 = func(qdpts2,model,np.ones(ndim+1))\n",
    "c_k2 = pce_tools.UQTkGalerkinProjection(pc_model2,f_evals2)\n",
    "x_test2= 2*rng.random(n=nSam)-1\n",
    "pce_evals2 = pce_tools.UQTkEvaluatePCE(pc_model2,c_k2,x_test2)\n",
    "y_test2 = func(x_test2,model,np.ones(ndim+1))\n",
    "MSE2 = np.square(np.subtract(y_test2, pce_evals2)).mean()\n",
    "RMSE2 = math.sqrt(MSE2)\n",
    "NRMSE2 = RMSE2/np.abs(y_test2.mean())\n",
    "print(\"The NRMS error between a\", ndim, \"-dimensional\", model, \"function and a sparse PC surrogate of order\", nord, \"is\")\n",
    "NRMSE2"
   ]
  },
  {
   "attachments": {},
   "cell_type": "markdown",
   "id": "2ca47c88-572b-4823-bf11-4a92becf73cd",
   "metadata": {},
   "source": [
    "## Regression"
   ]
  },
  {
   "attachments": {},
   "cell_type": "markdown",
   "id": "f1f3b934-eba7-4981-9e95-6ab6c2a8d0a6",
   "metadata": {},
   "source": [
    "Similarly, we define a PC object for regression and then get a collection of random sample points in [-1,1]."
   ]
  },
  {
   "cell_type": "code",
   "execution_count": 10,
   "id": "dd118a31-830b-4894-b187-e7d38d313c66",
   "metadata": {},
   "outputs": [],
   "source": [
    "# Instantiate PC object\n",
    "pc_model3 = uqtkpce.PCSet(\"NISPnoq\", nord, ndim, pc_type, pc_alpha, pc_beta)\n",
    "\n",
    "# Training points\n",
    "nTrain=pc_model3.GetNumberPCTerms() # number of sample points equal to the number of basis terms\n",
    "x_train3=2*rng.random(n=nTrain)-1\n",
    "y_train3=func(x_train3,model,np.ones(ndim+1))"
   ]
  },
  {
   "attachments": {},
   "cell_type": "markdown",
   "id": "aeea0099-04f0-4061-aa20-176aa13572c3",
   "metadata": {},
   "source": [
    "Then, we use regression to find the PC coefficients and evaluate the PC at nSam sample points. The error between these evaluations and the actual model is determined."
   ]
  },
  {
   "cell_type": "code",
   "execution_count": 11,
   "id": "a2cfc58d-66fa-497f-aaac-2cbe5c1d62f5",
   "metadata": {},
   "outputs": [
    {
     "name": "stdout",
     "output_type": "stream",
     "text": [
      "The NRMS error between a 6 -dimensional genz_osc function and a regression-based PC surrogate of order 3 is\n"
     ]
    },
    {
     "data": {
      "text/plain": [
       "0.27815711396555615"
      ]
     },
     "execution_count": 11,
     "metadata": {},
     "output_type": "execute_result"
    }
   ],
   "source": [
    "#Regression\n",
    "c_k3 = pce_tools.UQTkRegression(pc_model3, y_train3, x_train3)\n",
    "\n",
    "# Validation points\n",
    "x_test3=2*rng.random(n=nSam)-1\n",
    "pce_evals3=pce_tools.UQTkEvaluatePCE(pc_model3,c_k3,x_test3)\n",
    "\n",
    "#Error\n",
    "y_test3=func(x_test3, model, np.ones(ndim+1))\n",
    "MSE3 = np.square(np.subtract(y_test3, pce_evals3)).mean()\n",
    "RMSE3=math.sqrt(MSE3)\n",
    "NRMSE3=RMSE3/np.abs(y_test3.mean())\n",
    "print(\"The NRMS error between a\", ndim, \"-dimensional\", model, \"function and a regression-based PC surrogate of order\", nord, \"is\")\n",
    "NRMSE3"
   ]
  },
  {
   "attachments": {},
   "cell_type": "markdown",
   "id": "fc987c4f-a8b4-46bf-94a2-32bfa8b40d77",
   "metadata": {},
   "source": [
    "#### BCS\n",
    "First, we set the BCS-specific inputs."
   ]
  },
  {
   "cell_type": "code",
   "execution_count": 12,
   "id": "0d2dfeb1-e5ec-494d-a575-ee0a1bc4b71e",
   "metadata": {},
   "outputs": [],
   "source": [
    "# BCS parameters\n",
    "niter = 2              # Number of iterations to run, must be > 0\n",
    "eta = 1/np.power(10,[i for i in range(1,16)])  # Threshold for stopping the algorithm\n",
    "ntry = 3               # Number of splits for cross-validation of the retained basis terms \n",
    "eta_folds = 10          # Number of folds to use for eta cross-validation                          \n",
    "mindex_growth = 'nonconservative'   # Method for basis growth; options are \"conservative,\" \"nonconservative,\" or None\n",
    "regparams = None       # Regularization weights (provide an array or value); if None, they are autopopulated\n",
    "sigma = 1e-8           # Inital noise variance; updated in BCS\n",
    "trval_frac = None      # Fraction of total data to use in each split\n",
    "npccut = None          # Maximum number of PC coefficients to retain\n",
    "pcf_thr = None         # Minimum value (by magnitude) for PC coefficients\n",
    "verbose = 0            # Flag for print statements\n",
    "eta_growth = False     # Flag for using basis growth in eta optimization\n",
    "eta_plot = True        # Flag to show error plot for eta selection "
   ]
  },
  {
   "attachments": {},
   "cell_type": "markdown",
   "id": "13920e5e-4c10-4a94-962b-f5b739b46a38",
   "metadata": {},
   "source": [
    "Then, we generate the training data."
   ]
  },
  {
   "cell_type": "code",
   "execution_count": 13,
   "id": "6bec073b-6298-47c6-ba20-8a48cd6ac8cb",
   "metadata": {},
   "outputs": [],
   "source": [
    "pc_model4 = uqtkpce.PCSet(\"NISPnoq\", nord, ndim, pc_type, pc_alpha, pc_beta)\n",
    "nTrain4=pc_model4.GetNumberPCTerms() # number of sample points equal to the number of terms in a full basis set\n",
    "x_train4=2*rng.random(n=nTrain4)-1\n",
    "y_train4=func(x_train4, model, np.ones(ndim+1))"
   ]
  },
  {
   "cell_type": "code",
   "execution_count": 14,
   "id": "9de91054-432f-468a-8664-af6e54ddc454",
   "metadata": {},
   "outputs": [
    {
     "name": "stdout",
     "output_type": "stream",
     "text": [
      "The NRMS error between a 6 -dimensional genz_osc function and a BCS-based PC surrogate of order 3 is\n"
     ]
    },
    {
     "data": {
      "text/plain": [
       "0.13326462691307528"
      ]
     },
     "execution_count": 14,
     "metadata": {},
     "output_type": "execute_result"
    },
    {
     "data": {
      "image/png": "[encoded data removed]",
      "text/plain": [
       "<Figure size 720x720 with 1 Axes>"
      ]
     },
     "metadata": {
      "needs_background": "light"
     },
     "output_type": "display_data"
    }
   ],
   "source": [
    "# PC object with the starting basis\n",
    "if mindex_growth == None:\n",
    "    start_ord = nord # if no basis growth, order of the final basis = order of the starting basis\n",
    "else:\n",
    "    start_ord = nord-niter+1 # if basis growth, shrink starting basis to allow for growth niter-1 times\n",
    "pc_start = uqtkpce.PCSet(\"NISPnoq\", start_ord, ndim, pc_type, pc_alpha, pc_beta)\n",
    "\n",
    "# BCS\n",
    "pc_final, c_k4 = pce_tools.UQTkBCS(pc_start, x_train4, y_train4, eta, niter, mindex_growth, ntry, eta_folds, eta_growth, eta_plot, regparams, sigma, trval_frac, npccut, pcf_thr, verbose)\n",
    "# Evaluate PCE with the final basis\n",
    "x_test4=2*rng.random(n=nSam)-1\n",
    "pce_evals4=pce_tools.UQTkEvaluatePCE(pc_final,c_k4,x_test4)\n",
    "\n",
    "# Error\n",
    "y_test4=func(x_test4,model,np.ones(ndim+1))\n",
    "MSE4 = np.square(np.subtract(y_test4,pce_evals4)).mean()\n",
    "RMSE4=math.sqrt(MSE4)\n",
    "NRMSE4=RMSE4/np.abs(y_test2.mean())\n",
    "print(\"The NRMS error between a\", ndim, \"-dimensional\", model, \"function and a BCS-based PC surrogate of order\", nord, \"is\")\n",
    "NRMSE4"
   ]
  },
  {
   "attachments": {},
   "cell_type": "markdown",
   "id": "262da4ac-c94a-4a4e-8ec3-9e3da16f0b7d",
   "metadata": {},
   "source": [
    "## Summary\n",
    "This table displays the NRMS Error for each method."
   ]
  },
  {
   "cell_type": "code",
   "execution_count": 15,
   "id": "07de8500-29e5-4797-98c9-a571071e7771",
   "metadata": {},
   "outputs": [
    {
     "data": {
      "text/html": [
       "<div>\n",
       "<style scoped>\n",
       "    .dataframe tbody tr th:only-of-type {\n",
       "        vertical-align: middle;\n",
       "    }\n",
       "\n",
       "    .dataframe tbody tr th {\n",
       "        vertical-align: top;\n",
       "    }\n",
       "\n",
       "    .dataframe thead th {\n",
       "        text-align: right;\n",
       "    }\n",
       "</style>\n",
       "<table border=\"1\" class=\"dataframe\">\n",
       "  <thead>\n",
       "    <tr style=\"text-align: right;\">\n",
       "      <th></th>\n",
       "      <th>NRMSE</th>\n",
       "    </tr>\n",
       "  </thead>\n",
       "  <tbody>\n",
       "    <tr>\n",
       "      <th>Full Galerkin</th>\n",
       "      <td>0.041726</td>\n",
       "    </tr>\n",
       "    <tr>\n",
       "      <th>Sparse Galerkin</th>\n",
       "      <td>0.040385</td>\n",
       "    </tr>\n",
       "    <tr>\n",
       "      <th>Regression</th>\n",
       "      <td>0.278157</td>\n",
       "    </tr>\n",
       "    <tr>\n",
       "      <th>BCS</th>\n",
       "      <td>0.133265</td>\n",
       "    </tr>\n",
       "  </tbody>\n",
       "</table>\n",
       "</div>"
      ],
      "text/plain": [
       "                    NRMSE\n",
       "Full Galerkin    0.041726\n",
       "Sparse Galerkin  0.040385\n",
       "Regression       0.278157\n",
       "BCS              0.133265"
      ]
     },
     "execution_count": 15,
     "metadata": {},
     "output_type": "execute_result"
    }
   ],
   "source": [
    "pd.DataFrame(data=[NRMSE, NRMSE2, NRMSE3, NRMSE4], columns=['NRMSE'], index=['Full Galerkin', 'Sparse Galerkin','Regression', 'BCS'])"
   ]
  }
 ],
 "metadata": {
  "kernelspec": {
   "display_name": "Python 3 (ipykernel)",
   "language": "python",
   "name": "python3"
  },
  "language_info": {
   "codemirror_mode": {
    "name": "ipython",
    "version": 3
   },
   "file_extension": ".py",
   "mimetype": "text/x-python",
   "name": "python",
   "nbconvert_exporter": "python",
   "pygments_lexer": "ipython3",
   "version": "3.9.12"
  }
 },
 "nbformat": 4,
 "nbformat_minor": 5
}
