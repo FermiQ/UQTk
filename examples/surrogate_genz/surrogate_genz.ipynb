{
 "cells": [
  {
   "cell_type": "markdown",
   "id": "c32c8012-f3bf-4f96-9aff-e8b20eca1ec7",
   "metadata": {},
   "source": [
    "# Surrogate Construction for Genz Functions"
   ]
  },
  {
   "cell_type": "markdown",
   "id": "6e289260-b35a-4113-90d9-6f0c2eb4bc92",
   "metadata": {},
   "source": [
    "This notebook constructs a PC surrogate for Genz functions using full and sparse quadrature and gives the root mean square error between the surrogate and the actual function. Both the Genz function and PCE are defined on [-1,1]."
   ]
  },
  {
   "cell_type": "code",
   "execution_count": 13,
   "id": "f74bf835-9ef7-452b-85cc-7fd3ebbe7dd3",
   "metadata": {},
   "outputs": [],
   "source": [
    "from __future__ import print_function\n",
    "import numpy as np\n",
    "import math  \n",
    "from scipy.stats import qmc\n",
    "\n",
    "import PyUQTk.pce as uqtkpce\n",
    "import PyUQTk.PyPCE.pce_tools as pce_tools\n",
    "from PyUQTk.utils.func import *"
   ]
  },
  {
   "cell_type": "markdown",
   "id": "532e0f3a-c607-4877-b64f-4a9cf1c40556",
   "metadata": {},
   "source": [
    "## Inputs"
   ]
  },
  {
   "cell_type": "code",
   "execution_count": 14,
   "id": "aa0bbccd-c5e7-40ab-a720-9ccf740514e9",
   "metadata": {},
   "outputs": [],
   "source": [
    "nord = 3            # Order of the PCE\n",
    "pc_type = \"LU\"      # Polynomial type\n",
    "pc_alpha = 0.0      # Free parameter > -1 for Gamma-Laguerre and Beta-Jacobi PCs\n",
    "pc_beta = 1.0 \n",
    "# Free parameter > -1 for Gamma-Laguerre and Beta-Jacobi PCs\n",
    "param = nord+1           # Number of quadrature points per dimension for full quadrature or level for sparse quadrature\n",
    "nSam = 10000       # Number of random samples\n",
    "ndim = 3         # Number of dimensions\n",
    "model= 'genz_osc'   # Choices are 'genz_osc', 'genz_exp', 'genz_cont','genz_gaus','genz_cpeak', 'genz_ppeak'"
   ]
  },
  {
   "cell_type": "code",
   "execution_count": 5,
   "id": "ebba16ea-db70-4c5f-b367-d33210a4d8ea",
   "metadata": {},
   "outputs": [],
   "source": [
    "rng = qmc.LatinHypercube(d=ndim, seed=42)"
   ]
  },
  {
   "cell_type": "markdown",
   "id": "b0906b61-aaa4-4b7c-abb8-bb509d06067d",
   "metadata": {
    "tags": []
   },
   "source": [
    "## Quadrature and Galerkin Projection\n",
    "#### Full Quadrature"
   ]
  },
  {
   "cell_type": "markdown",
   "id": "897b36fb-519b-4c00-b7de-1c96d1e6b5a8",
   "metadata": {},
   "source": [
    "First, we instantiate the PC object with full quadrature."
   ]
  },
  {
   "cell_type": "code",
   "execution_count": 6,
   "id": "49a98c9b-87ca-4497-9e00-12883c41b5f4",
   "metadata": {},
   "outputs": [],
   "source": [
    "pc_model = uqtkpce.PCSet(\"NISPnoq\", nord, ndim, pc_type, pc_alpha,pc_beta)\n",
    "pc_model.SetQuadRule(pc_type, 'full', param)"
   ]
  },
  {
   "cell_type": "markdown",
   "id": "9563928f-5f61-4c1f-9c9e-f890b14b9952",
   "metadata": {},
   "source": [
    "Then, we get a NumPy array of quadrature points, qdpts. Totquat is the total number of quadrature points."
   ]
  },
  {
   "cell_type": "code",
   "execution_count": 7,
   "id": "6849c412-7895-4271-a288-0b934b6adfa8",
   "metadata": {},
   "outputs": [],
   "source": [
    "qdpts, totquat= pce_tools.UQTkGetQuadPoints(pc_model)"
   ]
  },
  {
   "cell_type": "markdown",
   "id": "08d158b2-7a26-4538-83e5-d2972c745d74",
   "metadata": {},
   "source": [
    "We evaluate the forward model, the chosen Genz function. The input parameters for the model are all 1, for simpicity, and must be in the form of an array of dimension ndim+1, where the first entry is the shift.\n",
    "We obtain f_evals, an array of evaluations."
   ]
  },
  {
   "cell_type": "code",
   "execution_count": 8,
   "id": "4b59523c-ff9e-4311-b518-d85a2b151737",
   "metadata": {},
   "outputs": [],
   "source": [
    "f_evals=func(qdpts,model,np.ones(ndim+1))"
   ]
  },
  {
   "cell_type": "markdown",
   "id": "2ef94fa5-80b3-46ec-bdde-56c864e5318a",
   "metadata": {},
   "source": [
    "We obtain the PC coefficents with Galerkin projection or regression"
   ]
  },
  {
   "cell_type": "code",
   "execution_count": 9,
   "id": "b07bb65a-5c48-4290-9597-ce4d1b0faeb1",
   "metadata": {},
   "outputs": [],
   "source": [
    "c_k = pce_tools.UQTkGalerkinProjection(pc_model,f_evals)"
   ]
  },
  {
   "cell_type": "markdown",
   "id": "19247a95-8c2b-47c6-9713-6dc7d7d1bba2",
   "metadata": {},
   "source": [
    "We then generate germ samples in [-1, 1] at which to evaluate the PCE. These are the points at which we are checking the accuracy of the surrogate."
   ]
  },
  {
   "cell_type": "code",
   "execution_count": 10,
   "id": "66dacb2d-db83-4ab8-8591-3ab46c3de571",
   "metadata": {},
   "outputs": [],
   "source": [
    "#germ_samples=np.random.normal(0,1, (nSam,ndim))\n",
    "#rng = np.random.default_rng()\n",
    "#germ_samples=2*rng.random((nSam, ndim))-1\n",
    "\n",
    "germ_samples=2*rng.random(n=nSam)-1 #draw n samples from [-1,1]\n",
    "pce_evals=pce_tools.UQTkEvaluatePCE(pc_model,c_k,germ_samples)"
   ]
  },
  {
   "cell_type": "markdown",
   "id": "aeec5d5a-bdf4-493c-8deb-a235486fd145",
   "metadata": {},
   "source": [
    "We find the actual values of the model at each germ sample and use that to calculate the RMS error between the surrogate and model."
   ]
  },
  {
   "cell_type": "code",
   "execution_count": 11,
   "id": "8c9c0b8b-568b-414c-876f-e837013934a6",
   "metadata": {},
   "outputs": [
    {
     "name": "stdout",
     "output_type": "stream",
     "text": [
      "The RMS error between a 3 -dimensional genz_osc function and a full PC surrogate of order 3 is\n"
     ]
    },
    {
     "data": {
      "text/plain": [
       "0.000888449813273754"
      ]
     },
     "execution_count": 11,
     "metadata": {},
     "output_type": "execute_result"
    }
   ],
   "source": [
    "f_actual=func(germ_samples,model,np.ones(ndim+1))\n",
    "MSE = np.square(np.subtract(f_actual,pce_evals)).mean()\n",
    "RMSE=math.sqrt(MSE)\n",
    "\n",
    "print(\"The RMS error between a\", ndim, \"-dimensional\", model, \"function and a full PC surrogate of order\", nord, \"is\")\n",
    "RMSE"
   ]
  },
  {
   "cell_type": "markdown",
   "id": "11f00a92-b3e2-47d8-bc2b-705e8ebb436e",
   "metadata": {},
   "source": [
    "#### Sparse Quadrature\n",
    "We repeat the process with sparse quadrature."
   ]
  },
  {
   "cell_type": "code",
   "execution_count": 12,
   "id": "721593ae-545b-4530-a227-91f3d822aef2",
   "metadata": {},
   "outputs": [
    {
     "name": "stdout",
     "output_type": "stream",
     "text": [
      "The RMS error between a 3 -dimensional genz_osc function and a sparse PC surrogate of order 3 is\n"
     ]
    },
    {
     "data": {
      "text/plain": [
       "0.000877791186336563"
      ]
     },
     "execution_count": 12,
     "metadata": {},
     "output_type": "execute_result"
    }
   ],
   "source": [
    "pc_model2 = uqtkpce.PCSet(\"NISPnoq\", nord,ndim,pc_type, pc_alpha,pc_beta)\n",
    "pc_model2.SetQuadRule(pc_type, 'sparse', param)\n",
    "qdpts2, totquat2= pce_tools.UQTkGetQuadPoints(pc_model2)\n",
    "f_evals2=func(qdpts2,model,np.ones(ndim+1))\n",
    "c_k2 = pce_tools.UQTkGalerkinProjection(pc_model2,f_evals2)\n",
    "#germ_samples2=np.random.normal(0,1, (nSam,ndim))\n",
    "#germ_samples2=2*rng.random((nSam, ndim))-1\n",
    "germ_samples2=2*rng.random(n=nSam)-1 #draw n samples from [-1,1]\n",
    "pce_evals2=pce_tools.UQTkEvaluatePCE(pc_model2,c_k2,germ_samples2)\n",
    "f_actual2=func(germ_samples2,model,np.ones(ndim+1))\n",
    "MSE2 = np.square(np.subtract(f_actual2,pce_evals2)).mean()\n",
    "RMSE2=math.sqrt(MSE2)\n",
    "print(\"The RMS error between a\", ndim, \"-dimensional\", model, \"function and a sparse PC surrogate of order\", nord, \"is\")\n",
    "RMSE2"
   ]
  },
  {
   "cell_type": "markdown",
   "id": "ee477c90-d4ea-46ab-b3a7-61da8eb3ca71",
   "metadata": {},
   "source": [
    "## Random Sampling\n",
    "#### Regression"
   ]
  },
  {
   "cell_type": "markdown",
   "id": "f1f3b934-eba7-4981-9e95-6ab6c2a8d0a6",
   "metadata": {},
   "source": [
    "Similarly, we define a PC object for regression and then get a collection of random sample points in [-1,1]."
   ]
  },
  {
   "cell_type": "code",
   "execution_count": 15,
   "id": "dd118a31-830b-4894-b187-e7d38d313c66",
   "metadata": {},
   "outputs": [],
   "source": [
    "# Instantiate\n",
    "pc_model3 = uqtkpce.PCSet(\"NISPnoq\", nord, ndim, pc_type, pc_alpha, pc_beta)\n",
    "\n",
    "nTrain=pc_model3.GetNumberPCTerms()\n",
    "#randpts=np.random.normal(loc=0, scale=0.5, size=(int(nTrain*1.1), ndim))\n",
    "#np.random.seed(42)\n",
    "#randpts= 2*rng.random((int(nTrain), ndim))-1\n",
    "\n",
    "randpts=2*rng.random(n=int(nTrain*1.2))-1 #draw n samples from [-1,1]\n",
    "f_evals3=func(randpts,model,np.ones(ndim+1))"
   ]
  },
  {
   "cell_type": "code",
   "execution_count": 16,
   "id": "b6408dc5-1d60-4028-b74c-776e41f5b140",
   "metadata": {},
   "outputs": [
    {
     "data": {
      "text/plain": [
       "(24, 3)"
      ]
     },
     "execution_count": 16,
     "metadata": {},
     "output_type": "execute_result"
    }
   ],
   "source": [
    "randpts.shape"
   ]
  },
  {
   "cell_type": "code",
   "execution_count": 18,
   "id": "38012df7-a7ec-4da3-bfb1-2cbaa4ac6fcb",
   "metadata": {},
   "outputs": [
    {
     "data": {
      "text/plain": [
       "20"
      ]
     },
     "execution_count": 18,
     "metadata": {},
     "output_type": "execute_result"
    }
   ],
   "source": [
    "nTrain"
   ]
  },
  {
   "cell_type": "markdown",
   "id": "aeea0099-04f0-4061-aa20-176aa13572c3",
   "metadata": {},
   "source": [
    "Then, we use regression to find the PC coefficients and evaluate the PC at nSam sample points. The error between these evaluations and the actual model is determined."
   ]
  },
  {
   "cell_type": "code",
   "execution_count": 12,
   "id": "a2cfc58d-66fa-497f-aaac-2cbe5c1d62f5",
   "metadata": {},
   "outputs": [
    {
     "name": "stdout",
     "output_type": "stream",
     "text": [
      "The RMS error between a 3 -dimensional genz_osc function and a regression-based PC surrogate of order 3 is\n"
     ]
    },
    {
     "data": {
      "text/plain": [
       "0.0016187507585282224"
      ]
     },
     "execution_count": 12,
     "metadata": {},
     "output_type": "execute_result"
    }
   ],
   "source": [
    "#Regression\n",
    "c_k3 = pce_tools.UQTkRegression(pc_model3, f_evals3, randpts)\n",
    "\n",
    "# Validation points\n",
    "#germ_samples3=np.random.normal(0,1, (nSam,ndim))\n",
    "#germ_samples3=2*rng.random((nSam, ndim))-1\n",
    "germ_samples3=2*rng.random(n=nSam)-1\n",
    "pce_evals3=pce_tools.UQTkEvaluatePCE(pc_model3,c_k3,germ_samples3)\n",
    "\n",
    "#Error\n",
    "f_actual3=func(germ_samples3,model,np.ones(ndim+1))\n",
    "MSE3 = np.square(np.subtract(f_actual3,pce_evals3)).mean()\n",
    "RMSE3=math.sqrt(MSE3)\n",
    "print(\"The RMS error between a\", ndim, \"-dimensional\", model, \"function and a regression-based PC surrogate of order\", nord, \"is\")\n",
    "RMSE3"
   ]
  },
  {
   "cell_type": "markdown",
   "id": "fc987c4f-a8b4-46bf-94a2-32bfa8b40d77",
   "metadata": {},
   "source": [
    "#### BCS"
   ]
  },
  {
   "cell_type": "code",
   "execution_count": 13,
   "id": "6bec073b-6298-47c6-ba20-8a48cd6ac8cb",
   "metadata": {},
   "outputs": [],
   "source": [
    "pc_model4 = uqtkpce.PCSet(\"NISPnoq\", nord, ndim, pc_type, pc_alpha, pc_beta)\n",
    "nTrain2=int(pc_model4.GetNumberPCTerms()*1.2)\n",
    "randpts2=2*rng.random(n=nTrain2)-1\n",
    "f_evals4=func(randpts2, model, np.ones(ndim+1))"
   ]
  },
  {
   "cell_type": "code",
   "execution_count": 14,
   "id": "9de91054-432f-468a-8664-af6e54ddc454",
   "metadata": {},
   "outputs": [
    {
     "name": "stdout",
     "output_type": "stream",
     "text": [
      "Iteration # 0\n",
      "Iteration # 10\n",
      "Iteration # 20\n",
      "The RMS error between a 3 -dimensional genz_osc function and a BCS-based PC surrogate of order 3 is\n"
     ]
    },
    {
     "data": {
      "text/plain": [
       "0.00297733833070045"
      ]
     },
     "execution_count": 14,
     "metadata": {},
     "output_type": "execute_result"
    }
   ],
   "source": [
    "sigma = np.array([1e-8])   # inital noise variance; updated in BCS\n",
    "eta = 1e-8                 # threshold for stopping the algorithm\n",
    "lambda_init = np.array([]) # set lambda to a fixed nonnegative value\n",
    "\n",
    "scale = 0.1     # diagonal loading parameter\n",
    "adaptive = 1    # generative basis for adaptive CS, 0 or 1\n",
    "optimal = 1     # use the rigorous implementation of adaptive CS, 0 or 1\n",
    "\n",
    "c_k4 = pce_tools.UQTkBCS(pc_model4, f_evals4, randpts2, sigma, eta, lambda_init, adaptive, optimal, scale)\n",
    "\n",
    "germ_samples4=2*rng.random(n=nSam)-1\n",
    "pce_evals4=pce_tools.UQTkEvaluatePCE(pc_model4,c_k4,germ_samples4)\n",
    "\n",
    "#Error\n",
    "f_actual4=func(germ_samples4,model,np.ones(ndim+1))\n",
    "MSE4 = np.square(np.subtract(f_actual4,pce_evals4)).mean()\n",
    "RMSE4=math.sqrt(MSE4)\n",
    "print(\"The RMS error between a\", ndim, \"-dimensional\", model, \"function and a BCS-based PC surrogate of order\", nord, \"is\")\n",
    "RMSE4"
   ]
  }
 ],
 "metadata": {
  "kernelspec": {
   "display_name": "Python 3 (ipykernel)",
   "language": "python",
   "name": "python3"
  },
  "language_info": {
   "codemirror_mode": {
    "name": "ipython",
    "version": 3
   },
   "file_extension": ".py",
   "mimetype": "text/x-python",
   "name": "python",
   "nbconvert_exporter": "python",
   "pygments_lexer": "ipython3",
   "version": "3.9.12"
  }
 },
 "nbformat": 4,
 "nbformat_minor": 5
}
