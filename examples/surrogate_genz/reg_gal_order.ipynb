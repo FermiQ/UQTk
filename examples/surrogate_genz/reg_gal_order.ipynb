{
 "cells": [
  {
   "cell_type": "markdown",
   "id": "c32c8012-f3bf-4f96-9aff-e8b20eca1ec7",
   "metadata": {},
   "source": [
    "# Surrogate Construction for Genz Functions as a function of PC order"
   ]
  },
  {
   "cell_type": "markdown",
   "id": "6e289260-b35a-4113-90d9-6f0c2eb4bc92",
   "metadata": {},
   "source": [
    "This notebook constructs a PC surrogate for Genz functions using galerkin projection (full and sparse quadrature) and regression. It also calculates the RMS error and gives the root mean square error between the surrogate and the actual function."
   ]
  },
  {
   "cell_type": "code",
   "execution_count": 1,
   "id": "f74bf835-9ef7-452b-85cc-7fd3ebbe7dd3",
   "metadata": {},
   "outputs": [
    {
     "name": "stdout",
     "output_type": "stream",
     "text": [
      "PyMC is required for some of the MCMC postprocessing codes.\n",
      "Will proceed without, but some convergence tests will not be available.\n"
     ]
    }
   ],
   "source": [
    "# imports\n",
    "import numpy as np\n",
    "import math  \n",
    "import matplotlib.pyplot as plt\n",
    "import pandas as pd\n",
    "\n",
    "import PyUQTk.pce as uqtkpce\n",
    "import PyUQTk.PyPCE.pce_tools as pce_tools\n",
    "from PyUQTk.utils.func import *"
   ]
  },
  {
   "cell_type": "markdown",
   "id": "2a738a9c-0788-4813-87b0-3b46959a1866",
   "metadata": {},
   "source": [
    "## Inputs"
   ]
  },
  {
   "cell_type": "code",
   "execution_count": 2,
   "id": "29c32327-c82d-4663-8114-3eae87c27dde",
   "metadata": {},
   "outputs": [],
   "source": [
    "max_nord = 6        # Order of the PCE\n",
    "pc_type = \"LU\"      # Polynomial type\n",
    "pc_alpha = 0.0      # Free parameter > -1 for Gamma-Laguerre and Beta-Jacobi PCs\n",
    "pc_beta = 1.0       # Free parameter > -1 for Gamma-Laguerre and Beta-Jacobi PCs\n",
    "nSam = 10000       # Number of random samples\n",
    "ndim = 2           # Number of dimensions\n",
    "model= 'genz_osc'   # Choices are 'genz_osc', 'genz_exp', 'genz_cont','genz_gaus','genz_cpeak', 'genz_ppeak'  "
   ]
  },
  {
   "cell_type": "code",
   "execution_count": 3,
   "id": "e9dbfd8a-d219-424b-9f8b-c90186082bf9",
   "metadata": {},
   "outputs": [],
   "source": [
    "tot_ord=range(1, 1+max_nord)"
   ]
  },
  {
   "cell_type": "markdown",
   "id": "2dff42ac-8640-4230-bbd7-0a076c2e481b",
   "metadata": {},
   "source": [
    "## Regression\n",
    "We loop through different PC orders, calculating the coefficients with regression and obtaining the RMSE for each. We use 105% of the number of basis terms for sample points."
   ]
  },
  {
   "cell_type": "code",
   "execution_count": 4,
   "id": "352b547e-8ad7-4b2c-a4f5-d508627e010c",
   "metadata": {},
   "outputs": [],
   "source": [
    "errors1=[] # list to store errors\n",
    "std=[]\n",
    "# lopp through different PC orders\n",
    "for nord in tot_ord:\n",
    "    RMSE_list=[]\n",
    "    for i in range(10):\n",
    "        # Instantiate model\n",
    "        pc_model = uqtkpce.PCSet(\"NISPnoq\", nord, ndim,pc_type, pc_alpha,pc_beta)\n",
    "\n",
    "        # Training points\n",
    "        npce=pc_model.GetNumberPCTerms()\n",
    "        nTest=int(npce*1.1)\n",
    "        rand=np.random.normal(loc=0, scale=0.5, size=(nTest, ndim))\n",
    "        f_evals=func(rand, model, np.ones(ndim+1))\n",
    "\n",
    "        # Coefficients\n",
    "        c_k=pce_tools.UQTkRegression(pc_model, f_evals, rand)\n",
    "\n",
    "        # Testing points\n",
    "        germ_samples=np.random.normal(0,1, (nSam,ndim))\n",
    "        pce_evals=pce_tools.UQTkEvaluatePCE(pc_model,c_k,germ_samples)\n",
    "        f_actual=func(germ_samples,model,np.ones(ndim+1))\n",
    "\n",
    "        # Error\n",
    "        MSE = np.square(np.subtract(f_actual,pce_evals)).mean()\n",
    "        RMSE=math.sqrt(MSE)\n",
    "        RMSE_list.append(RMSE)\n",
    "    errors1.append(np.array(RMSE_list).mean())\n",
    "    std.append(np.std(np.array(RMSE_list)))"
   ]
  },
  {
   "cell_type": "markdown",
   "id": "b207d7cc-ddb6-47bc-a1f2-ea4d60de37a8",
   "metadata": {},
   "source": [
    "## Galerkin Projection and Full Quadrature\n",
    "We loop through different PC orders for full quadrature and obtain the RMSE for each."
   ]
  },
  {
   "cell_type": "code",
   "execution_count": 5,
   "id": "f277f835-ac6f-4aaf-aec9-dd6282bba4e7",
   "metadata": {},
   "outputs": [],
   "source": [
    "errors2=[] #list to store errors\n",
    "\n",
    "#Loop though different PC orders\n",
    "for nord in tot_ord:\n",
    "    \n",
    "    # Instantiate PC object\n",
    "    pc_model2 = uqtkpce.PCSet(\"NISPnoq\", nord, ndim, pc_type, pc_alpha, pc_beta)\n",
    "    \n",
    "    # Training points (full quadrature)\n",
    "    param = nord +1 # Number of quad points per dimension\n",
    "    pc_model2.SetQuadRule(pc_type, 'full', param)\n",
    "    qdpts, totquat= pce_tools.UQTkGetQuadPoints(pc_model2)\n",
    "    f_evals2=func(qdpts,model,np.ones(ndim+1))\n",
    "    \n",
    "    # Coefficients\n",
    "    c_k2 = pce_tools.UQTkGalerkinProjection(pc_model2,f_evals2)\n",
    "    \n",
    "    # Testing Points\n",
    "    germ_samples2=np.random.normal(0,1, (nSam,ndim))\n",
    "    pce_evals2=pce_tools.UQTkEvaluatePCE(pc_model2,c_k2,germ_samples2)\n",
    "    f_actual2=func(germ_samples2,model,np.ones(ndim+1))\n",
    "    \n",
    "    # Error\n",
    "    MSE2 = np.square(np.subtract(f_actual,pce_evals2)).mean()\n",
    "    RMSE2=math.sqrt(MSE2)\n",
    "    errors2.append(RMSE2)"
   ]
  },
  {
   "cell_type": "markdown",
   "id": "20f376ad-6ba3-4c7c-9db6-115e1e852e6d",
   "metadata": {},
   "source": [
    "## Galerkin Projection and Sparse Quadrature\n",
    "We loop through different PC orders for sparse quadrature and obtain the RMSE for each."
   ]
  },
  {
   "cell_type": "code",
   "execution_count": 7,
   "id": "03552da5-23c3-48ce-a2b1-7568f6ada15d",
   "metadata": {},
   "outputs": [],
   "source": [
    "errors3=[] #list to store quad errors\n",
    "\n",
    "#Loop though different values for PC order\n",
    "for nord in tot_ord:\n",
    "    \n",
    "    # Instantiate PC object\n",
    "    pc_model3 = uqtkpce.PCSet(\"NISPnoq\", nord, ndim, pc_type, pc_alpha, pc_beta)\n",
    "    \n",
    "    # Training points (sparse quadrature)\n",
    "    pc_model3.SetQuadRule(pc_type, 'sparse', param)\n",
    "    qdpts3, totquat3= pce_tools.UQTkGetQuadPoints(pc_model3)\n",
    "    f_evals3=func(qdpts3, model, np.ones(ndim+1))\n",
    "    \n",
    "    c_k3 = pce_tools.UQTkGalerkinProjection(pc_model3,f_evals3)\n",
    "    \n",
    "    germ_samples3=np.random.normal(0,1, (nSam,ndim))\n",
    "    pce_evals3=pce_tools.UQTkEvaluatePCE(pc_model3,c_k3,germ_samples3)\n",
    "    f_actual3=func(germ_samples3,model,np.ones(ndim+1))\n",
    "    MSE3 = np.square(np.subtract(f_actual3,pce_evals3)).mean()\n",
    "    RMSE3=math.sqrt(MSE3)\n",
    "    errors3.append(RMSE3)"
   ]
  },
  {
   "cell_type": "markdown",
   "id": "4e767b9c-afa3-4fb1-9599-8c9199c513bc",
   "metadata": {},
   "source": [
    "## Summary\n",
    "The following table and figures compare full and sparse quadrature RMSEs as a function of the PC order."
   ]
  },
  {
   "cell_type": "code",
   "execution_count": 8,
   "id": "a69c63dd-4a2a-49bd-87f7-e4494f54c3fd",
   "metadata": {},
   "outputs": [
    {
     "data": {
      "text/html": [
       "<div>\n",
       "<style scoped>\n",
       "    .dataframe tbody tr th:only-of-type {\n",
       "        vertical-align: middle;\n",
       "    }\n",
       "\n",
       "    .dataframe tbody tr th {\n",
       "        vertical-align: top;\n",
       "    }\n",
       "\n",
       "    .dataframe thead th {\n",
       "        text-align: right;\n",
       "    }\n",
       "</style>\n",
       "<table border=\"1\" class=\"dataframe\">\n",
       "  <thead>\n",
       "    <tr style=\"text-align: right;\">\n",
       "      <th></th>\n",
       "      <th>nord</th>\n",
       "      <th>Regression</th>\n",
       "      <th>Full</th>\n",
       "      <th>Sparse</th>\n",
       "    </tr>\n",
       "  </thead>\n",
       "  <tbody>\n",
       "    <tr>\n",
       "      <th>0</th>\n",
       "      <td>1.0</td>\n",
       "      <td>0.350980</td>\n",
       "      <td>0.756952</td>\n",
       "      <td>0.216093</td>\n",
       "    </tr>\n",
       "    <tr>\n",
       "      <th>1</th>\n",
       "      <td>2.0</td>\n",
       "      <td>0.353082</td>\n",
       "      <td>0.755377</td>\n",
       "      <td>0.130399</td>\n",
       "    </tr>\n",
       "    <tr>\n",
       "      <th>2</th>\n",
       "      <td>3.0</td>\n",
       "      <td>0.097742</td>\n",
       "      <td>0.704668</td>\n",
       "      <td>0.045028</td>\n",
       "    </tr>\n",
       "    <tr>\n",
       "      <th>3</th>\n",
       "      <td>4.0</td>\n",
       "      <td>0.185902</td>\n",
       "      <td>0.694254</td>\n",
       "      <td>0.024991</td>\n",
       "    </tr>\n",
       "    <tr>\n",
       "      <th>4</th>\n",
       "      <td>5.0</td>\n",
       "      <td>0.008660</td>\n",
       "      <td>0.693811</td>\n",
       "      <td>0.005033</td>\n",
       "    </tr>\n",
       "    <tr>\n",
       "      <th>5</th>\n",
       "      <td>6.0</td>\n",
       "      <td>0.017185</td>\n",
       "      <td>0.697706</td>\n",
       "      <td>0.005488</td>\n",
       "    </tr>\n",
       "  </tbody>\n",
       "</table>\n",
       "</div>"
      ],
      "text/plain": [
       "   nord  Regression      Full    Sparse\n",
       "0   1.0    0.350980  0.756952  0.216093\n",
       "1   2.0    0.353082  0.755377  0.130399\n",
       "2   3.0    0.097742  0.704668  0.045028\n",
       "3   4.0    0.185902  0.694254  0.024991\n",
       "4   5.0    0.008660  0.693811  0.005033\n",
       "5   6.0    0.017185  0.697706  0.005488"
      ]
     },
     "execution_count": 8,
     "metadata": {},
     "output_type": "execute_result"
    }
   ],
   "source": [
    "\n",
    "pd.DataFrame(data=np.transpose([tot_ord, errors1, errors2, errors3]), columns=[\"nord\", \"Regression\", \"Full\", \"Sparse\"])"
   ]
  },
  {
   "cell_type": "code",
   "execution_count": 9,
   "id": "b406371e-b580-42ca-aa65-d3e7379b32ef",
   "metadata": {},
   "outputs": [
    {
     "data": {
      "image/png": "[encoded data removed]",
      "text/plain": [
       "<Figure size 720x720 with 1 Axes>"
      ]
     },
     "metadata": {
      "needs_background": "light"
     },
     "output_type": "display_data"
    }
   ],
   "source": [
    "#Create figure\n",
    "fig, ax = plt.subplots(figsize=(10,10))\n",
    "#Plot Quadrature Data\n",
    "plt.errorbar(tot_ord, errors1, color='r', yerr=std, xerr=None, label='Regression')\n",
    "plt.plot(tot_ord, errors2, color='b', label='Full Quadrature')\n",
    "plt.plot(tot_ord, errors3, color='g', label='Sparse Quadrature')\n",
    "#Label Axes\n",
    "plt.xlabel(\"Order of the PCE\",fontsize=20)\n",
    "plt.ylabel(\"RMSE\",fontsize=20)\n",
    "#Create legend\n",
    "plt.legend(loc='lower left')\n",
    "\n",
    "#Model titles to be displayed\n",
    "if model==\"genz_osc\":\n",
    "    model_title=\"Genz Oscillatory\"\n",
    "elif model==\"genz_gaus\":\n",
    "    model_title=\"Genz Gaussian\"\n",
    "elif model==\"genz_ppeak\":\n",
    "    model_title=\"Genz Product-Peak\"\n",
    "elif model==\"genz_cpeak\":\n",
    "    model_title=\"Genz Corner-Peak\"\n",
    "elif model==\"genz_exp\":\n",
    "    model_title=\"Genz Exponential\"\n",
    "else:\n",
    "    model_title=\"Genz Continuous\"\n",
    "\n",
    "#Add title\n",
    "fig.suptitle(\"Comparison of Full and Sparse Quadrature\\nfor %s Model with\\\n",
    " Dimension %s\"%(model_title, str(ndim)), fontsize=22)\n",
    "#Make y scale logarithmic\n",
    "plt.yscale('log')\n",
    "#Change size of tick labels\n",
    "plt.tick_params(axis='both', labelsize=16)\n",
    "\n",
    "#Show figure\n",
    "plt.show() "
   ]
  }
 ],
 "metadata": {
  "kernelspec": {
   "display_name": "Python 3 (ipykernel)",
   "language": "python",
   "name": "python3"
  },
  "language_info": {
   "codemirror_mode": {
    "name": "ipython",
    "version": 3
   },
   "file_extension": ".py",
   "mimetype": "text/x-python",
   "name": "python",
   "nbconvert_exporter": "python",
   "pygments_lexer": "ipython3",
   "version": "3.9.12"
  }
 },
 "nbformat": 4,
 "nbformat_minor": 5
}
