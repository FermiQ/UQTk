{
 "cells": [
  {
   "cell_type": "markdown",
   "id": "39bfcf31-3e50-48bb-bffd-560189b6d471",
   "metadata": {},
   "source": [
    "# BCS Testing"
   ]
  },
  {
   "cell_type": "code",
   "execution_count": 1,
   "id": "fd6df840-efd3-4f4f-9263-4e7e51cd0160",
   "metadata": {},
   "outputs": [
    {
     "name": "stdout",
     "output_type": "stream",
     "text": [
      "PyMC is required for some of the MCMC postprocessing codes.\n",
      "Will proceed without, but some convergence tests will not be available.\n"
     ]
    }
   ],
   "source": [
    "import numpy as np\n",
    "from scipy.stats import qmc\n",
    "\n",
    "import PyUQTk.uqtkarray as uqtkarray\n",
    "import PyUQTk.pce as uqtkpce\n",
    "import PyUQTk.PyPCE.pce_tools as pce_tools\n",
    "\n",
    "import bcs as bcs\n",
    "import math\n",
    "import PyUQTk.bcs as bcs_tools\n",
    "\n",
    "import pandas as pd"
   ]
  },
  {
   "cell_type": "markdown",
   "id": "52ebc187-222c-4d38-bde2-20e6b4964e26",
   "metadata": {},
   "source": [
    "## Inputs"
   ]
  },
  {
   "cell_type": "code",
   "execution_count": 2,
   "id": "ef7db376-98d0-4e7c-859a-2b81e88af662",
   "metadata": {},
   "outputs": [],
   "source": [
    "nord = 5            # order of the polynomial\n",
    "ndim = 6            # number of dimensions\n",
    "pc_type=\"LU\"        # type of PC\n",
    "\n",
    "c_opt = \"alt\"        # method for selecting starting coefficients\n",
    "\n",
    "pc_alpha = 0.0      # Free parameter > -1 for Gamma-Laguerre and Beta-Jacobi PCs\n",
    "pc_beta = 1.0       # Free parameter > -1 for Gamma-Laguerre and Beta-Jacobi PCs"
   ]
  },
  {
   "cell_type": "markdown",
   "id": "8dc92216-e3f2-4f71-ba1e-67e2c1fc6cad",
   "metadata": {},
   "source": [
    "## Initialize PC"
   ]
  },
  {
   "cell_type": "code",
   "execution_count": 3,
   "id": "d2b82f7e-f30c-4160-b4bb-39829474049f",
   "metadata": {},
   "outputs": [],
   "source": [
    "pc_model = uqtkpce.PCSet(\"NISPnoq\", nord, ndim, pc_type, pc_alpha, pc_beta)"
   ]
  },
  {
   "cell_type": "markdown",
   "id": "5def4326-6c5a-47e0-b5f8-768c12f3d755",
   "metadata": {},
   "source": [
    "## BSC Inputs"
   ]
  },
  {
   "cell_type": "code",
   "execution_count": 4,
   "id": "f5749236-550d-4092-9c9e-d68bbf840436",
   "metadata": {},
   "outputs": [],
   "source": [
    "sigma = np.array([1.e-08]) # inital noise variance; updated in BCS\n",
    "#eta = 1e-7                 # algorithm stops once evidence gain falls below this threshold\n",
    "lambda_init = np.array([]) # paramter of the laplace distribution; leave empty or set lambda to a fixed nonnegative value"
   ]
  },
  {
   "cell_type": "markdown",
   "id": "25372eed-9afb-4564-81f6-89381fddb242",
   "metadata": {},
   "source": [
    "## Define coefficients"
   ]
  },
  {
   "cell_type": "code",
   "execution_count": 5,
   "id": "7c183836-bad9-46bc-a620-418bc92788f4",
   "metadata": {},
   "outputs": [],
   "source": [
    "npce=pc_model.GetNumberPCTerms()\n",
    "\n",
    "# sequence of increasing integers\n",
    "if (c_opt==\"seq\"):\n",
    "    coef=np.array([1/(i+1) for i in range(npce)])\n",
    "    \n",
    "# sequence of increasing integers alternating with zero    \n",
    "elif (c_opt==\"alt\"):\n",
    "    coef=np.zeros(npce)\n",
    "    for i in range(npce):\n",
    "        if (i%2==0):\n",
    "            coef[i]=1/(i+1)"
   ]
  },
  {
   "cell_type": "code",
   "execution_count": 6,
   "id": "2d20562b-01d3-4558-b937-a3eb5e4fb875",
   "metadata": {},
   "outputs": [],
   "source": [
    "rng = qmc.LatinHypercube(d=ndim, seed=42)\n",
    "nTest=int(npce*.75)\n",
    "nfolds=2\n",
    "x=2*rng.random(n=(nTest*nfolds))-1 # [-1,1]\n",
    "y=pce_tools.UQTkEvaluatePCE(pc_model, coef, x)"
   ]
  },
  {
   "cell_type": "code",
   "execution_count": 7,
   "id": "50cc0be6-0673-4fde-9419-1428c4ea786b",
   "metadata": {},
   "outputs": [],
   "source": [
    "e_tr=1/np.power(10,[i for i in range(1,13)])"
   ]
  },
  {
   "cell_type": "code",
   "execution_count": 15,
   "id": "05150f80-0cb4-4594-9d0e-3e3c875e00ed",
   "metadata": {},
   "outputs": [],
   "source": [
    "eta, eta_std = pce_tools.UQTkOptimizeEta(pc_model, x, y, e_tr, nfolds, sigma)"
   ]
  },
  {
   "cell_type": "code",
   "execution_count": 16,
   "id": "a5e774b6-b00d-445c-9b24-2abc82690cbe",
   "metadata": {},
   "outputs": [
    {
     "data": {
      "text/plain": [
       "5.05e-10"
      ]
     },
     "execution_count": 16,
     "metadata": {},
     "output_type": "execute_result"
    }
   ],
   "source": [
    "eta"
   ]
  },
  {
   "cell_type": "code",
   "execution_count": 9,
   "id": "70205274-99a9-4276-93ac-cdce0505fcd1",
   "metadata": {},
   "outputs": [
    {
     "ename": "TypeError",
     "evalue": "UQTkBCS() takes 5 positional arguments but 6 were given",
     "output_type": "error",
     "traceback": [
      "\u001b[0;31m---------------------------------------------------------------------------\u001b[0m",
      "\u001b[0;31mTypeError\u001b[0m                                 Traceback (most recent call last)",
      "Input \u001b[0;32mIn [9]\u001b[0m, in \u001b[0;36m<cell line: 3>\u001b[0;34m()\u001b[0m\n\u001b[1;32m      8\u001b[0m E_v\u001b[38;5;241m=\u001b[39m[]\n\u001b[1;32m      9\u001b[0m \u001b[38;5;28;01mfor\u001b[39;00m j, eta \u001b[38;5;129;01min\u001b[39;00m \u001b[38;5;28menumerate\u001b[39m(e_tr):\n\u001b[0;32m---> 10\u001b[0m     c_tr \u001b[38;5;241m=\u001b[39m\u001b[43mpce_tools\u001b[49m\u001b[38;5;241;43m.\u001b[39;49m\u001b[43mUQTkBCS\u001b[49m\u001b[43m(\u001b[49m\u001b[43mpc_model\u001b[49m\u001b[43m,\u001b[49m\u001b[43m \u001b[49m\u001b[43my_tr\u001b[49m\u001b[43m,\u001b[49m\u001b[43m \u001b[49m\u001b[43mx_tr\u001b[49m\u001b[43m,\u001b[49m\u001b[43m \u001b[49m\u001b[43msigma\u001b[49m\u001b[43m,\u001b[49m\u001b[43m \u001b[49m\u001b[43meta\u001b[49m\u001b[43m,\u001b[49m\u001b[43m \u001b[49m\u001b[43mlambda_init\u001b[49m\u001b[43m)\u001b[49m\n\u001b[1;32m     11\u001b[0m     phi_v_c_tr\u001b[38;5;241m=\u001b[39mpce_tools\u001b[38;5;241m.\u001b[39mUQTkEvaluatePCE(pc_model, c_tr, x_val)\n\u001b[1;32m     12\u001b[0m     E_v\u001b[38;5;241m.\u001b[39mappend(math\u001b[38;5;241m.\u001b[39msqrt(np\u001b[38;5;241m.\u001b[39msquare(np\u001b[38;5;241m.\u001b[39msubtract(y_val, phi_v_c_tr))\u001b[38;5;241m.\u001b[39mmean()))\n",
      "\u001b[0;31mTypeError\u001b[0m: UQTkBCS() takes 5 positional arguments but 6 were given"
     ]
    }
   ],
   "source": [
    "k=bcs_tools.kfoldCV(x, y, 2)\n",
    "eta_list=[]\n",
    "for i in range(nfolds):\n",
    "    x_tr=k[i]['xtrain']\n",
    "    y_tr=k[i]['ytrain']\n",
    "    x_val=k[i]['xval']\n",
    "    y_val=k[i]['yval']\n",
    "    E_v=[]\n",
    "    for j, eta in enumerate(e_tr):\n",
    "        c_tr =pce_tools.UQTkBCS(pc_model, y_tr, x_tr, sigma, eta, lambda_init)\n",
    "        phi_v_c_tr=pce_tools.UQTkEvaluatePCE(pc_model, c_tr, x_val)\n",
    "        E_v.append(math.sqrt(np.square(np.subtract(y_val, phi_v_c_tr)).mean()))\n",
    "    eta_o = e_tr[E_v.index(np.min(E_v))]\n",
    "    eta_list.append(e_tr[E_v.index(np.min(E_v))]*math.sqrt(x.shape[0]/x_tr.shape[0]))\n",
    "    print(eta_o)\n",
    "eta_opt=np.array(eta_list).mean()\n",
    "eta_std=np.std(np.array(eta_list))"
   ]
  },
  {
   "cell_type": "markdown",
   "id": "36ab111f-bb00-463e-bcec-e7b4c1f536f8",
   "metadata": {},
   "source": [
    "## Testing Points"
   ]
  },
  {
   "cell_type": "code",
   "execution_count": null,
   "id": "8fcf1b48-bf89-460e-8978-ba4789780ca5",
   "metadata": {},
   "outputs": [],
   "source": [
    "x_test=2*rng.random(n=pc_model.GetNumberPCTerms())-1 # [-1,1]\n",
    "y_test=pce_tools.UQTkEvaluatePCE(pc_model, coef, x_test)"
   ]
  },
  {
   "cell_type": "markdown",
   "id": "aec4670f-c9c3-4f18-9fb0-cffb52670350",
   "metadata": {},
   "source": [
    "## Calculate Errors"
   ]
  },
  {
   "cell_type": "code",
   "execution_count": null,
   "id": "1a51bd3b-de87-4f21-a298-fcec9b454ad0",
   "metadata": {},
   "outputs": [],
   "source": [
    "c_k, lam =pce_tools.UQTkBCS(pc_model, y_tr, x_tr, sigma, eta_opt, lambda_init)"
   ]
  },
  {
   "cell_type": "code",
   "execution_count": null,
   "id": "7e0bd2d6-f18f-4d90-9679-ffe322906b03",
   "metadata": {},
   "outputs": [],
   "source": [
    "MSE = np.square(np.subtract(c_k, coef)).mean()\n",
    "RMSE=math.sqrt(MSE)\n",
    "RMSE/np.linalg.norm(y_test)"
   ]
  },
  {
   "cell_type": "code",
   "execution_count": null,
   "id": "0f88a98d-45c8-44d4-ba78-515d7862ab85",
   "metadata": {},
   "outputs": [],
   "source": [
    "pce_evals=pce_tools.UQTkEvaluatePCE(pc_model, c_k, x_test)\n",
    "MSE = np.square(np.subtract(y_test, pce_evals)).mean()\n",
    "RMSE=math.sqrt(MSE)\n",
    "RMSE/np.linalg.norm(y_test)"
   ]
  },
  {
   "cell_type": "code",
   "execution_count": null,
   "id": "ec73ecae-0fd6-4c3b-bdac-4e0ddf0f705e",
   "metadata": {},
   "outputs": [],
   "source": [
    "print(\"Nonzero coefficients found:  \", np.nonzero(c_k)[0].shape[0])\n",
    "print(\"Total nonzero coefficients:  \", np.nonzero(coef)[0].shape[0])"
   ]
  },
  {
   "cell_type": "code",
   "execution_count": null,
   "id": "1a2e15c3-7fc3-4bbd-badf-c8cdbd77d592",
   "metadata": {},
   "outputs": [],
   "source": [
    "pd.DataFrame(data=np.transpose([c_k, coef]), columns=['bcs', 'actual'])"
   ]
  }
 ],
 "metadata": {
  "kernelspec": {
   "display_name": "Python 3 (ipykernel)",
   "language": "python",
   "name": "python3"
  },
  "language_info": {
   "codemirror_mode": {
    "name": "ipython",
    "version": 3
   },
   "file_extension": ".py",
   "mimetype": "text/x-python",
   "name": "python",
   "nbconvert_exporter": "python",
   "pygments_lexer": "ipython3",
   "version": "3.9.12"
  }
 },
 "nbformat": 4,
 "nbformat_minor": 5
}
