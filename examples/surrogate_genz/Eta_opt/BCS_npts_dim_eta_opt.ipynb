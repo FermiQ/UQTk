{
 "cells": [
  {
   "cell_type": "markdown",
   "id": "c32c8012-f3bf-4f96-9aff-e8b20eca1ec7",
   "metadata": {},
   "source": [
    "# Surrogate Construction for Genz Functions with regression as a function of the number of training points"
   ]
  },
  {
   "cell_type": "markdown",
   "id": "6e289260-b35a-4113-90d9-6f0c2eb4bc92",
   "metadata": {},
   "source": [
    "This notebook constructs a PC surrogate for Genz functions using random sampling and regression, giving the RMS error bewteen the surrogate and the actual function. Both the Genz function and PCE are defined on [-1,1]."
   ]
  },
  {
   "cell_type": "code",
   "execution_count": 1,
   "id": "f74bf835-9ef7-452b-85cc-7fd3ebbe7dd3",
   "metadata": {},
   "outputs": [
    {
     "name": "stdout",
     "output_type": "stream",
     "text": [
      "PyMC is required for some of the MCMC postprocessing codes.\n",
      "Will proceed without, but some convergence tests will not be available.\n"
     ]
    }
   ],
   "source": [
    "# imports\n",
    "import numpy as np\n",
    "import math  \n",
    "import matplotlib.pyplot as plt\n",
    "import pandas as pd\n",
    "from scipy.stats import qmc\n",
    "\n",
    "import PyUQTk.pce as uqtkpce\n",
    "import PyUQTk.PyPCE.pce_tools as pce_tools\n",
    "from PyUQTk.utils.func import *\n",
    "import PyUQTk.uqtkarray as uqtkarray"
   ]
  },
  {
   "cell_type": "markdown",
   "id": "532e0f3a-c607-4877-b64f-4a9cf1c40556",
   "metadata": {},
   "source": [
    "## Inputs"
   ]
  },
  {
   "cell_type": "code",
   "execution_count": 2,
   "id": "aa0bbccd-c5e7-40ab-a720-9ccf740514e9",
   "metadata": {},
   "outputs": [],
   "source": [
    "nord = 5           # Order of the PCE\n",
    "pc_type = \"LU\"     # Polynomial type\n",
    "pc_alpha = 0.0     # Free parameter > -1 for Gamma-Laguerre and Beta-Jacobi PCs\n",
    "pc_beta = 1.0      # Free parameter > -1 for Gamma-Laguerre and Beta-Jacobi PCs\n",
    "nSam = 10000       # Number of evaluation samples samples\n",
    "c_opt='alt'\n",
    "max_dim=6"
   ]
  },
  {
   "cell_type": "markdown",
   "id": "9af29d8a-211a-4aa0-9b54-c0405c500cc7",
   "metadata": {},
   "source": [
    "First, we define the random number generator."
   ]
  },
  {
   "cell_type": "markdown",
   "id": "c6a4aa23-1520-4f0f-82b5-7f0385e5bcbe",
   "metadata": {},
   "source": [
    "## Collecting Errors"
   ]
  },
  {
   "cell_type": "markdown",
   "id": "57f25d56-003f-4ca6-b6bc-147abc4001e3",
   "metadata": {},
   "source": [
    "We loop through different numbers of random samples to feed into regression and obtain the RMSE. We start with a number of samples equal to 90% of the basis terms and continue to 125%."
   ]
  },
  {
   "cell_type": "code",
   "execution_count": 3,
   "id": "1246d850-7f00-4d49-b217-b402fc2bec41",
   "metadata": {},
   "outputs": [],
   "source": [
    "sigma = np.array([1.e-08]) # inital noise variance; updated in BCS\n",
    "\n",
    "nfolds=2"
   ]
  },
  {
   "cell_type": "code",
   "execution_count": 4,
   "id": "49a98c9b-87ca-4497-9e00-12883c41b5f4",
   "metadata": {},
   "outputs": [
    {
     "ename": "TypeError",
     "evalue": "The first input argument needs to be a sequence",
     "output_type": "error",
     "traceback": [
      "\u001b[0;31m---------------------------------------------------------------------------\u001b[0m",
      "\u001b[0;31mTypeError\u001b[0m                                 Traceback (most recent call last)",
      "Input \u001b[0;32mIn [4]\u001b[0m, in \u001b[0;36m<cell line: 10>\u001b[0;34m()\u001b[0m\n\u001b[1;32m     44\u001b[0m \u001b[38;5;66;03m# optimize eta\u001b[39;00m\n\u001b[1;32m     45\u001b[0m e_tr\u001b[38;5;241m=\u001b[39m\u001b[38;5;241m1\u001b[39m\u001b[38;5;241m/\u001b[39mnp\u001b[38;5;241m.\u001b[39mpower(\u001b[38;5;241m10\u001b[39m,[i \u001b[38;5;28;01mfor\u001b[39;00m i \u001b[38;5;129;01min\u001b[39;00m \u001b[38;5;28mrange\u001b[39m(\u001b[38;5;241m1\u001b[39m,\u001b[38;5;241m13\u001b[39m)])\n\u001b[0;32m---> 46\u001b[0m eta, eta_std, x_tr, y_tr \u001b[38;5;241m=\u001b[39m \u001b[43mpce_tools\u001b[49m\u001b[38;5;241;43m.\u001b[39;49m\u001b[43mUQTkOptimizeEta\u001b[49m\u001b[43m(\u001b[49m\u001b[43mpc_model\u001b[49m\u001b[43m,\u001b[49m\u001b[43m \u001b[49m\u001b[43mx\u001b[49m\u001b[43m,\u001b[49m\u001b[43m \u001b[49m\u001b[43my\u001b[49m\u001b[43m,\u001b[49m\u001b[43m \u001b[49m\u001b[43me_tr\u001b[49m\u001b[43m,\u001b[49m\u001b[43m \u001b[49m\u001b[43mnfolds\u001b[49m\u001b[43m,\u001b[49m\u001b[43m \u001b[49m\u001b[43msigma\u001b[49m\u001b[43m)\u001b[49m\n\u001b[1;32m     47\u001b[0m e[ndim\u001b[38;5;241m-\u001b[39m\u001b[38;5;241m1\u001b[39m][j]\u001b[38;5;241m=\u001b[39meta\n\u001b[1;32m     49\u001b[0m \u001b[38;5;66;03m# find coefficients\u001b[39;00m\n",
      "File \u001b[0;32m~/UQtk-getz/UQTk-SNL-install/PyUQTk/PyPCE/pce_tools.py:476\u001b[0m, in \u001b[0;36mUQTkOptimizeEta\u001b[0;34m(pc_model, xdata, ydata, eta_array, folds, sigma)\u001b[0m\n\u001b[1;32m    473\u001b[0m eta_opt\u001b[38;5;241m=\u001b[39mnp\u001b[38;5;241m.\u001b[39marray(eta_list)\u001b[38;5;241m.\u001b[39mmean()\n\u001b[1;32m    474\u001b[0m eta_std\u001b[38;5;241m=\u001b[39mnp\u001b[38;5;241m.\u001b[39mstd(np\u001b[38;5;241m.\u001b[39marray(eta_list))\n\u001b[0;32m--> 476\u001b[0m x_tr\u001b[38;5;241m=\u001b[39m\u001b[43mnp\u001b[49m\u001b[38;5;241;43m.\u001b[39;49m\u001b[43mconcatenate\u001b[49m\u001b[43m(\u001b[49m\u001b[43mk\u001b[49m\u001b[43m[\u001b[49m\u001b[43mi\u001b[49m\u001b[43m]\u001b[49m\u001b[43m[\u001b[49m\u001b[38;5;124;43m'\u001b[39;49m\u001b[38;5;124;43mxtrain\u001b[39;49m\u001b[38;5;124;43m'\u001b[39;49m\u001b[43m]\u001b[49m\u001b[43m \u001b[49m\u001b[38;5;28;43;01mfor\u001b[39;49;00m\u001b[43m \u001b[49m\u001b[43mi\u001b[49m\u001b[43m \u001b[49m\u001b[38;5;129;43;01min\u001b[39;49;00m\u001b[43m \u001b[49m\u001b[38;5;28;43mrange\u001b[39;49m\u001b[43m(\u001b[49m\u001b[43mfolds\u001b[49m\u001b[43m)\u001b[49m\u001b[43m)\u001b[49m\n\u001b[1;32m    477\u001b[0m y_tr\u001b[38;5;241m=\u001b[39mnp\u001b[38;5;241m.\u001b[39mconcatenate(k[i][\u001b[38;5;124m'\u001b[39m\u001b[38;5;124mytrain\u001b[39m\u001b[38;5;124m'\u001b[39m] \u001b[38;5;28;01mfor\u001b[39;00m i \u001b[38;5;129;01min\u001b[39;00m \u001b[38;5;28mrange\u001b[39m(folds))\n\u001b[1;32m    479\u001b[0m \u001b[38;5;28;01mreturn\u001b[39;00m eta_opt, eta_std\n",
      "File \u001b[0;32m<__array_function__ internals>:5\u001b[0m, in \u001b[0;36mconcatenate\u001b[0;34m(*args, **kwargs)\u001b[0m\n",
      "\u001b[0;31mTypeError\u001b[0m: The first input argument needs to be a sequence"
     ]
    }
   ],
   "source": [
    "percent=[.5, .6, .7, .8, .9, 1, 1.1] # fractions of the number of basis terms to use\n",
    "e_tr=1/np.power(10,[i for i in range(1,13)])\n",
    "\n",
    "mean_dim_errors=np.zeros((max_dim, len(percent)))\n",
    "std_dim_errors=np.zeros((max_dim, len(percent)))\n",
    "nonz_m_dim=np.zeros((max_dim, len(percent)))\n",
    "nonz_s_dim=np.zeros((max_dim, len(percent)))\n",
    "e=np.zeros((max_dim, len(percent)))\n",
    "\n",
    "for ndim in range(1, max_dim+1):\n",
    "    # instantiate random generator\n",
    "    rng = qmc.LatinHypercube(d=ndim, seed=42)\n",
    "\n",
    "    # instantiate PC object\n",
    "    pc_model = uqtkpce.PCSet(\"NISPnoq\", nord, ndim, pc_type, pc_alpha, pc_beta)\n",
    "    npce=pc_model.GetNumberPCTerms()\n",
    "\n",
    "    if (c_opt==\"seq\"):\n",
    "        coef=np.array([1/(i+1) for i in range(npce)])\n",
    "        sparse=''   \n",
    "    elif (c_opt==\"alt\"):\n",
    "        coef=np.zeros(npce)\n",
    "        for i in range(npce):\n",
    "            if (i%2==0):\n",
    "                coef[i]=1/(i+1)   \n",
    "            sparse='sparse'\n",
    "    # list to store stats for each percent\n",
    "    mean_per_errors=[]\n",
    "    std_per_errors=[]\n",
    "    nonz_m=[]\n",
    "    nonz_s=[]\n",
    "\n",
    "    for j, per in enumerate(percent):\n",
    "        nTest=int(npce*per)\n",
    "\n",
    "        # list to store stats for the 10 trials\n",
    "        NRMSE_list=[]\n",
    "        retain=[]\n",
    "        \n",
    "        # x and y training and validation data\n",
    "        x=2*rng.random(n=nTest*nfolds)-1\n",
    "        y=pce_tools.UQTkEvaluatePCE(pc_model, coef, x)\n",
    "        \n",
    "        # optimize eta\n",
    "        e_tr=1/np.power(10,[i for i in range(1,13)])\n",
    "        for i in range(10):\n",
    "            x_tr=2*rng.random(n=nTest)-1\n",
    "            y_tr=pce_tools.UQTkEvaluatePCE(pc_model, coef, x_tr) \n",
    "\n",
    "            x_val=2*rng.random(n=nTest)-1\n",
    "            y_val=pce_tools.UQTkEvaluatePCE(pc_model, coef, x_val)\n",
    "            \n",
    "            eta = pce_tools.UQTkOptimizeEta(pc_model, x_tr, y_tr, x_val, y_val, e_tr, sigma)\n",
    "            \n",
    "        e[ndim-1][j]=eta\n",
    "        \n",
    "        # find coefficients\n",
    "        c_k = pce_tools.UQTkBCS(pc_model, y_tr, x_tr, sigma, eta)\n",
    "\n",
    "        # for 10 samples\n",
    "        for i in range(10):\n",
    "            # evaluate at random samples\n",
    "            x_test=2*rng.random(n=nSam)-1\n",
    "            pce_evals=pce_tools.UQTkEvaluatePCE(pc_model,c_k,x_test)\n",
    "\n",
    "            # find error\n",
    "            y_test=pce_tools.UQTkEvaluatePCE(pc_model, coef, x_test)\n",
    "            MSE = np.square(np.subtract(y_test,pce_evals)).mean()\n",
    "            RMSE=math.sqrt(MSE)\n",
    "            NRMSE_list.append(RMSE/np.linalg.norm(y_test))\n",
    "\n",
    "            retain.append(np.nonzero(c_k)[0].shape[0])\n",
    "            \n",
    "        # add the results of the 10 trials    \n",
    "        mean_per_errors.append(np.array(NRMSE_list).mean())\n",
    "        std_per_errors.append(np.std(np.array(NRMSE_list)))\n",
    "        nonz_m.append(np.array(retain).mean()/np.nonzero(coef)[0].shape[0])\n",
    "        nonz_s.append(np.std(np.array(retain))/np.nonzero(coef)[0].shape[0])\n",
    "     \n",
    "    mean_dim_errors[ndim-1]=mean_per_errors\n",
    "    std_dim_errors[ndim-1]=std_per_errors\n",
    "    nonz_m_dim[ndim-1]=nonz_m\n",
    "    nonz_s_dim[ndim-1]=nonz_s"
   ]
  },
  {
   "cell_type": "markdown",
   "id": "6ee2389e-3a0d-450f-b13b-66c4fe28c494",
   "metadata": {},
   "source": [
    "## Summary\n",
    "This table and figure display the error of each number of training points for each dimension. The number of training points varies as a percentage of the number of basis terms."
   ]
  },
  {
   "cell_type": "code",
   "execution_count": null,
   "id": "309bf397-feb6-4889-8f3a-d3e0c62aac7b",
   "metadata": {},
   "outputs": [],
   "source": [
    "# Create figure\n",
    "fig, ax = plt.subplots(figsize=(10,10))\n",
    "\n",
    "# Plot Error Data\n",
    "for ndim in range(1, max_dim +1):\n",
    "    plt.errorbar(percent, mean_dim_errors[ndim-1], yerr=std_dim_errors[ndim-1], xerr=None, linewidth=2, markersize=8, capsize=10, label=str('ndim'+str(ndim)))\n",
    "\n",
    "# Line where number of samples = number of basis terms\n",
    "plt.vlines(x = 1, ymin = 0, ymax = 10, colors = 'black', linestyle=\"dashed\")\n",
    "\n",
    "# Label Axes\n",
    "plt.xlabel(\"Fraction of the number of basis terms\",fontsize=20)\n",
    "plt.ylabel(\"NRMSE\",fontsize=20)\n",
    "\n",
    "# Create legend\n",
    "plt.legend(loc='lower left')\n",
    "\n",
    "# Add title\n",
    "fig.suptitle(\"BCS with different numbers of sample points\\nfor LU %s polynomial with\\\n",
    " PC Order %s\"%(sparse, str(nord)), fontsize=22)\n",
    "\n",
    "# Change y scale\n",
    "plt.yscale('log')\n",
    "\n",
    "#Change size of tick labels\n",
    "plt.tick_params(axis='both', labelsize=16)\n",
    "\n",
    "#Show figure\n",
    "plt.show()"
   ]
  },
  {
   "cell_type": "code",
   "execution_count": null,
   "id": "2a92c92c-0e96-45c0-95a7-96113aaaf0c5",
   "metadata": {},
   "outputs": [],
   "source": []
  },
  {
   "cell_type": "code",
   "execution_count": null,
   "id": "37d8bd41-f869-46a2-87b6-c7cf73b09dfa",
   "metadata": {},
   "outputs": [],
   "source": [
    "# Create figure\n",
    "fig, ax = plt.subplots(figsize=(10,10))\n",
    "\n",
    "# Plot Error Data\n",
    "for ndim in range(1, max_dim +1):\n",
    "    plt.errorbar(percent, nonz_m_dim[ndim-1], yerr=nonz_s_dim[ndim-1], xerr=None, linewidth=2, markersize=8, capsize=10, label=str('ndim'+str(ndim)))\n",
    "\n",
    "# Label Axes\n",
    "plt.xlabel(\"Fraction of the number of basis terms\",fontsize=20)\n",
    "plt.ylabel(\"% Nonzero terms\",fontsize=20)\n",
    "\n",
    "# Create legend\n",
    "plt.legend(loc='lower left')\n",
    "\n",
    "# Add title\n",
    "fig.suptitle(\"BCS with different numbers of sample points\\nfor LU %s polynomial with\\\n",
    " PC Order %s\"%(sparse, str(nord)), fontsize=22)\n",
    "\n",
    "#Change size of tick labels\n",
    "plt.tick_params(axis='both', labelsize=16)\n",
    "\n",
    "#Show figure\n",
    "plt.show() "
   ]
  },
  {
   "cell_type": "code",
   "execution_count": null,
   "id": "804082de-3c9a-4220-a91a-518c339de931",
   "metadata": {},
   "outputs": [],
   "source": [
    "    ## select E_v for 10 sets of training and validation data\n",
    "#         eta_master=np.empty((10, 2))\n",
    "#         eta_list=[]\n",
    "#         for i in range(10):\n",
    "#             E_v=[]\n",
    "#             for j, eta in enumerate(e_tr):\n",
    "#                 x_tr=2*rng.random(n=nTest)-1\n",
    "#                 y_tr=pce_tools.UQTkEvaluatePCE(pc_model, coef, x_tr) \n",
    "\n",
    "#                 x_val=2*rng.random(n=nTest)-1\n",
    "#                 y_val=pce_tools.UQTkEvaluatePCE(pc_model, coef, x_val)\n",
    "\n",
    "#                 c_tr=pce_tools.UQTkBCS(pc_model, y_tr, x_tr, sigma, eta, lambda_init)\n",
    "#                 phi_v_c_tr=pce_tools.UQTkEvaluatePCE(pc_model, c_tr, x_val)\n",
    "#                 E_v.append(math.sqrt(np.square(np.subtract(y_val, phi_v_c_tr)).mean()))\n",
    "#             eta_list.append( e_tr[E_v.index(np.min(E_v))])\n",
    "            \n",
    "#         eta_opt=np.array(eta_list).mean()\n",
    "#         eta_std=np.std(np.array(eta_list))"
   ]
  }
 ],
 "metadata": {
  "kernelspec": {
   "display_name": "Python 3 (ipykernel)",
   "language": "python",
   "name": "python3"
  },
  "language_info": {
   "codemirror_mode": {
    "name": "ipython",
    "version": 3
   },
   "file_extension": ".py",
   "mimetype": "text/x-python",
   "name": "python",
   "nbconvert_exporter": "python",
   "pygments_lexer": "ipython3",
   "version": "3.9.12"
  }
 },
 "nbformat": 4,
 "nbformat_minor": 5
}
