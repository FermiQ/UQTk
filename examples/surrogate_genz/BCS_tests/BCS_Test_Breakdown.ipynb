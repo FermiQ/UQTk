{
 "cells": [
  {
   "cell_type": "markdown",
   "id": "0c1fa430-d094-41a2-9218-588da0773338",
   "metadata": {},
   "source": [
    "# BCS Testing Breakdown"
   ]
  },
  {
   "cell_type": "code",
   "execution_count": 1,
   "id": "ef89e17b-24dd-4af7-9b29-cb30466e507f",
   "metadata": {},
   "outputs": [
    {
     "name": "stdout",
     "output_type": "stream",
     "text": [
      "PyMC is required for some of the MCMC postprocessing codes.\n",
      "Will proceed without, but some convergence tests will not be available.\n"
     ]
    }
   ],
   "source": [
    "# imports\n",
    "import numpy as np\n",
    "import math  \n",
    "import matplotlib.pyplot as plt\n",
    "import pandas as pd\n",
    "from scipy.stats import qmc\n",
    "\n",
    "import PyUQTk.pce as uqtkpce\n",
    "import PyUQTk.PyPCE.pce_tools as pce_tools\n",
    "from PyUQTk.utils.func import *\n",
    "import PyUQTk.uqtkarray as uqtkarray"
   ]
  },
  {
   "cell_type": "markdown",
   "id": "134ad62e-d879-4113-ba5e-c0e57b8c7668",
   "metadata": {},
   "source": [
    "## Inputs"
   ]
  },
  {
   "cell_type": "code",
   "execution_count": 2,
   "id": "d76199e8-9908-4596-931d-8940bbeee189",
   "metadata": {},
   "outputs": [],
   "source": [
    "nord = 15           # Order of the final PCE\n",
    "pc_type = \"LU\"     # Polynomial type\n",
    "\n",
    "ndim = 4\n",
    "upit=12\n",
    "\n",
    "pc_alpha = 0.0     # Free parameter > -1 for Gamma-Laguerre and Beta-Jacobi PCs\n",
    "pc_beta = 1.0      # Free parameter > -1 for Gamma-Laguerre and Beta-Jacobi PCs\n",
    "\n",
    "c_opt='seq'\n",
    "sigma = np.array([1.e-08]) # inital noise variance; updated in BCS\n",
    "model='LU'\n",
    "nSam=10000\n",
    "\n",
    "eta=1e-9"
   ]
  },
  {
   "cell_type": "markdown",
   "id": "daa1428f-148d-4b1e-80a4-e7746595542d",
   "metadata": {},
   "source": [
    "## Model for BCS"
   ]
  },
  {
   "cell_type": "code",
   "execution_count": 3,
   "id": "bb13746c-1fbf-474e-ae0f-d645d98ea82f",
   "metadata": {},
   "outputs": [],
   "source": [
    "pc_model = uqtkpce.PCSet(\"NISPnoq\", nord-upit, ndim, pc_type, pc_alpha, pc_beta)"
   ]
  },
  {
   "cell_type": "markdown",
   "id": "f85fa8f6-6725-48db-9de2-97fe0dd0c12d",
   "metadata": {},
   "source": [
    "## Setting Training and Testing"
   ]
  },
  {
   "cell_type": "code",
   "execution_count": 4,
   "id": "7b100a20-7ee1-4e39-823c-7141af836bea",
   "metadata": {},
   "outputs": [],
   "source": [
    "# polynomial goal\n",
    "poly = uqtkpce.PCSet(\"NISPnoq\", nord, ndim, pc_type, pc_alpha, pc_beta)\n",
    "npce_full=poly.GetNumberPCTerms()\n",
    "\n",
    "# sequence of increasing integers\n",
    "if (c_opt==\"seq\"):\n",
    "    coef=np.array([1/(i+1) for i in range(npce_full)])\n",
    "    \n",
    "# sequence of increasing integers alternating with zero    \n",
    "elif (c_opt==\"alt\"):\n",
    "    coef=np.zeros(npce_full)\n",
    "    for i in range(npce_full):\n",
    "        if (i%2==0):\n",
    "            coef[i]=1/(i+1)\n",
    "\n",
    "# Training Data\n",
    "nTest=int(npce_full*2)\n",
    "rng = qmc.LatinHypercube(d=ndim, seed=43)\n",
    "\n",
    "x_tr=2*rng.random(n=nTest)-1 #[-1,1]\n",
    "if (model=='LU'):\n",
    "    y_tr=pce_tools.UQTkEvaluatePCE(poly, coef, x_tr)\n",
    "else:\n",
    "    y_tr=func(x_tr,model,np.ones(ndim+1))\n",
    "    \n",
    "# Testing Data\n",
    "x_test=2*rng.random(n=nSam)-1\n",
    "\n",
    "if (model=='LU'):\n",
    "    y_test=pce_tools.UQTkEvaluatePCE(poly, coef, x_test)\n",
    "else:\n",
    "    y_test=func(x_test, model, np.ones(ndim+1))"
   ]
  },
  {
   "cell_type": "markdown",
   "id": "98acbe3b-bf19-43d2-8a01-167d3e30e63b",
   "metadata": {},
   "source": [
    "## BCS inputs"
   ]
  },
  {
   "cell_type": "code",
   "execution_count": 5,
   "id": "f4ad3c81-b25c-4493-81f7-065ea7040389",
   "metadata": {},
   "outputs": [],
   "source": [
    "lambda_init=np.array([])\n",
    "adaptive = 0 # Flag for adaptive implementation, using a generative basis, set to 0 or 1\n",
    "optimal = 1  # Flag for optimal implementation, rigorous implementation of adaptive CS, set to 0 or 1\n",
    "scale = 0.1  # Diagonal loading parameter; relevant only in adaptive, non-optimal implementation"
   ]
  },
  {
   "cell_type": "code",
   "execution_count": 6,
   "id": "1aa433d5-5e91-4395-bac9-f8c156fd657c",
   "metadata": {},
   "outputs": [
    {
     "name": "stdout",
     "output_type": "stream",
     "text": [
      "Our starting basis has 35 terms\n"
     ]
    }
   ],
   "source": [
    "print(\"Our starting basis has\", pc_model.GetNumberPCTerms(), \"terms\")"
   ]
  },
  {
   "cell_type": "markdown",
   "id": "f96580d7-7f1d-43f3-aee4-ab9069940560",
   "metadata": {},
   "source": [
    "## Iteration 0"
   ]
  },
  {
   "cell_type": "code",
   "execution_count": 7,
   "id": "cad8321b-2af2-4fed-8fde-110a24fb6e1d",
   "metadata": {},
   "outputs": [
    {
     "name": "stdout",
     "output_type": "stream",
     "text": [
      "After the 0th iteration\n",
      "BCS has selected 35 basis terms out of 35\n"
     ]
    }
   ],
   "source": [
    "# UQTk array for sigma\n",
    "sig_uqtk=uqtkarray.dblArray1D(sigma.size)\n",
    "sig_uqtk=uqtkarray.numpy2uqtk(np.asfortranarray(sigma))\n",
    "\n",
    "# UQTk array for lambda_init\n",
    "lam_uqtk=uqtkarray.dblArray1D(sigma.size)\n",
    "lam_uqtk=uqtkarray.numpy2uqtk(np.asfortranarray(lambda_init))\n",
    "\n",
    "#UQTk array for samples - [nqp, ndim]\n",
    "sam_uqtk=uqtkarray.dblArray2D(y_tr.shape[0], ndim)\n",
    "sam_uqtk=uqtkarray.numpy2uqtk(np.asfortranarray(x_tr))\n",
    "\n",
    "# UQTk array for function f_evaluations\n",
    "y = uqtkarray.dblArray1D()\n",
    "y = uqtkarray.numpy2uqtk(np.asfortranarray(y_tr))\n",
    "\n",
    "print(\"After the 0th iteration\")\n",
    "weights, used = pce_tools.evalbcs(pc_model, y, sam_uqtk, sig_uqtk, eta, lam_uqtk, adaptive, optimal, scale)"
   ]
  },
  {
   "cell_type": "code",
   "execution_count": 9,
   "id": "1317b763-f146-4a89-90a1-3f9305165971",
   "metadata": {},
   "outputs": [
    {
     "name": "stdout",
     "output_type": "stream",
     "text": [
      "After Iteration 1\n",
      "35 terms added; new multiindex has 70 terms\n",
      "BCS has selected 48 basis terms out of 70\n",
      "After Iteration 2\n",
      "32 terms added; new multiindex has 80 terms\n",
      "BCS has selected 52 basis terms out of 80\n",
      "After Iteration 3\n",
      "30 terms added; new multiindex has 82 terms\n",
      "BCS has selected 52 basis terms out of 82\n",
      "After Iteration 4\n",
      "27 terms added; new multiindex has 79 terms\n",
      "BCS has selected 52 basis terms out of 79\n",
      "After Iteration 5\n",
      "29 terms added; new multiindex has 81 terms\n",
      "BCS has selected 52 basis terms out of 81\n",
      "After Iteration 6\n",
      "29 terms added; new multiindex has 81 terms\n",
      "BCS has selected 52 basis terms out of 81\n",
      "After Iteration 7\n",
      "31 terms added; new multiindex has 83 terms\n",
      "BCS has selected 53 basis terms out of 83\n",
      "After Iteration 8\n",
      "28 terms added; new multiindex has 81 terms\n",
      "BCS has selected 52 basis terms out of 81\n",
      "After Iteration 9\n",
      "30 terms added; new multiindex has 82 terms\n",
      "BCS has selected 53 basis terms out of 82\n",
      "After Iteration 10\n",
      "31 terms added; new multiindex has 84 terms\n",
      "BCS has selected 53 basis terms out of 84\n",
      "After Iteration 11\n",
      "28 terms added; new multiindex has 81 terms\n",
      "BCS has selected 52 basis terms out of 81\n",
      "After Iteration 12\n",
      "32 terms added; new multiindex has 84 terms\n",
      "BCS has selected 53 basis terms out of 84\n"
     ]
    }
   ],
   "source": [
    "import PyUQTk.utils.multiindex as uqtkmi\n",
    "if(upit>=0):\n",
    "    for it in range(upit):\n",
    "        print(\"After Iteration\", it+1)\n",
    "        \n",
    "        # uqtk array for multiindex\n",
    "        mi_uqtk = uqtkarray.intArray2D(pc_model.GetNumberPCTerms(),ndim)\n",
    "        # retrieve multiindex\n",
    "        pc_model.GetMultiIndex(mi_uqtk)\n",
    "        #uqtk array new multi index\n",
    "        used_mi_uqtk=uqtkarray.intArray2D()\n",
    "        # calculate new multiindex from the rows that are being used\n",
    "        uqtkarray.subMatrix_row_int(mi_uqtk, used, used_mi_uqtk)\n",
    "        # convert to numpy array\n",
    "        used_mi_np=uqtkarray.uqtk2numpy(used_mi_uqtk)\n",
    "\n",
    "        # grow the multiindex\n",
    "        mi_next = np.array(uqtkmi.mi_addfront_cons(used_mi_np), dtype=object)[0]\n",
    "        print(mi_next.shape[0]-used.XSize(), \"terms added; new multiindex has\", mi_next.shape[0], \"terms\")\n",
    "        \n",
    "        # convert to uqtk\n",
    "        mi_next_uqtk = uqtkarray.intArray2D(mi_next.shape[0], mi_next.shape[1])\n",
    "        for i in range(mi_next.shape[0]):\n",
    "            for j in range(mi_next.shape[1]):\n",
    "                mi_next_uqtk.assign(i, j, mi_next[i][j])\n",
    "\n",
    "        pc_model=uqtkpce.PCSet(\"NISPnoq\", mi_next_uqtk, pc_model.GetPCType(), pc_model.GetAlpha(), pc_model.GetBeta())\n",
    "\n",
    "        weights, used = pce_tools.evalbcs(pc_model, y, sam_uqtk, sig_uqtk, eta, lam_uqtk, adaptive, optimal, scale)"
   ]
  },
  {
   "cell_type": "code",
   "execution_count": 10,
   "id": "5e27ea10-0524-401f-baa2-dc6a4565c201",
   "metadata": {},
   "outputs": [],
   "source": [
    "# Create Numpy array of PC coefficients\n",
    "c_k=np.zeros(pc_model.GetNumberPCTerms())\n",
    "for i in range(used.XSize()):\n",
    "    pos = used[i]\n",
    "    c_k[pos]=weights[i]"
   ]
  },
  {
   "cell_type": "markdown",
   "id": "1df612a4-1e76-46ab-8438-bf7374e5653b",
   "metadata": {},
   "source": [
    "## Training Error"
   ]
  },
  {
   "cell_type": "code",
   "execution_count": 11,
   "id": "3ebccf00-6aaf-4d95-8f46-c45c352de818",
   "metadata": {},
   "outputs": [
    {
     "name": "stdout",
     "output_type": "stream",
     "text": [
      "RMSE: 0.021386798485630215\n",
      "NRMSE: 0.00019667299954636018\n"
     ]
    }
   ],
   "source": [
    "pce_evals_train=pce_tools.UQTkEvaluatePCE(pc_model, c_k, x_tr)\n",
    "\n",
    "MSE = np.square(np.subtract(y_tr, pce_evals_train)).mean()\n",
    "RMSE=math.sqrt(MSE)\n",
    "NRMSE=RMSE/np.linalg.norm(y_test)\n",
    "print(\"RMSE:\", RMSE)\n",
    "print(\"NRMSE:\", NRMSE)"
   ]
  },
  {
   "cell_type": "markdown",
   "id": "e5fb195d-474f-4112-a09d-a577f0a033a5",
   "metadata": {},
   "source": [
    "## Testing Error"
   ]
  },
  {
   "cell_type": "code",
   "execution_count": 12,
   "id": "f138e357-5ca1-4a35-8ab3-757030de7850",
   "metadata": {},
   "outputs": [
    {
     "name": "stdout",
     "output_type": "stream",
     "text": [
      "RMSE: 0.02467478784780179\n",
      "NRMSE: 0.00022690934982428035\n"
     ]
    }
   ],
   "source": [
    "### Testing\n",
    "\n",
    "pce_evals_test=pce_tools.UQTkEvaluatePCE(pc_model, c_k, x_test)\n",
    "\n",
    "# metrics\n",
    "MSE_test = np.square(np.subtract(y_test,pce_evals_test)).mean()\n",
    "NRMSE=math.sqrt(MSE_test)/np.linalg.norm(y_test)\n",
    "print(\"RMSE:\", math.sqrt(MSE_test))\n",
    "print(\"NRMSE:\", math.sqrt(MSE_test)/np.linalg.norm(y_test))"
   ]
  }
 ],
 "metadata": {
  "kernelspec": {
   "display_name": "Python 3 (ipykernel)",
   "language": "python",
   "name": "python3"
  },
  "language_info": {
   "codemirror_mode": {
    "name": "ipython",
    "version": 3
   },
   "file_extension": ".py",
   "mimetype": "text/x-python",
   "name": "python",
   "nbconvert_exporter": "python",
   "pygments_lexer": "ipython3",
   "version": "3.9.12"
  }
 },
 "nbformat": 4,
 "nbformat_minor": 5
}
