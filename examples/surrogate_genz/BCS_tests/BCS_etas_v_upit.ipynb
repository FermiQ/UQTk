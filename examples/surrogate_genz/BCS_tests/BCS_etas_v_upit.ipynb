{
 "cells": [
  {
   "cell_type": "markdown",
   "id": "c32c8012-f3bf-4f96-9aff-e8b20eca1ec7",
   "metadata": {},
   "source": [
    "# BCS Testing with various etas and various upits"
   ]
  },
  {
   "cell_type": "markdown",
   "id": "6e289260-b35a-4113-90d9-6f0c2eb4bc92",
   "metadata": {},
   "source": [
    "This notebook constructs a PC surrogate for Genz functions using random sampling and regression, giving the RMS error bewteen the surrogate and the actual function. Both the Genz function and PCE are defined on [-1,1]."
   ]
  },
  {
   "cell_type": "code",
   "execution_count": 1,
   "id": "f74bf835-9ef7-452b-85cc-7fd3ebbe7dd3",
   "metadata": {},
   "outputs": [
    {
     "name": "stdout",
     "output_type": "stream",
     "text": [
      "PyMC is required for some of the MCMC postprocessing codes.\n",
      "Will proceed without, but some convergence tests will not be available.\n"
     ]
    }
   ],
   "source": [
    "# imports\n",
    "import numpy as np\n",
    "import math  \n",
    "import matplotlib.pyplot as plt\n",
    "import pandas as pd\n",
    "from scipy.stats import qmc\n",
    "\n",
    "import PyUQTk.pce as uqtkpce\n",
    "import PyUQTk.PyPCE.pce_tools as pce_tools\n",
    "from PyUQTk.utils.func import *\n",
    "import PyUQTk.uqtkarray as uqtkarray"
   ]
  },
  {
   "cell_type": "markdown",
   "id": "532e0f3a-c607-4877-b64f-4a9cf1c40556",
   "metadata": {},
   "source": [
    "## Inputs"
   ]
  },
  {
   "cell_type": "markdown",
   "id": "628832d0-fe63-4dfb-a403-8f89867a6248",
   "metadata": {},
   "source": [
    "Fixing order, dimension"
   ]
  },
  {
   "cell_type": "code",
   "execution_count": 2,
   "id": "aa0bbccd-c5e7-40ab-a720-9ccf740514e9",
   "metadata": {},
   "outputs": [],
   "source": [
    "nord = 5           # Order of the PCE\n",
    "\n",
    "pc_type = \"LU\"     # Polynomial type\n",
    "ndim = 2\n",
    "\n",
    "pc_alpha = 0.0     # Free parameter > -1 for Gamma-Laguerre and Beta-Jacobi PCs\n",
    "pc_beta = 1.0      # Free parameter > -1 for Gamma-Laguerre and Beta-Jacobi PCs\n",
    "\n",
    "c_opt='seq'\n",
    "sigma = np.array([1.e-08]) # inital noise variance; updated in BCS\n",
    "model='LU'\n",
    "nSam=10000"
   ]
  },
  {
   "cell_type": "markdown",
   "id": "de9f47e4-a146-42a2-b20d-cc3fdd6c54ec",
   "metadata": {},
   "source": [
    "## Define Coefficients"
   ]
  },
  {
   "cell_type": "code",
   "execution_count": 3,
   "id": "f5da2251-789e-4d3d-98a9-4046a9a7a855",
   "metadata": {},
   "outputs": [],
   "source": [
    "# polynomial goal\n",
    "poly = uqtkpce.PCSet(\"NISPnoq\", nord, ndim, pc_type, pc_alpha, pc_beta)\n",
    "npce_full=poly.GetNumberPCTerms()\n",
    "\n",
    "# sequence of increasing integers\n",
    "if (c_opt==\"seq\"):\n",
    "    coef=np.array([1/(i+1) for i in range(npce_full)])\n",
    "    \n",
    "# sequence of increasing integers alternating with zero    \n",
    "elif (c_opt==\"alt\"):\n",
    "    coef=np.zeros(npce_full)\n",
    "    for i in range(npce_full):\n",
    "        if (i%2==0):\n",
    "            coef[i]=1/(i+1)"
   ]
  },
  {
   "cell_type": "markdown",
   "id": "0c038676-ff05-48c3-a04f-d362052a6c08",
   "metadata": {},
   "source": [
    "## Training and Testing Points"
   ]
  },
  {
   "cell_type": "code",
   "execution_count": 4,
   "id": "943cfab3-a1fc-4b60-bfe8-daf1d7b070ff",
   "metadata": {},
   "outputs": [],
   "source": [
    "nTest=int(npce_full*2)\n",
    "rng = qmc.LatinHypercube(d=ndim, seed=42)\n",
    "\n",
    "x_tr=2*rng.random(n=nTest)-1 #[-1,1]\n",
    "if (model=='LU'):\n",
    "    y_tr=pce_tools.UQTkEvaluatePCE(poly, coef, x_tr)\n",
    "else:\n",
    "    y_tr=func(x_tr,model,np.ones(ndim+1))\n",
    "    \n",
    "x_test=2*rng.random(n=nSam)-1\n",
    "\n",
    "if (model=='LU'):\n",
    "    y_test=pce_tools.UQTkEvaluatePCE(poly, coef, x_test)\n",
    "else:\n",
    "    y_test=func(x_test, model, np.ones(ndim+1))"
   ]
  },
  {
   "cell_type": "markdown",
   "id": "c6a4aa23-1520-4f0f-82b5-7f0385e5bcbe",
   "metadata": {},
   "source": [
    "## Collecting Errors"
   ]
  },
  {
   "cell_type": "markdown",
   "id": "57f25d56-003f-4ca6-b6bc-147abc4001e3",
   "metadata": {},
   "source": [
    "We loop through different etas and numbers of up-iterations to feed into BCS and obtain the RMSE."
   ]
  },
  {
   "cell_type": "code",
   "execution_count": 11,
   "id": "49a98c9b-87ca-4497-9e00-12883c41b5f4",
   "metadata": {},
   "outputs": [
    {
     "name": "stdout",
     "output_type": "stream",
     "text": [
      "eta 0.1\n",
      "RMSE: 0.14131857345798796\n",
      "eta 0.015\n",
      "RMSE: 0.08325938115878886\n",
      "eta 0.01\n",
      "RMSE: 0.08325938115878886\n",
      "eta 0.02\n",
      "RMSE: 0.14131857345798796\n",
      "eta 0.001\n",
      "RMSE: 0.061537783602863695\n",
      "eta 0.0001\n",
      "RMSE: 0.037041070076694875\n",
      "eta 1e-05\n",
      "RMSE: 6.779513015851161e-07\n",
      "eta 1e-06\n",
      "RMSE: 6.779513015851161e-07\n",
      "eta 1e-07\n",
      "RMSE: 6.779513015851161e-07\n",
      "eta 1e-08\n",
      "RMSE: 6.779513015851161e-07\n",
      "eta 1e-09\n",
      "RMSE: 4.453326757814076e-07\n",
      "eta 1e-10\n",
      "RMSE: 4.453326757814076e-07\n",
      "eta 1e-11\n",
      "RMSE: 8.445891617140851e-07\n",
      "eta 1e-12\n",
      "RMSE: 8.279634503659196e-07\n",
      "eta 1e-13\n",
      "RMSE: 8.284616706065865e-07\n",
      "eta 1e-14\n",
      "RMSE: 8.284616706065865e-07\n",
      "eta 1e-15\n",
      "RMSE: 8.284616706065865e-07\n",
      "eta 0.1\n",
      "RMSE: 0.14200459407900545\n",
      "eta 0.015\n",
      "RMSE: 0.08348479890889687\n",
      "eta 0.01\n",
      "RMSE: 0.08348479890889687\n",
      "eta 0.02\n",
      "RMSE: 0.14200459407900545\n",
      "eta 0.001\n",
      "RMSE: 0.06286334340510857\n",
      "eta 0.0001\n",
      "RMSE: 0.035893383308392\n",
      "eta 1e-05\n",
      "RMSE: 0.0243440064482466\n",
      "eta 1e-06\n",
      "RMSE: 0.025449542135066283\n",
      "eta 1e-07\n",
      "RMSE: 0.02904562889133393\n",
      "eta 1e-08\n",
      "RMSE: 0.029045628798191638\n",
      "eta 1e-09\n",
      "RMSE: 0.029703036739635005\n",
      "eta 1e-10\n",
      "RMSE: 0.02974728780270346\n",
      "eta 1e-11\n",
      "RMSE: 0.029796426815440903\n",
      "eta 1e-12\n",
      "RMSE: 0.029806223648670756\n",
      "eta 1e-13\n",
      "RMSE: 0.029807261010490266\n",
      "eta 1e-14\n",
      "RMSE: 0.029807911024814247\n",
      "eta 1e-15\n",
      "RMSE: 0.029807979814055193\n",
      "eta 0.1\n",
      "RMSE: 0.14200452452151394\n",
      "eta 0.015\n",
      "RMSE: 0.08348510930505666\n",
      "eta 0.01\n",
      "RMSE: 0.08348510930505666\n",
      "eta 0.02\n",
      "RMSE: 0.14200452452151394\n",
      "eta 0.001\n",
      "RMSE: 0.06287624548110231\n",
      "eta 0.0001\n",
      "RMSE: 0.04021875050802871\n",
      "eta 1e-05\n",
      "RMSE: 0.03844073134475088\n",
      "eta 1e-06\n",
      "RMSE: 0.021974566997632564\n",
      "eta 1e-07\n",
      "RMSE: 0.024062885920380337\n",
      "eta 1e-08\n",
      "RMSE: 0.025037112806484206\n",
      "eta 1e-09\n",
      "RMSE: 0.025133322811564437\n",
      "eta 1e-10\n",
      "RMSE: 0.025424015132549237\n",
      "eta 1e-11\n",
      "RMSE: 0.02545306797621062\n",
      "eta 1e-12\n",
      "RMSE: 0.02545362986451429\n",
      "eta 1e-13\n",
      "RMSE: 0.02546117231209173\n",
      "eta 1e-14\n",
      "RMSE: 0.025463663308647133\n",
      "eta 1e-15\n",
      "RMSE: 0.029638379111832685\n",
      "eta 0.1\n",
      "RMSE: 0.14200452440489622\n",
      "eta 0.015\n",
      "RMSE: 0.08348511687000265\n",
      "eta 0.01\n",
      "RMSE: 0.08348511687000265\n",
      "eta 0.02\n",
      "RMSE: 0.14200452440489622\n",
      "eta 0.001\n",
      "RMSE: 0.06287671881807119\n",
      "eta 0.0001\n",
      "RMSE: 0.04022592652330626\n",
      "eta 1e-05\n",
      "RMSE: 0.038441235506602625\n",
      "eta 1e-06\n",
      "RMSE: 0.023227428326203527\n",
      "eta 1e-07\n",
      "RMSE: 0.024014121527167503\n",
      "eta 1e-08\n",
      "RMSE: 0.02524461793571169\n",
      "eta 1e-09\n",
      "RMSE: 0.02949572208878902\n",
      "eta 1e-10\n",
      "RMSE: 0.025691303065362256\n",
      "eta 1e-11\n",
      "RMSE: 0.025722302009165837\n",
      "eta 1e-12\n",
      "RMSE: 0.025736883218147075\n",
      "eta 1e-13\n",
      "RMSE: 0.025736822843846124\n",
      "eta 1e-14\n",
      "RMSE: 0.025737891960170935\n",
      "eta 1e-15\n",
      "RMSE: 0.029588505134209082\n",
      "eta 0.1\n",
      "RMSE: 0.14200452440704314\n",
      "eta 0.015\n",
      "RMSE: 0.08348511759596118\n",
      "eta 0.01\n",
      "RMSE: 0.08348511759596118\n",
      "eta 0.02\n",
      "RMSE: 0.14200452440704314\n",
      "eta 0.001\n",
      "RMSE: 0.06287689852359728\n",
      "eta 0.0001\n",
      "RMSE: 0.04022645800798113\n",
      "eta 1e-05\n",
      "RMSE: 0.038441277338508086\n",
      "eta 1e-06\n",
      "RMSE: 0.023236448849120475\n",
      "eta 1e-07\n",
      "RMSE: 0.02527575983180106\n",
      "eta 1e-08\n",
      "RMSE: 0.025489727249722705\n",
      "eta 1e-09\n",
      "RMSE: 0.025405951136486343\n",
      "eta 1e-10\n",
      "RMSE: 0.025712036154992426\n",
      "eta 1e-11\n",
      "RMSE: 0.025728820356722373\n",
      "eta 1e-12\n",
      "RMSE: 0.025748601858376376\n",
      "eta 1e-13\n",
      "RMSE: 0.025758663155599913\n",
      "eta 1e-14\n",
      "RMSE: 0.025759497337956783\n",
      "eta 1e-15\n",
      "RMSE: 0.02575982888744806\n"
     ]
    }
   ],
   "source": [
    "etas=[.1, .015, .01, .02, 1e-3, 1e-4, 1e-5, 1e-6, 1e-7, 1e-8, 1e-9, 1e-10, 1e-11, 1e-12, 1e-13, 1e-14, 1e-15]\n",
    "neta=len(etas)\n",
    "max_upit = nord\n",
    "\n",
    "# arrays to store error statistics for each dimension\n",
    "mean_test_errors=np.zeros((max_upit, neta))\n",
    "std_test_errors=np.zeros((max_upit, neta))\n",
    "\n",
    "# loop through each dimension\n",
    "for upit in range(max_upit):\n",
    "    \n",
    "    # Create PC object\n",
    "    pc_start = uqtkpce.PCSet(\"NISPnoq\", nord-upit, ndim, pc_type, pc_alpha, pc_beta)\n",
    "    \n",
    "    for j, eta in enumerate(etas):\n",
    "        print(\"eta\", eta)   \n",
    "\n",
    "        # list to store stats for the 10 trials\n",
    "        RMSE_list=[]\n",
    "        RMSE_test_list=[]\n",
    "\n",
    "        for i in range(10):\n",
    "           ### Training\n",
    "            c_k, pc_model_final = pce_tools.UQTkBCS(pc_start, y_tr, x_tr, sigma, eta, upit)\n",
    "\n",
    "            pce_evals_train=pce_tools.UQTkEvaluatePCE(pc_model_final, c_k, x_tr)\n",
    "\n",
    "            MSE = np.square(np.subtract(y_tr, pce_evals_train)).mean()\n",
    "            RMSE=math.sqrt(MSE)\n",
    "            RMSE_list.append(RMSE/np.linalg.norm(y_test))\n",
    "            if (math.isnan(RMSE)):\n",
    "                print(c_k)\n",
    "            ### Testing\n",
    "\n",
    "            pce_evals_test=pce_tools.UQTkEvaluatePCE(pc_model_final, c_k, x_test)\n",
    "\n",
    "            # metrics\n",
    "            MSE_test = np.square(np.subtract(y_test,pce_evals_test)).mean()\n",
    "            RMSE_test_list.append(math.sqrt(MSE_test)/np.linalg.norm(y_test))\n",
    "            print(\"RMSE:\", math.sqrt(MSE_test))\n",
    "       \n",
    "        # add the results of the 10 trials   \n",
    "        mean_test_errors[upit][j]=np.array(RMSE_test_list).mean()\n",
    "        std_test_errors[upit][j]=np.std(np.array(RMSE_test_list))"
   ]
  },
  {
   "cell_type": "markdown",
   "id": "6ee2389e-3a0d-450f-b13b-66c4fe28c494",
   "metadata": {},
   "source": [
    "## Summary"
   ]
  },
  {
   "cell_type": "code",
   "execution_count": 12,
   "id": "309bf397-feb6-4889-8f3a-d3e0c62aac7b",
   "metadata": {},
   "outputs": [
    {
     "data": {
      "image/png": "[encoded data removed]",
      "text/plain": [
       "<Figure size 720x720 with 1 Axes>"
      ]
     },
     "metadata": {
      "needs_background": "light"
     },
     "output_type": "display_data"
    }
   ],
   "source": [
    "# Create figure\n",
    "fig, ax = plt.subplots(figsize=(10,10))\n",
    "\n",
    "# Plot Error Data\n",
    "for i in range(max_upit):\n",
    "    plt.errorbar(etas, mean_test_errors[i], yerr=std_test_errors[i], xerr=None, linewidth=2, markersize=8, capsize=10, label=('Upit = '+str(i)))\n",
    "    \n",
    "# Label Axes\n",
    "plt.xlabel(\"Eta\",fontsize=20)\n",
    "plt.ylabel(\"RMSE\",fontsize=20)\n",
    "\n",
    "# Create legend\n",
    "plt.legend(loc='upper left')\n",
    "\n",
    "# Add title\n",
    "fig.suptitle(\"BCS with different etas\\nfor %s with\\\n",
    " PC Order %s, Dim %s\"%(model, str(nord), str(ndim)), fontsize=22)\n",
    "\n",
    "# Change y scale\n",
    "plt.xscale('log')\n",
    "plt.yscale('log')\n",
    "\n",
    "#Change size of tick labels\n",
    "plt.tick_params(axis='both', labelsize=16)\n",
    "\n",
    "#Show figure\n",
    "plt.show() "
   ]
  },
  {
   "cell_type": "code",
   "execution_count": null,
   "id": "5ecd16eb-18d4-462f-9ac9-6832cb68347f",
   "metadata": {},
   "outputs": [],
   "source": []
  },
  {
   "cell_type": "code",
   "execution_count": null,
   "id": "e2215fbf-0d04-4993-b32a-5a32814b4669",
   "metadata": {},
   "outputs": [],
   "source": []
  }
 ],
 "metadata": {
  "kernelspec": {
   "display_name": "Python 3 (ipykernel)",
   "language": "python",
   "name": "python3"
  },
  "language_info": {
   "codemirror_mode": {
    "name": "ipython",
    "version": 3
   },
   "file_extension": ".py",
   "mimetype": "text/x-python",
   "name": "python",
   "nbconvert_exporter": "python",
   "pygments_lexer": "ipython3",
   "version": "3.9.12"
  }
 },
 "nbformat": 4,
 "nbformat_minor": 5
}
