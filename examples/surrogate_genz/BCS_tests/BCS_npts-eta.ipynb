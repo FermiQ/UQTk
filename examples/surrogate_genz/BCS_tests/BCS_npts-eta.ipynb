{
 "cells": [
  {
   "cell_type": "markdown",
   "id": "c32c8012-f3bf-4f96-9aff-e8b20eca1ec7",
   "metadata": {},
   "source": [
    "# Surrogate Construction for Genz Functions with regression as a function of the number of training points"
   ]
  },
  {
   "cell_type": "markdown",
   "id": "6e289260-b35a-4113-90d9-6f0c2eb4bc92",
   "metadata": {},
   "source": [
    "This notebook constructs a PC surrogate for Genz functions using random sampling and regression, giving the RMS error bewteen the surrogate and the actual function. Both the Genz function and PCE are defined on [-1,1]."
   ]
  },
  {
   "cell_type": "code",
   "execution_count": 1,
   "id": "f74bf835-9ef7-452b-85cc-7fd3ebbe7dd3",
   "metadata": {},
   "outputs": [
    {
     "name": "stdout",
     "output_type": "stream",
     "text": [
      "PyMC is required for some of the MCMC postprocessing codes.\n",
      "Will proceed without, but some convergence tests will not be available.\n"
     ]
    }
   ],
   "source": [
    "# imports\n",
    "import numpy as np\n",
    "import math  \n",
    "import matplotlib.pyplot as plt\n",
    "import pandas as pd\n",
    "from scipy.stats import qmc\n",
    "\n",
    "import PyUQTk.pce as uqtkpce\n",
    "import PyUQTk.PyPCE.pce_tools as pce_tools\n",
    "from PyUQTk.utils.func import *\n",
    "import PyUQTk.uqtkarray as uqtkarray"
   ]
  },
  {
   "cell_type": "markdown",
   "id": "532e0f3a-c607-4877-b64f-4a9cf1c40556",
   "metadata": {},
   "source": [
    "## Inputs"
   ]
  },
  {
   "cell_type": "code",
   "execution_count": 2,
   "id": "aa0bbccd-c5e7-40ab-a720-9ccf740514e9",
   "metadata": {},
   "outputs": [],
   "source": [
    "nord = 8          # Order of the PCE\n",
    "pc_type = \"LU\"     # Polynomial type\n",
    "pc_alpha = 0.0     # Free parameter > -1 for Gamma-Laguerre and Beta-Jacobi PCs\n",
    "pc_beta = 1.0      # Free parameter > -1 for Gamma-Laguerre and Beta-Jacobi PCs\n",
    "nSam = 10000       # Number of evaluation samples samples\n",
    "#max_dim=6         # Maximum number of dimensions to include\n",
    "model= 'genz_ppeak'  # Choices are 'genz_osc', 'genz_exp', 'genz_cont','genz_gaus','genz_cpeak', 'genz_ppeak'"
   ]
  },
  {
   "cell_type": "markdown",
   "id": "9af29d8a-211a-4aa0-9b54-c0405c500cc7",
   "metadata": {},
   "source": [
    "First, we define the random number generator."
   ]
  },
  {
   "cell_type": "markdown",
   "id": "c6a4aa23-1520-4f0f-82b5-7f0385e5bcbe",
   "metadata": {},
   "source": [
    "## Collecting Errors"
   ]
  },
  {
   "cell_type": "markdown",
   "id": "57f25d56-003f-4ca6-b6bc-147abc4001e3",
   "metadata": {},
   "source": [
    "We loop through different numbers of random samples to feed into regression and obtain the RMSE. We start with a number of samples equal to 90% of the basis terms and continue to 125%."
   ]
  },
  {
   "cell_type": "code",
   "execution_count": 3,
   "id": "1246d850-7f00-4d49-b217-b402fc2bec41",
   "metadata": {},
   "outputs": [],
   "source": [
    "sigma = np.array([1.e-08]) # inital noise variance; updated in BCS\n",
    "#eta = 1e-6                 # threshold for stopping the algorithm\n",
    "lambda_init = np.array([]) # set lambda to a fixed nonnegative value\n",
    "\n",
    "scale = 0.1     # diagonal loading parameter\n",
    "adaptive = 1    # generative basis for adaptive CS, 0 or 1\n",
    "optimal = 1     # use the rigorous implementation of adaptive CS, 0 or 1\n",
    "\n",
    "ndim=6"
   ]
  },
  {
   "cell_type": "code",
   "execution_count": 5,
   "id": "49a98c9b-87ca-4497-9e00-12883c41b5f4",
   "metadata": {},
   "outputs": [
    {
     "name": "stdout",
     "output_type": "stream",
     "text": [
      "eta 1e-05\n",
      "eta 1e-06\n",
      "eta 1e-07\n"
     ]
    }
   ],
   "source": [
    "percent=[.6, .7, .8, .9, 1, 1.10, 1.2, 1.3, 1.4, 1.5, 1.9, 2] # fractions of the number of basis terms to use\n",
    "#etas=[1e-3, 1e-4, 1e-5, 1e-6, 1e-7, 1e-8, 1e-9]\n",
    "#etas=[1e-8, 1e-9, 1e-10, 1e-11, 1e-12, 1e-13]\n",
    "etas=[1e-5, 1e-6, 1e-7]\n",
    "\n",
    "neta=len(etas)\n",
    "# arrays to store error statistics for each dimension\n",
    "mean_dim_errors=np.zeros((neta, len(percent)))\n",
    "std_dim_errors=np.zeros((neta, len(percent)))\n",
    "\n",
    "# instantiate PC object\n",
    "pc_model = uqtkpce.PCSet(\"NISPnoq\", nord, ndim, pc_type, pc_alpha, pc_beta)\n",
    "npce=pc_model.GetNumberPCTerms()\n",
    "# instantiate random generator\n",
    "rng = qmc.LatinHypercube(d=ndim, seed=42)\n",
    "coef=np.random.normal(0, 5, npce)\n",
    "\n",
    "# loop through each dimension\n",
    "for j, eta in enumerate(etas):\n",
    "    print(\"eta\", eta)\n",
    "    \n",
    "    # list to store stats for each percent\n",
    "    mean_per_errors=[]\n",
    "    std_per_errors=[]\n",
    "\n",
    "    for per in percent:\n",
    "        nTest=int(npce*per)\n",
    "        \n",
    "        # list to store stats for the 10 trials\n",
    "        RMSE_list=[]\n",
    "        \n",
    "        for i in range(10):\n",
    "            # train PC at random samples\n",
    "            \n",
    "            rand=2*rng.random(n=nTest)-1\n",
    "            \n",
    "            f_evals=pce_tools.UQTkEvaluatePCE(pc_model, coef, rand)\n",
    "            \n",
    "            # find coefficients\n",
    "            c_k = pce_tools.UQTkBCS(pc_model, f_evals, rand, sigma, eta, lambda_init, adaptive, optimal, scale)\n",
    "            \n",
    "            # evaluate at random samples\n",
    "            germ_samples=2*rng.random(n=nSam)-1\n",
    "            pce_evals=pce_tools.UQTkEvaluatePCE(pc_model,c_k,germ_samples)\n",
    "         \n",
    "            # find error\n",
    "            f_actual=pce_tools.UQTkEvaluatePCE(pc_model, coef, germ_samples)\n",
    "            MSE = np.square(np.subtract(f_actual,pce_evals)).mean()\n",
    "            RMSE=math.sqrt(MSE)\n",
    "            RMSE_list.append(RMSE)\n",
    "            \n",
    "            \n",
    "        # add the results of the 10 trials    \n",
    "        mean_per_errors.append(np.array(RMSE_list).mean())\n",
    "        std_per_errors.append(np.std(np.array(RMSE_list)))\n",
    "        \n",
    "    mean_dim_errors[j]=mean_per_errors\n",
    "    std_dim_errors[j]=std_per_errors"
   ]
  },
  {
   "cell_type": "markdown",
   "id": "6ee2389e-3a0d-450f-b13b-66c4fe28c494",
   "metadata": {},
   "source": [
    "## Summary\n",
    "This table and figure display the error of each number of training points for each dimension. The number of training points varies as a percentage of the number of basis terms."
   ]
  },
  {
   "cell_type": "code",
   "execution_count": 6,
   "id": "10ef5ca7-4e6d-47d5-baee-cb9e26f71af2",
   "metadata": {},
   "outputs": [
    {
     "data": {
      "text/html": [
       "<div>\n",
       "<style scoped>\n",
       "    .dataframe tbody tr th:only-of-type {\n",
       "        vertical-align: middle;\n",
       "    }\n",
       "\n",
       "    .dataframe tbody tr th {\n",
       "        vertical-align: top;\n",
       "    }\n",
       "\n",
       "    .dataframe thead th {\n",
       "        text-align: right;\n",
       "    }\n",
       "</style>\n",
       "<table border=\"1\" class=\"dataframe\">\n",
       "  <thead>\n",
       "    <tr style=\"text-align: right;\">\n",
       "      <th></th>\n",
       "      <th>0.6</th>\n",
       "      <th>0.7</th>\n",
       "      <th>0.8</th>\n",
       "      <th>0.9</th>\n",
       "      <th>1.0</th>\n",
       "      <th>1.1</th>\n",
       "      <th>1.2</th>\n",
       "      <th>1.3</th>\n",
       "      <th>1.4</th>\n",
       "      <th>1.5</th>\n",
       "      <th>1.9</th>\n",
       "      <th>2.0</th>\n",
       "    </tr>\n",
       "  </thead>\n",
       "  <tbody>\n",
       "    <tr>\n",
       "      <th>eta 0</th>\n",
       "      <td>28.381723</td>\n",
       "      <td>26.904775</td>\n",
       "      <td>25.807745</td>\n",
       "      <td>25.156890</td>\n",
       "      <td>24.424458</td>\n",
       "      <td>23.825668</td>\n",
       "      <td>23.243158</td>\n",
       "      <td>23.032623</td>\n",
       "      <td>22.113670</td>\n",
       "      <td>21.752290</td>\n",
       "      <td>20.812452</td>\n",
       "      <td>21.418279</td>\n",
       "    </tr>\n",
       "    <tr>\n",
       "      <th>eta 1</th>\n",
       "      <td>27.947055</td>\n",
       "      <td>26.018370</td>\n",
       "      <td>24.096902</td>\n",
       "      <td>23.176344</td>\n",
       "      <td>22.398441</td>\n",
       "      <td>21.549489</td>\n",
       "      <td>20.476835</td>\n",
       "      <td>20.206398</td>\n",
       "      <td>19.098481</td>\n",
       "      <td>19.135545</td>\n",
       "      <td>17.724107</td>\n",
       "      <td>16.219815</td>\n",
       "    </tr>\n",
       "    <tr>\n",
       "      <th>eta 2</th>\n",
       "      <td>27.320590</td>\n",
       "      <td>24.625973</td>\n",
       "      <td>22.780569</td>\n",
       "      <td>21.033974</td>\n",
       "      <td>20.269005</td>\n",
       "      <td>19.160983</td>\n",
       "      <td>17.704776</td>\n",
       "      <td>18.367031</td>\n",
       "      <td>17.230347</td>\n",
       "      <td>17.476043</td>\n",
       "      <td>15.534932</td>\n",
       "      <td>14.653607</td>\n",
       "    </tr>\n",
       "  </tbody>\n",
       "</table>\n",
       "</div>"
      ],
      "text/plain": [
       "             0.6        0.7        0.8        0.9        1.0        1.1  \\\n",
       "eta 0  28.381723  26.904775  25.807745  25.156890  24.424458  23.825668   \n",
       "eta 1  27.947055  26.018370  24.096902  23.176344  22.398441  21.549489   \n",
       "eta 2  27.320590  24.625973  22.780569  21.033974  20.269005  19.160983   \n",
       "\n",
       "             1.2        1.3        1.4        1.5        1.9        2.0  \n",
       "eta 0  23.243158  23.032623  22.113670  21.752290  20.812452  21.418279  \n",
       "eta 1  20.476835  20.206398  19.098481  19.135545  17.724107  16.219815  \n",
       "eta 2  17.704776  18.367031  17.230347  17.476043  15.534932  14.653607  "
      ]
     },
     "execution_count": 6,
     "metadata": {},
     "output_type": "execute_result"
    }
   ],
   "source": [
    "row_label=[\"eta \"+str(i) for i in range(neta)]\n",
    "pd.DataFrame(data=mean_dim_errors, index=row_label, columns=percent)"
   ]
  },
  {
   "cell_type": "code",
   "execution_count": 7,
   "id": "8a008a33-3d09-465e-b146-c5ad6afc1d6d",
   "metadata": {},
   "outputs": [
    {
     "data": {
      "text/plain": [
       "3"
      ]
     },
     "execution_count": 7,
     "metadata": {},
     "output_type": "execute_result"
    }
   ],
   "source": [
    "len(etas)"
   ]
  },
  {
   "cell_type": "code",
   "execution_count": 8,
   "id": "309bf397-feb6-4889-8f3a-d3e0c62aac7b",
   "metadata": {},
   "outputs": [
    {
     "data": {
      "image/png": "[encoded data removed]",
      "text/plain": [
       "<Figure size 720x720 with 1 Axes>"
      ]
     },
     "metadata": {
      "needs_background": "light"
     },
     "output_type": "display_data"
    }
   ],
   "source": [
    "# Create figure\n",
    "fig, ax = plt.subplots(figsize=(10,10))\n",
    "\n",
    "# Plot Error Data\n",
    "for i in range(neta):\n",
    "    plt.errorbar(percent, mean_dim_errors[i], yerr=std_dim_errors[i], xerr=None, linewidth=2, markersize=8, capsize=10, label=str('eta '+str(etas[i])))\n",
    "\n",
    "# Line where number of samples = number of basis terms\n",
    "plt.vlines(x = 1, ymin = 0, ymax = 10, colors = 'black', linestyle=\"dashed\")\n",
    "\n",
    "# Label Axes\n",
    "plt.xlabel(\"Fraction of the number of basis terms\",fontsize=20)\n",
    "plt.ylabel(\"RMSE\",fontsize=20)\n",
    "\n",
    "# Create legend\n",
    "plt.legend(loc='lower left')\n",
    "\n",
    "# Model titles to be displayed\n",
    "if model==\"genz_osc\":\n",
    "    model_title=\"Genz Oscillatory\"\n",
    "elif model==\"genz_gaus\":\n",
    "    model_title=\"Genz Gaussian\"\n",
    "elif model==\"genz_ppeak\":\n",
    "    model_title=\"Genz Product-Peak\"\n",
    "elif model==\"genz_cpeak\":\n",
    "    model_title=\"Genz Corner-Peak\"\n",
    "elif model==\"genz_exp\":\n",
    "    model_title=\"Genz Exponential\"\n",
    "else:\n",
    "    model_title=\"Genz Continuous\"\n",
    "\n",
    "# Add title\n",
    "fig.suptitle(\"BCS with different numbers of sample points\\nfor Legendre Polynomial with\\\n",
    " PC Order %s, Dim %s\"%(str(nord), str(ndim)), fontsize=22)\n",
    "\n",
    "# Change y scale\n",
    "plt.yscale('log')\n",
    "\n",
    "#Change size of tick labels\n",
    "plt.tick_params(axis='both', labelsize=16)\n",
    "\n",
    "#Show figure\n",
    "plt.show() "
   ]
  },
  {
   "cell_type": "code",
   "execution_count": null,
   "id": "2eac2970-6484-4c97-bd1b-c2e836defd91",
   "metadata": {},
   "outputs": [],
   "source": []
  },
  {
   "cell_type": "code",
   "execution_count": null,
   "id": "5ecd16eb-18d4-462f-9ac9-6832cb68347f",
   "metadata": {},
   "outputs": [],
   "source": []
  },
  {
   "cell_type": "code",
   "execution_count": null,
   "id": "e2215fbf-0d04-4993-b32a-5a32814b4669",
   "metadata": {},
   "outputs": [],
   "source": []
  }
 ],
 "metadata": {
  "kernelspec": {
   "display_name": "Python 3 (ipykernel)",
   "language": "python",
   "name": "python3"
  },
  "language_info": {
   "codemirror_mode": {
    "name": "ipython",
    "version": 3
   },
   "file_extension": ".py",
   "mimetype": "text/x-python",
   "name": "python",
   "nbconvert_exporter": "python",
   "pygments_lexer": "ipython3",
   "version": "3.9.12"
  }
 },
 "nbformat": 4,
 "nbformat_minor": 5
}
