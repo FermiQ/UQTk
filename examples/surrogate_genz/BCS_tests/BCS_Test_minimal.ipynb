{
 "cells": [
  {
   "cell_type": "markdown",
   "id": "39bfcf31-3e50-48bb-bffd-560189b6d471",
   "metadata": {
    "tags": []
   },
   "source": [
    "# BCS Testing"
   ]
  },
  {
   "cell_type": "code",
   "execution_count": 1,
   "id": "fd6df840-efd3-4f4f-9263-4e7e51cd0160",
   "metadata": {
    "tags": []
   },
   "outputs": [
    {
     "name": "stdout",
     "output_type": "stream",
     "text": [
      "PyMC is required for some of the MCMC postprocessing codes.\n",
      "Will proceed without, but some convergence tests will not be available.\n"
     ]
    }
   ],
   "source": [
    "import numpy as np\n",
    "from scipy.stats import qmc\n",
    "\n",
    "import PyUQTk.uqtkarray as uqtkarray\n",
    "import PyUQTk.pce as uqtkpce\n",
    "import PyUQTk.PyPCE.pce_tools as pce_tools\n",
    "\n",
    "import bcs as bcs\n",
    "import math\n",
    "\n",
    "import pandas as pd"
   ]
  },
  {
   "cell_type": "markdown",
   "id": "52ebc187-222c-4d38-bde2-20e6b4964e26",
   "metadata": {},
   "source": [
    "## Inputs"
   ]
  },
  {
   "cell_type": "code",
   "execution_count": 2,
   "id": "ef7db376-98d0-4e7c-859a-2b81e88af662",
   "metadata": {},
   "outputs": [],
   "source": [
    "nord = 4            # order of the polynomial\n",
    "ndim = 3            # number of dimensions\n",
    "pc_type=\"LU\"        # type of PC\n",
    "\n",
    "c_opt = \"alt\"        # method for selecting starting coefficients\n",
    "\n",
    "pc_alpha = 0.0      # Free parameter > -1 for Gamma-Laguerre and Beta-Jacobi PCs\n",
    "pc_beta = 1.0       # Free parameter > -1 for Gamma-Laguerre and Beta-Jacobi PCs"
   ]
  },
  {
   "cell_type": "markdown",
   "id": "8dc92216-e3f2-4f71-ba1e-67e2c1fc6cad",
   "metadata": {},
   "source": [
    "## Initialize PC"
   ]
  },
  {
   "cell_type": "code",
   "execution_count": 3,
   "id": "d2b82f7e-f30c-4160-b4bb-39829474049f",
   "metadata": {},
   "outputs": [],
   "source": [
    "pc_start = uqtkpce.PCSet(\"NISPnoq\", 2, ndim, pc_type, pc_alpha, pc_beta)\n",
    "pc_model = uqtkpce.PCSet(\"NISPnoq\", nord, ndim, pc_type, pc_alpha, pc_beta)"
   ]
  },
  {
   "cell_type": "markdown",
   "id": "5def4326-6c5a-47e0-b5f8-768c12f3d755",
   "metadata": {},
   "source": [
    "## BSC Inputs"
   ]
  },
  {
   "cell_type": "code",
   "execution_count": 4,
   "id": "f5749236-550d-4092-9c9e-d68bbf840436",
   "metadata": {},
   "outputs": [],
   "source": [
    "sigma = np.array([1.e-08]) # inital noise variance; updated in BCS\n",
    "eta = 1e-15                # algorithm stops once evidence gain falls below this threshold\n",
    "#lambda_init = np.array([]) # paramter of the laplace distribution; leave empty or set lambda to a fixed nonnegative value"
   ]
  },
  {
   "cell_type": "markdown",
   "id": "25372eed-9afb-4564-81f6-89381fddb242",
   "metadata": {},
   "source": [
    "## Define coefficients"
   ]
  },
  {
   "cell_type": "code",
   "execution_count": 5,
   "id": "7c183836-bad9-46bc-a620-418bc92788f4",
   "metadata": {},
   "outputs": [],
   "source": [
    "npce=pc_model.GetNumberPCTerms()\n",
    "\n",
    "# sequence of increasing integers\n",
    "if (c_opt==\"seq\"):\n",
    "    coef=np.array([1/(i+1) for i in range(npce)])\n",
    "    \n",
    "# sequence of increasing integers alternating with zero    \n",
    "elif (c_opt==\"alt\"):\n",
    "    coef=np.zeros(npce)\n",
    "    for i in range(npce):\n",
    "        if (i%2==0):\n",
    "            coef[i]=1/(i+1)"
   ]
  },
  {
   "cell_type": "markdown",
   "id": "88a8e963-9fa9-4eae-90a1-9dac01cc247e",
   "metadata": {},
   "source": [
    "## Training points"
   ]
  },
  {
   "cell_type": "code",
   "execution_count": 6,
   "id": "aaf6b25f-b5c8-4318-b8b6-4b96a741fce1",
   "metadata": {},
   "outputs": [],
   "source": [
    "npce=pc_model.GetNumberPCTerms()\n",
    "nTest=int(npce*2)\n",
    "rng = qmc.LatinHypercube(d=ndim, seed=42)\n",
    "\n",
    "x_tr=2*rng.random(n=nTest)-1 # [-1,1]\n",
    "y_tr=pce_tools.UQTkEvaluatePCE(pc_model, coef, x_tr)"
   ]
  },
  {
   "cell_type": "markdown",
   "id": "653d244d-b68e-42a8-8863-466dcafc4e12",
   "metadata": {},
   "source": [
    "## Validation points"
   ]
  },
  {
   "cell_type": "code",
   "execution_count": 7,
   "id": "4b790e29-4f65-4e63-b54a-a26b196bc309",
   "metadata": {},
   "outputs": [],
   "source": [
    "x_val=2*rng.random(n=nTest)-1\n",
    "y_val=pce_tools.UQTkEvaluatePCE(pc_model, coef, x_val)"
   ]
  },
  {
   "cell_type": "markdown",
   "id": "66f2be69-1ffc-4f83-a908-771c9b8e7d15",
   "metadata": {},
   "source": [
    "## Pick Best Eta"
   ]
  },
  {
   "cell_type": "markdown",
   "id": "36ab111f-bb00-463e-bcec-e7b4c1f536f8",
   "metadata": {},
   "source": [
    "## Testing Points"
   ]
  },
  {
   "cell_type": "code",
   "execution_count": 8,
   "id": "8fcf1b48-bf89-460e-8978-ba4789780ca5",
   "metadata": {},
   "outputs": [],
   "source": [
    "x_test=2*rng.random(n=nTest)-1 # [-1,1]\n",
    "y_test=pce_tools.UQTkEvaluatePCE(pc_model, coef, x_test)"
   ]
  },
  {
   "cell_type": "markdown",
   "id": "aec4670f-c9c3-4f18-9fb0-cffb52670350",
   "metadata": {},
   "source": [
    "## Calculate Errors"
   ]
  },
  {
   "cell_type": "code",
   "execution_count": 9,
   "id": "1a51bd3b-de87-4f21-a298-fcec9b454ad0",
   "metadata": {},
   "outputs": [
    {
     "name": "stdout",
     "output_type": "stream",
     "text": [
      "Starting with 35\n",
      "18  nonzero basis terms selected out of 35\n",
      "Multiindex resized from 18 to 26.\n",
      "Iter. 1 order 3 , 18  nonzero basis terms out of 26\n",
      "Multiindex resized from 18 to 26.\n",
      "Iter. 2 order 4 , 18  nonzero basis terms out of 26\n"
     ]
    }
   ],
   "source": [
    "c_k, pc_model_final = pce_tools.UQTkBCS(pc_model, y_tr, x_tr, sigma, eta, upit=2)"
   ]
  },
  {
   "cell_type": "code",
   "execution_count": 10,
   "id": "7e0bd2d6-f18f-4d90-9679-ffe322906b03",
   "metadata": {},
   "outputs": [],
   "source": [
    "if (c_k.shape==coef.shape):\n",
    "    MSE = np.square(np.subtract(c_k, coef)).mean()\n",
    "    RMSE=math.sqrt(MSE)\n",
    "    print(RMSE/np.linalg.norm(y_test))"
   ]
  },
  {
   "cell_type": "code",
   "execution_count": 11,
   "id": "0f88a98d-45c8-44d4-ba78-515d7862ab85",
   "metadata": {},
   "outputs": [
    {
     "data": {
      "text/plain": [
       "1.8923543556251187e-16"
      ]
     },
     "execution_count": 11,
     "metadata": {},
     "output_type": "execute_result"
    }
   ],
   "source": [
    "pce_evals=pce_tools.UQTkEvaluatePCE(pc_model_final, c_k, x_test)\n",
    "MSE = np.square(np.subtract(y_test, pce_evals)).mean()\n",
    "RMSE=math.sqrt(MSE)\n",
    "RMSE/np.linalg.norm(y_test)"
   ]
  },
  {
   "cell_type": "code",
   "execution_count": 12,
   "id": "ec73ecae-0fd6-4c3b-bdac-4e0ddf0f705e",
   "metadata": {},
   "outputs": [
    {
     "name": "stdout",
     "output_type": "stream",
     "text": [
      "Nonzero coefficients found:   18\n",
      "Total nonzero coefficients:   18\n"
     ]
    }
   ],
   "source": [
    "print(\"Nonzero coefficients found:  \", np.nonzero(c_k)[0].shape[0])\n",
    "print(\"Total nonzero coefficients:  \", np.nonzero(coef)[0].shape[0])"
   ]
  },
  {
   "cell_type": "code",
   "execution_count": 13,
   "id": "1a2e15c3-7fc3-4bbd-badf-c8cdbd77d592",
   "metadata": {},
   "outputs": [],
   "source": [
    "if (c_k.shape==coef.shape):\n",
    "    pd.DataFrame(data=np.transpose([c_k, coef]), columns=['bcs', 'actual'])"
   ]
  },
  {
   "cell_type": "code",
   "execution_count": 14,
   "id": "d425ad85-0f3c-4133-90e2-25700e408edb",
   "metadata": {},
   "outputs": [],
   "source": [
    "# e_tr=1/np.power(10,[i for i in range(1,13)])\n",
    "# E_v=[]\n",
    "# for j, eta in enumerate(e_tr):\n",
    "#     c_tr=pce_tools.UQTkBCS(pc_model, y_tr, x_tr, sigma, eta)\n",
    "#     phi_v_c_tr=pce_tools.UQTkEvaluatePCE(pc_model, c_tr, x_val)\n",
    "#     E_v.append(math.sqrt(np.square(np.subtract(y_val, phi_v_c_tr)).mean()))\n",
    "# eta_opt = e_tr[E_v.index(np.min(E_v))]\n",
    "# eta_opt"
   ]
  }
 ],
 "metadata": {
  "kernelspec": {
   "display_name": "Python 3 (ipykernel)",
   "language": "python",
   "name": "python3"
  },
  "language_info": {
   "codemirror_mode": {
    "name": "ipython",
    "version": 3
   },
   "file_extension": ".py",
   "mimetype": "text/x-python",
   "name": "python",
   "nbconvert_exporter": "python",
   "pygments_lexer": "ipython3",
   "version": "3.9.12"
  }
 },
 "nbformat": 4,
 "nbformat_minor": 5
}
