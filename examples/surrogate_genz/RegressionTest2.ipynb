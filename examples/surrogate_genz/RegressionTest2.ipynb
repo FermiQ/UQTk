{
 "cells": [
  {
   "cell_type": "markdown",
   "id": "50f68575-e61e-4f78-9052-b570b2afc416",
   "metadata": {},
   "source": [
    "# Regression Test"
   ]
  },
  {
   "cell_type": "code",
   "execution_count": 1,
   "id": "0f71ee81-c68d-4b9e-b7bb-532b2403c0f0",
   "metadata": {},
   "outputs": [
    {
     "name": "stdout",
     "output_type": "stream",
     "text": [
      "PyMC is required for some of the MCMC postprocessing codes.\n",
      "Will proceed without, but some convergence tests will not be available.\n"
     ]
    }
   ],
   "source": [
    "# Imports\n",
    "import numpy as np\n",
    "import math\n",
    "from __future__ import print_function\n",
    " \n",
    "\n",
    "import PyUQTk.pce as uqtkpce\n",
    "import PyUQTk.PyPCE.pce_tools as pce_tools\n",
    "from PyUQTk.utils.func import *\n",
    "\n",
    "import sys\n",
    "sys.path.append('../pyuqtkarray/')\n",
    "import PyUQTk.uqtkarray as uqtkarray\n",
    "\n",
    "import polynomial\n",
    "\n",
    "import pandas as pd\n",
    "\n",
    "# set parameters\n",
    "pc_type = \"HG\"      # Polynomial type\n",
    "pc_alpha = 0.0      # Free parameter > -1 for Gamma-Laguerre and Beta-Jacobi PCs\n",
    "pc_beta = 1.0       # Free parameter > -1 for Gamma-Laguerre and Beta-Jacobi PCs"
   ]
  },
  {
   "cell_type": "markdown",
   "id": "0d8c8b06-f01e-499b-80fc-871e42dcadff",
   "metadata": {},
   "source": [
    "The following loop goes through various dimensions to determine if regression is accurate."
   ]
  },
  {
   "cell_type": "code",
   "execution_count": 3,
   "id": "52f9af55-bd83-49d0-b868-d5c0e6e5c538",
   "metadata": {},
   "outputs": [
    {
     "name": "stdout",
     "output_type": "stream",
     "text": [
      "ndim = 1 Matched coefficients: True\n",
      "npce 5\n",
      "ndim = 2 Matched coefficients: True\n",
      "npce 15\n",
      "ndim = 3 Matched coefficients: True\n",
      "npce 35\n",
      "ndim = 4 Matched coefficients: True\n",
      "npce 70\n",
      "ndim = 5 Matched coefficients: True\n",
      "npce 126\n",
      "ndim = 6 Matched coefficients: True\n",
      "npce 210\n",
      "ndim = 7 Matched coefficients: True\n",
      "npce 330\n",
      "ndim = 8 Matched coefficients: True\n",
      "npce 495\n",
      "ndim = 9 Matched coefficients: True\n",
      "npce 715\n",
      "ndim = 10 Matched coefficients: True\n",
      "npce 1001\n",
      "ndim = 11 Matched coefficients: True\n",
      "npce 1365\n",
      "ndim = 12 Matched coefficients: True\n",
      "npce 1820\n"
     ]
    }
   ],
   "source": [
    "nord = 4            # Order of the PCE\n",
    "param = nord+1      # Number of quadrature points per dimension for full quadrature or level for sparse quadrature\n",
    "np.random.seed(42)\n",
    "    \n",
    "for ndim in range(1, 13):\n",
    "    # Creating b\n",
    "    poly = uqtkpce.PCSet(\"NISPnoq\", nord, ndim,pc_type, pc_alpha,pc_beta)\n",
    "    npce=poly.GetNumberPCTerms()\n",
    "    coef=np.array([i+1 for i in range(npce)])\n",
    "    rand=np.random.normal(loc=0, scale=0.5, size=(npce, ndim))\n",
    "    b = pce_tools.UQTkEvaluatePCE(poly, coef, rand)\n",
    "\n",
    "    # Regression creates A and finds x\n",
    "    c_k=pce_tools.UQTkRegression(poly, b, rand)\n",
    "    \n",
    "    reg=(np.round(c_k, 3)==coef)\n",
    "    print(\"ndim =\", ndim, \"Matched coefficients:\", all(reg) and reg[0]==True)\n",
    "    print(\"npce\", npce)"
   ]
  }
 ],
 "metadata": {
  "kernelspec": {
   "display_name": "Python 3 (ipykernel)",
   "language": "python",
   "name": "python3"
  },
  "language_info": {
   "codemirror_mode": {
    "name": "ipython",
    "version": 3
   },
   "file_extension": ".py",
   "mimetype": "text/x-python",
   "name": "python",
   "nbconvert_exporter": "python",
   "pygments_lexer": "ipython3",
   "version": "3.9.12"
  }
 },
 "nbformat": 4,
 "nbformat_minor": 5
}
