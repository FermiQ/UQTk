{
 "cells": [
  {
   "attachments": {},
   "cell_type": "markdown",
   "id": "c32c8012-f3bf-4f96-9aff-e8b20eca1ec7",
   "metadata": {},
   "source": [
    "# Surrogate Construction for Genz Functions: BCS"
   ]
  },
  {
   "attachments": {},
   "cell_type": "markdown",
   "id": "6e289260-b35a-4113-90d9-6f0c2eb4bc92",
   "metadata": {},
   "source": [
    "This notebook constructs a PC surrogate for Genz functions with Bayesian Compressive sensing and gives the normalized root mean square error between the surrogate and the actual function. Both the Genz function and PCE are defined on [-1,1]."
   ]
  },
  {
   "cell_type": "code",
   "execution_count": 1,
   "id": "f74bf835-9ef7-452b-85cc-7fd3ebbe7dd3",
   "metadata": {},
   "outputs": [
    {
     "name": "stdout",
     "output_type": "stream",
     "text": [
      "PyMC is required for some of the MCMC postprocessing codes.\n",
      "Will proceed without, but some convergence tests will not be available.\n"
     ]
    }
   ],
   "source": [
    "import numpy as np\n",
    "import math  \n",
    "from scipy.stats import qmc\n",
    "import pandas as pd\n",
    "\n",
    "import PyUQTk.pce as uqtkpce\n",
    "import PyUQTk.PyPCE.pce_tools as pce_tools\n",
    "from PyUQTk.utils.func import *"
   ]
  },
  {
   "attachments": {},
   "cell_type": "markdown",
   "id": "532e0f3a-c607-4877-b64f-4a9cf1c40556",
   "metadata": {},
   "source": [
    "We define our input parameters. BCS is best for undetermined models and/or large basis sets."
   ]
  },
  {
   "cell_type": "code",
   "execution_count": 2,
   "id": "aa0bbccd-c5e7-40ab-a720-9ccf740514e9",
   "metadata": {},
   "outputs": [],
   "source": [
    "# PC parameters\n",
    "nord = 4            # Order of the final PCE basis\n",
    "ndim = 4            # Number of dimensions\n",
    "pc_type = \"LU\"      # Polynomial type\n",
    "pc_alpha = 0.0      # Free parameter > -1 for Gamma-Laguerre and Beta-Jacobi PCs\n",
    "pc_beta = 1.0       # Free parameter > -1 for Gamma-Laguerre and Beta-Jacobi PCs\n",
    "\n",
    "# Model to represent\n",
    "model = 'genz_osc'   # Choices are 'genz_osc', 'genz_exp', 'genz_cont','genz_gaus','genz_cpeak', 'genz_ppeak'"
   ]
  },
  {
   "attachments": {},
   "cell_type": "markdown",
   "id": "e17570ae-1ebd-4b8d-a9e8-7b1b26ec1809",
   "metadata": {},
   "source": [
    "We randomly generate training and testing data with added noise."
   ]
  },
  {
   "cell_type": "code",
   "execution_count": 3,
   "id": "38790a1d-574d-427b-b5e3-44eb3408aa0e",
   "metadata": {},
   "outputs": [],
   "source": [
    "# PC model with a full basis set\n",
    "pc_model =  uqtkpce.PCSet(\"NISPnoq\", nord, ndim, pc_type, pc_alpha, pc_beta)\n",
    "\n",
    "# Random number generator\n",
    "rng = qmc.LatinHypercube(d=ndim, seed=43)\n",
    "\n",
    "#Training\n",
    "np.random.seed(42)\n",
    "nTrain = int(pc_model.GetNumberPCTerms()*1) # Number of training samples\n",
    "x_tr_no_noise = 2*rng.random(n=nTrain)-1\n",
    "x_train = x_tr_no_noise + np.random.normal(0, 0.1, size = x_tr_no_noise.shape)\n",
    "y_train = func(x_tr_no_noise, model, np.ones(ndim+1))\n",
    "\n",
    "#Testing\n",
    "nTest = 10000  # Number of testing samples\n",
    "x_test_no_noise = 2*rng.random(n=nTest)-1\n",
    "x_test = x_test_no_noise + np.random.normal(0, 0.1, size = x_test_no_noise.shape)\n",
    "y_test = func(x_test_no_noise, model, np.ones(ndim+1))"
   ]
  },
  {
   "attachments": {},
   "cell_type": "markdown",
   "id": "9e806bad",
   "metadata": {},
   "source": [
    "## BCS with default settings\n",
    "\n",
    "We then perform BCS by inputting the PCSet object that contains the starting basis, the x training data, and the y training data. Set verbose to 0 to silence print statements, to 1 for some statements, and 2 for all statements.\n",
    "\n",
    "We then evaluate the polynomial chaos expansion and calculate the normalized root mean square error."
   ]
  },
  {
   "cell_type": "code",
   "execution_count": 4,
   "id": "b14fa3eb",
   "metadata": {},
   "outputs": [
    {
     "name": "stdout",
     "output_type": "stream",
     "text": [
      "============  Split # 1 / 1 ============\n",
      "==== BCS with multiindex of size 70 ====\n",
      "BCS has selected 17 basis terms out of 70\n",
      "Coefficients:\n",
      "[-0.40426661 -0.39440045 -0.38787995 -0.38299555 -0.36322194  0.20481367\n",
      "  0.17744271  0.17615609  0.16997361  0.16081588  0.101805    0.10113724\n",
      "  0.09661748 -0.07820574 -0.06027544  0.05970374  0.03663573]\n",
      "17  terms retained out of a full basis of size 70\n",
      "The NRMS error between a 4 -dimensional genz_osc function and a BCS-based PC surrogate of order 4 is\n"
     ]
    },
    {
     "data": {
      "text/plain": [
       "0.3985792514972794"
      ]
     },
     "execution_count": 4,
     "metadata": {},
     "output_type": "execute_result"
    }
   ],
   "source": [
    "# Define PC object\n",
    "pc_start = uqtkpce.PCSet(\"NISPnoq\", nord, ndim, pc_type, pc_alpha, pc_beta)\n",
    "\n",
    "# Perform BCS\n",
    "pc_final, c_k = pce_tools.UQTkBCS(pc_start, x_train, y_train, verbose=1)\n",
    "\n",
    "# Evaluate the PCE\n",
    "pce_evals = pce_tools.UQTkEvaluatePCE(pc_final, c_k, x_test)\n",
    "\n",
    "# Calculate error metric\n",
    "MSE = np.square(np.subtract(y_test, pce_evals)).mean()\n",
    "NRMSE=math.sqrt(MSE)/np.abs(y_test.mean())\n",
    "print(\"The NRMS error between a\", ndim, \"-dimensional\", model, \"function and a BCS-based PC surrogate of \\\n",
    "order\", nord, \"is\")\n",
    "NRMSE"
   ]
  },
  {
   "attachments": {},
   "cell_type": "markdown",
   "id": "dd75da29",
   "metadata": {},
   "source": [
    "## Basis cross-validation\n",
    " To ensure important basis terms are selected, we may also perform BCS on multiple splits of the training data. BCS selects basis terms in each split, then the intersection of the basis terms is found, and regression is run on that set of intersecting basis terms. The default setting is ntry = 1. Here, we show ntry = 2."
   ]
  },
  {
   "cell_type": "code",
   "execution_count": 5,
   "id": "7e91b59f",
   "metadata": {},
   "outputs": [
    {
     "name": "stdout",
     "output_type": "stream",
     "text": [
      "============  Split # 1 / 2 ============\n",
      "==== BCS with multiindex of size 70 ====\n",
      "BCS has selected 7 basis terms out of 70\n",
      "============  Split # 2 / 2 ============\n",
      "==== BCS with multiindex of size 70 ====\n",
      "BCS has selected 11 basis terms out of 70\n",
      "Coefficients:\n",
      "[-0.36159581 -0.4003449  -0.42695139 -0.36334667 -0.42364005]\n",
      "5  terms retained out of a full basis of size 70\n",
      "The NRMS error between a 4 -dimensional genz_osc function and a BCS-based PC surrogate of order 4 is\n"
     ]
    },
    {
     "data": {
      "text/plain": [
       "0.3662391313936097"
      ]
     },
     "execution_count": 5,
     "metadata": {},
     "output_type": "execute_result"
    }
   ],
   "source": [
    "# Define PC object\n",
    "pc_start = uqtkpce.PCSet(\"NISPnoq\", nord, ndim, pc_type, pc_alpha, pc_beta)\n",
    "\n",
    "# Perform BCS\n",
    "pc_final, c_k = pce_tools.UQTkBCS(pc_start, x_train, y_train, ntry=2, verbose=1)\n",
    "\n",
    "# Evaluate the PCE\n",
    "pce_evals = pce_tools.UQTkEvaluatePCE(pc_final, c_k, x_test)\n",
    "\n",
    "# Calculate error metric\n",
    "MSE = np.square(np.subtract(y_test, pce_evals)).mean()\n",
    "NRMSE=math.sqrt(MSE)/np.abs(y_test.mean())\n",
    "print(\"The NRMS error between a\", ndim, \"-dimensional\", model, \"function and a BCS-based PC surrogate of \\\n",
    "order\", nord, \"is\")\n",
    "NRMSE"
   ]
  },
  {
   "attachments": {},
   "cell_type": "markdown",
   "id": "f65a9bb7",
   "metadata": {},
   "source": [
    "## Basis growth\n",
    "We may also perform BCS with iterations of basis growth. We give BCS a basis of a smaller starting order, then grow the basis in the areas that are most advantageous. This allows us to calculate higher order PCEs without the computational cost of computing a full basis set of coefficients. The default is mindex_growth = None and the niter (number of iterations) = 1.\n",
    "\n",
    "Here we show 2 iterations of nonconservative basis growth, which adds multiindex entries of a higher order if *any* of the parents are in the current set.  "
   ]
  },
  {
   "cell_type": "code",
   "execution_count": 6,
   "id": "18a8a231",
   "metadata": {},
   "outputs": [
    {
     "name": "stdout",
     "output_type": "stream",
     "text": [
      "============  Split # 1 / 1 ============\n",
      "==== BCS with multiindex of size 35 ====\n",
      "BCS has selected 14 basis terms out of 35\n",
      "==== BCS with multiindex of size 49 ====\n",
      "BCS has selected 18 basis terms out of 49\n",
      "Coefficients:\n",
      "[-0.40243839 -0.39576055 -0.39063821 -0.38718265 -0.36294641  0.19040466\n",
      "  0.17425612  0.16684948  0.16062087  0.1352436  -0.12675721  0.11797902\n",
      " -0.09788142  0.09333043  0.09002183  0.06397633 -0.04775366  0.03896472]\n",
      "18  terms retained out of a full basis of size 70\n",
      "The NRMS error between a 4 -dimensional genz_osc function and a BCS-based PC surrogate of order 4 is\n"
     ]
    },
    {
     "data": {
      "text/plain": [
       "0.3888750297379594"
      ]
     },
     "execution_count": 6,
     "metadata": {},
     "output_type": "execute_result"
    }
   ],
   "source": [
    "niter=2\n",
    "\n",
    "# Define PC object\n",
    "start_ord = nord-niter+1 # if basis growth, shrink starting basis to allow for growth niter-1 times  \n",
    "pc_start = uqtkpce.PCSet(\"NISPnoq\", start_ord, ndim, pc_type, pc_alpha, pc_beta)\n",
    "\n",
    "# Perform BCS\n",
    "pc_final, c_k = pce_tools.UQTkBCS(pc_start, x_train, y_train, niter=niter, mindex_growth='nonconservative', verbose=1)\n",
    "\n",
    "# Evaluate the PCE\n",
    "pce_evals = pce_tools.UQTkEvaluatePCE(pc_final, c_k, x_test)\n",
    "\n",
    "# Calculate error metric\n",
    "MSE = np.square(np.subtract(y_test, pce_evals)).mean()\n",
    "NRMSE=math.sqrt(MSE)/np.abs(y_test.mean())\n",
    "print(\"The NRMS error between a\", ndim, \"-dimensional\", model, \"function and a BCS-based PC surrogate of \\\n",
    "order\", nord, \"is\")\n",
    "NRMSE"
   ]
  },
  {
   "attachments": {},
   "cell_type": "markdown",
   "id": "a46c371e",
   "metadata": {},
   "source": [
    "We can also use conservative basis growth, which adds multiindex entries of a higher order if *all* parents are in the current set."
   ]
  },
  {
   "cell_type": "code",
   "execution_count": 7,
   "id": "e252d5f5",
   "metadata": {},
   "outputs": [
    {
     "name": "stdout",
     "output_type": "stream",
     "text": [
      "============  Split # 1 / 1 ============\n",
      "==== BCS with multiindex of size 35 ====\n",
      "BCS has selected 14 basis terms out of 35\n",
      "==== BCS with multiindex of size 23 ====\n",
      "BCS has selected 14 basis terms out of 23\n",
      "Coefficients:\n",
      "[-0.40685524 -0.39667432 -0.39222092 -0.37117262 -0.35285434  0.21442471\n",
      "  0.16239871  0.15118613  0.14291924  0.08766108  0.07300681  0.06764256\n",
      "  0.06712614 -0.05355022]\n",
      "14  terms retained out of a full basis of size 70\n",
      "The NRMS error between a 4 -dimensional genz_osc function and a BCS-based PC surrogate of order 4 is\n"
     ]
    },
    {
     "data": {
      "text/plain": [
       "0.37209580489576466"
      ]
     },
     "execution_count": 7,
     "metadata": {},
     "output_type": "execute_result"
    }
   ],
   "source": [
    "# Perform BCS\n",
    "pc_final, c_k = pce_tools.UQTkBCS(pc_start, x_train, y_train, niter=niter, mindex_growth='conservative', verbose=1)\n",
    "\n",
    "# Evaluate the PCE\n",
    "pce_evals = pce_tools.UQTkEvaluatePCE(pc_final, c_k, x_test)\n",
    "\n",
    "# Calculate error metric\n",
    "MSE = np.square(np.subtract(y_test, pce_evals)).mean()\n",
    "NRMSE=math.sqrt(MSE)/np.abs(y_test.mean())\n",
    "print(\"The NRMS error between a\", ndim, \"-dimensional\", model, \"function and a BCS-based PC surrogate of \\\n",
    "order\", nord, \"is\")\n",
    "NRMSE"
   ]
  },
  {
   "attachments": {},
   "cell_type": "markdown",
   "id": "dcb47d46",
   "metadata": {},
   "source": [
    "## Eta optimization\n",
    "\n",
    "BCS uses the stopping threshold, eta, to determine how many coefficients to retain in the final basis. Larger etas stop the algorithm sooner, causing BCS to retain fewer terms. The default eta is 1e-3. \n",
    "\n",
    "If eta is given an array or list as an argument, the optimum value is chosen through cross-validation on a specified number of folds (eta_folds). If eta_plot = True, a plot of the cross-validation results is generated.\n",
    "\n",
    "The optimal eta is selected according to the following process:\n",
    "- Split training into folds (according to eta_folds)\n",
    "- For each fold:\n",
    "    -  For each eta in the list, \n",
    "        - Perform BCS\n",
    "        - Compute RMSE for training and testing\n",
    "- Average the training and testing errors over the folds\n",
    "- Return the eta with the lowest average RMSE\n",
    "\n",
    "\n",
    "For large values of eta, the training and testing error should increase as the surrogate approximation becomes less precise.\n",
    "Meanwhile, small values of eta can lead to overfitting, increasing the testing error.\n",
    "\n",
    "\n",
    "This example performs eta-optimizing BCS with 2 iterations of nonconservative basis growth. We will use factors of 10 between 1e-16 and 1 for possible etas and 10 folds for cross-validation."
   ]
  },
  {
   "cell_type": "code",
   "execution_count": 8,
   "id": "e9ab0cc4",
   "metadata": {},
   "outputs": [
    {
     "name": "stdout",
     "output_type": "stream",
     "text": [
      "The NRMS error between a 4 -dimensional genz_osc function and a BCS-based PC surrogate of order 4 is\n"
     ]
    },
    {
     "data": {
      "text/plain": [
       "0.3524436425793535"
      ]
     },
     "execution_count": 8,
     "metadata": {},
     "output_type": "execute_result"
    },
    {
     "data": {
      "image/png": "[encoded data removed]",
      "text/plain": [
       "<Figure size 720x720 with 1 Axes>"
      ]
     },
     "metadata": {
      "needs_background": "light"
     },
     "output_type": "display_data"
    }
   ],
   "source": [
    "# create an array of possible etas: [1e-16, 1e-15, ... , 1e-2, 1e-1, 1]\n",
    "eta = 1/np.power(10,[i for i in range(0,16)])\n",
    "\n",
    "# Perform BCS\n",
    "pc_final, c_k = pce_tools.UQTkBCS(pc_start, x_train, y_train, niter=niter, mindex_growth='nonconservative', eta=eta, eta_folds=10, eta_plot=True)\n",
    "\n",
    "# Evaluate the PCE\n",
    "pce_evals = pce_tools.UQTkEvaluatePCE(pc_final, c_k, x_test)\n",
    "\n",
    "# Calculate error metric\n",
    "MSE = np.square(np.subtract(y_test, pce_evals)).mean()\n",
    "NRMSE=math.sqrt(MSE)/np.abs(y_test.mean())\n",
    "print(\"The NRMS error between a\", ndim, \"-dimensional\", model, \"function and a BCS-based PC surrogate of \\\n",
    "order\", nord, \"is\")\n",
    "NRMSE"
   ]
  },
  {
   "attachments": {},
   "cell_type": "markdown",
   "id": "231b23d1",
   "metadata": {},
   "source": [
    "We can also use more folds for eta cross-validation. This decreases the bias but increases variance and computational cost. Here, we use 20 folds."
   ]
  },
  {
   "cell_type": "code",
   "execution_count": 9,
   "id": "42e66fb4",
   "metadata": {},
   "outputs": [
    {
     "name": "stdout",
     "output_type": "stream",
     "text": [
      "The NRMS error between a 4 -dimensional genz_osc function and a BCS-based PC surrogate of order 4 is\n"
     ]
    },
    {
     "data": {
      "text/plain": [
       "0.4552579390926737"
      ]
     },
     "execution_count": 9,
     "metadata": {},
     "output_type": "execute_result"
    },
    {
     "data": {
      "image/png": "[encoded data removed]",
      "text/plain": [
       "<Figure size 720x720 with 1 Axes>"
      ]
     },
     "metadata": {
      "needs_background": "light"
     },
     "output_type": "display_data"
    }
   ],
   "source": [
    "# Perform BCS\n",
    "pc_final, c_k = pce_tools.UQTkBCS(pc_start, x_train, y_train, niter=niter, mindex_growth='nonconservative', eta=eta, eta_folds=20, eta_plot=True)\n",
    "\n",
    "# Evaluate the PCE\n",
    "pce_evals = pce_tools.UQTkEvaluatePCE(pc_final, c_k, x_test)\n",
    "\n",
    "# Calculate error metric\n",
    "MSE = np.square(np.subtract(y_test, pce_evals)).mean()\n",
    "NRMSE=math.sqrt(MSE)/np.abs(y_test.mean())\n",
    "print(\"The NRMS error between a\", ndim, \"-dimensional\", model, \"function and a BCS-based PC surrogate of \\\n",
    "order\", nord, \"is\")\n",
    "NRMSE"
   ]
  },
  {
   "attachments": {},
   "cell_type": "markdown",
   "id": "f1b08f3a",
   "metadata": {},
   "source": [
    "If BCS is set to grow the basis, eta cross-validation does not implement basis growth by default. However, if eta_growth = True, the selection for optimum eta will take basis growth into account. This increases both computational time and precision."
   ]
  },
  {
   "cell_type": "code",
   "execution_count": 10,
   "id": "caa35226",
   "metadata": {},
   "outputs": [
    {
     "name": "stdout",
     "output_type": "stream",
     "text": [
      "The NRMS error between a 4 -dimensional genz_osc function and a BCS-based PC surrogate of order 4 is\n"
     ]
    },
    {
     "data": {
      "text/plain": [
       "0.3524436425793535"
      ]
     },
     "execution_count": 10,
     "metadata": {},
     "output_type": "execute_result"
    },
    {
     "data": {
      "image/png": "[encoded data removed]",
      "text/plain": [
       "<Figure size 720x720 with 1 Axes>"
      ]
     },
     "metadata": {
      "needs_background": "light"
     },
     "output_type": "display_data"
    }
   ],
   "source": [
    "# Perform BCS\n",
    "pc_final, c_k = pce_tools.UQTkBCS(pc_start, x_train, y_train, niter=niter, mindex_growth='nonconservative', eta=eta, eta_folds=10, eta_growth=True, eta_plot=True)\n",
    "\n",
    "# Evaluate the PCE\n",
    "pce_evals = pce_tools.UQTkEvaluatePCE(pc_final, c_k, x_test)\n",
    "\n",
    "# Calculate error metric\n",
    "MSE = np.square(np.subtract(y_test, pce_evals)).mean()\n",
    "NRMSE=math.sqrt(MSE)/np.abs(y_test.mean())\n",
    "print(\"The NRMS error between a\", ndim, \"-dimensional\", model, \"function and a BCS-based PC surrogate of \\\n",
    "order\", nord, \"is\")\n",
    "NRMSE"
   ]
  },
  {
   "attachments": {},
   "cell_type": "markdown",
   "id": "dd61d36b",
   "metadata": {},
   "source": [
    "## Regularization weights\n",
    "\n",
    "Regularization weights control the relative importance of the penalty with respect to the goodness-of-fit. There is one per basis term, and basis terms with larger corresponding weights are more likely to be pruned. Each iteration of BCS updates the weights, based on the latest approximation of coefficients. \n",
    "\n",
    "We specify the initial regularization weights, regparams, in the BCS call. By default, regparams = None, and a vector of initial weights are autopopulated by BCS. However, one may specify a vector of weights by providing an array of the length of the number of PC terms. This allows for more control over the algorithm's start by indicating which coefficients are likely to be important.\n",
    "\n",
    "Here, specify regparams = "
   ]
  },
  {
   "cell_type": "code",
   "execution_count": 11,
   "id": "35fcdb16",
   "metadata": {},
   "outputs": [
    {
     "name": "stdout",
     "output_type": "stream",
     "text": [
      "============  Split # 1 / 1 ============\n",
      "==== BCS with multiindex of size 70 ====\n",
      "BCS has selected 17 basis terms out of 70\n",
      "Coefficients:\n",
      "[-0.40426661 -0.39440045 -0.38787995 -0.38299555 -0.36322194  0.20481367\n",
      "  0.17744271  0.17615609  0.16997361  0.16081588  0.101805    0.10113724\n",
      "  0.09661748 -0.07820574 -0.06027544  0.05970374  0.03663573]\n",
      "17  terms retained out of a full basis of size 70\n",
      "The NRMS error between a 4 -dimensional genz_osc function and a BCS-based PC surrogate of order 4 is\n"
     ]
    },
    {
     "data": {
      "text/plain": [
       "0.3985792514972794"
      ]
     },
     "execution_count": 11,
     "metadata": {},
     "output_type": "execute_result"
    }
   ],
   "source": [
    "#0.3985792514972794 with regparams=None\n",
    "#specifying a vector of weights that are different or the same is making no difference.\\\n",
    "#also makes no difference when basis growth is introduced or when regparams=0\n",
    "\n",
    "reg=np.array([100/w for w in range(1, pc_model.GetNumberPCTerms()+1)])\n",
    " \n",
    "pc_start = uqtkpce.PCSet(\"NISPnoq\", nord, ndim, pc_type, pc_alpha, pc_beta)\n",
    "\n",
    "# Perform BCS\n",
    "pc_final, c_k = pce_tools.UQTkBCS(pc_start, x_train, y_train, regparams=reg, verbose=1)\n",
    "\n",
    "# Evaluate the PCE\n",
    "pce_evals = pce_tools.UQTkEvaluatePCE(pc_final, c_k, x_test)\n",
    "\n",
    "# Calculate error metric\n",
    "MSE = np.square(np.subtract(y_test, pce_evals)).mean()\n",
    "NRMSE=math.sqrt(MSE)/np.abs(y_test.mean())\n",
    "print(\"The NRMS error between a\", ndim, \"-dimensional\", model, \"function and a BCS-based PC surrogate of \\\n",
    "order\", nord, \"is\")\n",
    "NRMSE"
   ]
  },
  {
   "attachments": {},
   "cell_type": "markdown",
   "id": "01b4d30c",
   "metadata": {},
   "source": [
    "To autopopulate a scalar, set regparams = 0. (special case)\n",
    "Same for each basis term\n",
    "The benefit is..."
   ]
  },
  {
   "attachments": {},
   "cell_type": "markdown",
   "id": "232be84f",
   "metadata": {},
   "source": [
    "To set a fixed scalar, provide a fixed nonnegative value. (This then becomes an array of that scalar)"
   ]
  },
  {
   "attachments": {},
   "cell_type": "markdown",
   "id": "dd072ffc",
   "metadata": {},
   "source": [
    "## Data noise specification\n",
    "We have the option to specify the amount of noise variance we assume is in the data. By default, sigma2 = 1e-8, however, this can be adapted based on the knowledge we have of our data.\n",
    "\n",
    "In this example, we added noise with a standard deviation of 0.1, so can specify sigma2 = 0.01 to improve accuracy."
   ]
  },
  {
   "cell_type": "code",
   "execution_count": 12,
   "id": "c53fa2e3",
   "metadata": {},
   "outputs": [
    {
     "name": "stdout",
     "output_type": "stream",
     "text": [
      "============  Split # 1 / 1 ============\n",
      "==== BCS with multiindex of size 70 ====\n",
      "BCS has selected 8 basis terms out of 70\n",
      "Coefficients:\n",
      "[-0.41699246 -0.41728052 -0.3752697  -0.37492286 -0.35607029  0.10600481\n",
      "  0.07808621  0.0588526 ]\n",
      "8  terms retained out of a full basis of size 70\n",
      "The NRMS error between a 4 -dimensional genz_osc function and a BCS-based PC surrogate of order 4 is\n"
     ]
    },
    {
     "data": {
      "text/plain": [
       "0.34125304607524054"
      ]
     },
     "execution_count": 12,
     "metadata": {},
     "output_type": "execute_result"
    }
   ],
   "source": [
    "# Define PC object\n",
    "pc_start = uqtkpce.PCSet(\"NISPnoq\", nord, ndim, pc_type, pc_alpha, pc_beta)\n",
    "\n",
    "# Perform BCS\n",
    "pc_final, c_k = pce_tools.UQTkBCS(pc_start, x_train, y_train, sigma2=0.01, verbose=1)\n",
    "\n",
    "# Evaluate the PCE\n",
    "pce_evals = pce_tools.UQTkEvaluatePCE(pc_final, c_k, x_test)\n",
    "\n",
    "# Calculate error metric\n",
    "MSE = np.square(np.subtract(y_test, pce_evals)).mean()\n",
    "NRMSE=math.sqrt(MSE)/np.abs(y_test.mean())\n",
    "print(\"The NRMS error between a\", ndim, \"-dimensional\", model, \"function and a BCS-based PC surrogate of \\\n",
    "order\", nord, \"is\")\n",
    "NRMSE"
   ]
  },
  {
   "attachments": {},
   "cell_type": "markdown",
   "id": "cc375abd",
   "metadata": {},
   "source": [
    "## Basis term trimming\n",
    "\n",
    "To focus on the most important coefficients, we can adjust the basis trimming parameters. npccut is the maximum number of PC coefficients to retain. The default is npccut = None, which retains all coefficients selected by BCS. However, if we wish to limit the number of PC coefficients, we can set npccut to, for example, 10."
   ]
  },
  {
   "cell_type": "code",
   "execution_count": 13,
   "id": "34a6a1a8",
   "metadata": {},
   "outputs": [
    {
     "name": "stdout",
     "output_type": "stream",
     "text": [
      "============  Split # 1 / 1 ============\n",
      "==== BCS with multiindex of size 70 ====\n",
      "BCS has selected 17 basis terms out of 70\n",
      "7 coefficients have been cut because only 10  terms are allowed.\n",
      "Coefficients:\n",
      "[-0.36935208 -0.3959887  -0.38575969 -0.41041135 -0.3524368   0.12510656\n",
      "  0.11470634  0.09683046  0.1290426   0.08523407]\n",
      "10  terms retained out of a full basis of size 70\n",
      "The NRMS error between a 4 -dimensional genz_osc function and a BCS-based PC surrogate of order 4 is\n"
     ]
    },
    {
     "data": {
      "text/plain": [
       "0.3361300705992166"
      ]
     },
     "execution_count": 13,
     "metadata": {},
     "output_type": "execute_result"
    }
   ],
   "source": [
    "# Perform BCS\n",
    "pc_final, c_k = pce_tools.UQTkBCS(pc_start, x_train, y_train, npccut=10, verbose=1)\n",
    "\n",
    "# Evaluate the PCE\n",
    "pce_evals = pce_tools.UQTkEvaluatePCE(pc_final, c_k, x_test)\n",
    "\n",
    "# Calculate error metric\n",
    "MSE = np.square(np.subtract(y_test, pce_evals)).mean()\n",
    "NRMSE=math.sqrt(MSE)/np.abs(y_test.mean())\n",
    "print(\"The NRMS error between a\", ndim, \"-dimensional\", model, \"function and a BCS-based PC surrogate of \\\n",
    "order\", nord, \"is\")\n",
    "NRMSE"
   ]
  },
  {
   "attachments": {},
   "cell_type": "markdown",
   "id": "3852dbe9",
   "metadata": {},
   "source": [
    "Another approach to limiting PC coefficients is setting a minimum magnitude for possible coefficient, pcf_thr. The default is pcf_thr = None. Here, we show pcf_thr = 0.1."
   ]
  },
  {
   "cell_type": "code",
   "execution_count": 14,
   "id": "0e299d8e",
   "metadata": {},
   "outputs": [
    {
     "name": "stdout",
     "output_type": "stream",
     "text": [
      "============  Split # 1 / 1 ============\n",
      "==== BCS with multiindex of size 70 ====\n",
      "BCS has selected 17 basis terms out of 70\n",
      "5 coefficients equal to zero or below the magnitude threshold have been cut.\n",
      "Coefficients:\n",
      "[-0.37410154 -0.39643237 -0.40111915 -0.39888695 -0.35358233  0.15128684\n",
      "  0.10741545  0.13063637  0.121388    0.12643134  0.0594203   0.0915976 ]\n",
      "12  terms retained out of a full basis of size 70\n",
      "The NRMS error between a 4 -dimensional genz_osc function and a BCS-based PC surrogate of order 4 is\n"
     ]
    },
    {
     "data": {
      "text/plain": [
       "0.32363253923406987"
      ]
     },
     "execution_count": 14,
     "metadata": {},
     "output_type": "execute_result"
    }
   ],
   "source": [
    "# Perform BCS\n",
    "pc_final, c_k = pce_tools.UQTkBCS(pc_start, x_train, y_train, pcf_thr=0.1, verbose=1)\n",
    "\n",
    "# Evaluate the PCE\n",
    "pce_evals = pce_tools.UQTkEvaluatePCE(pc_final, c_k, x_test)\n",
    "\n",
    "# Calculate error metric\n",
    "MSE = np.square(np.subtract(y_test, pce_evals)).mean()\n",
    "NRMSE=math.sqrt(MSE)/np.abs(y_test.mean())\n",
    "print(\"The NRMS error between a\", ndim, \"-dimensional\", model, \"function and a BCS-based PC surrogate of \\\n",
    "order\", nord, \"is\")\n",
    "NRMSE"
   ]
  }
 ],
 "metadata": {
  "kernelspec": {
   "display_name": "Python 3 (ipykernel)",
   "language": "python",
   "name": "python3"
  },
  "language_info": {
   "codemirror_mode": {
    "name": "ipython",
    "version": 3
   },
   "file_extension": ".py",
   "mimetype": "text/x-python",
   "name": "python",
   "nbconvert_exporter": "python",
   "pygments_lexer": "ipython3",
   "version": "3.9.12"
  }
 },
 "nbformat": 4,
 "nbformat_minor": 5
}
