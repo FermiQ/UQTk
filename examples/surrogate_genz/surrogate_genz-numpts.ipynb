{
 "cells": [
  {
   "cell_type": "markdown",
   "id": "c32c8012-f3bf-4f96-9aff-e8b20eca1ec7",
   "metadata": {},
   "source": [
    "# Surrogate Construction for Genz Functions\n",
    "## As a function of the number of quadrature points"
   ]
  },
  {
   "cell_type": "markdown",
   "id": "6e289260-b35a-4113-90d9-6f0c2eb4bc92",
   "metadata": {},
   "source": [
    "This notebook constructs a PC surrogate for Genz functions using full and sparse quadrature, giving the root mean square error between the surrogate and the actual function."
   ]
  },
  {
   "cell_type": "code",
   "execution_count": 1,
   "id": "f74bf835-9ef7-452b-85cc-7fd3ebbe7dd3",
   "metadata": {},
   "outputs": [
    {
     "name": "stdout",
     "output_type": "stream",
     "text": [
      "PyMC is required for some of the MCMC postprocessing codes.\n",
      "Will proceed without, but some convergence tests will not be available.\n"
     ]
    }
   ],
   "source": [
    "# imports\n",
    "import numpy as np\n",
    "import math  \n",
    "import matplotlib.pyplot as plt\n",
    "import pandas as pd\n",
    "\n",
    "import PyUQTk.pce as uqtkpce\n",
    "import PyUQTk.PyPCE.pce_tools as pce_tools\n",
    "from PyUQTk.utils.func import *"
   ]
  },
  {
   "cell_type": "markdown",
   "id": "532e0f3a-c607-4877-b64f-4a9cf1c40556",
   "metadata": {},
   "source": [
    "## Inputs"
   ]
  },
  {
   "cell_type": "code",
   "execution_count": 2,
   "id": "aa0bbccd-c5e7-40ab-a720-9ccf740514e9",
   "metadata": {},
   "outputs": [],
   "source": [
    "nord = 4            # Order of the PCE\n",
    "pc_type = \"HG\"      # Polynomial type\n",
    "pc_alpha = 0.0      # Free parameter > -1 for Gamma-Laguerre and Beta-Jacobi PCs\n",
    "pc_beta = 1.0       # Free parameter > -1 for Gamma-Laguerre and Beta-Jacobi PCs\n",
    "nSam = 100000       # Number of random samples\n",
    "ndim = 2            # Number of dimensions\n",
    "model= 'genz_osc'   # Choices are 'genz_osc', 'genz_exp', 'genz_cont','genz_gaus','genz_cpeak', 'genz_ppeak'\n",
    "q_pts = 10          # Maximum number of quad points per dimension\n",
    "coef = \"regression\""
   ]
  },
  {
   "cell_type": "markdown",
   "id": "ac1bb130-01a3-4e3e-96cd-e882aaa5959f",
   "metadata": {
    "jp-MarkdownHeadingCollapsed": true,
    "tags": []
   },
   "source": [
    "We define the range of quadrature points we will be using."
   ]
  },
  {
   "cell_type": "code",
   "execution_count": 3,
   "id": "29d6260a-aed8-4a2d-8574-42ac0572a390",
   "metadata": {},
   "outputs": [
    {
     "name": "stdout",
     "output_type": "stream",
     "text": [
      "[1, 4, 9, 16, 25, 36, 49, 64, 81, 100]\n"
     ]
    }
   ],
   "source": [
    "num_points=range(1,q_pts+1)\n",
    "tot_pts=[i**ndim for i in num_points]"
   ]
  },
  {
   "cell_type": "markdown",
   "id": "0510327b-4fc6-4539-adec-060a8268f312",
   "metadata": {},
   "source": [
    "## Full Quadrature"
   ]
  },
  {
   "cell_type": "markdown",
   "id": "57f25d56-003f-4ca6-b6bc-147abc4001e3",
   "metadata": {},
   "source": [
    "We loop through different values of the number of quadrature points per dimension, performing full quadrature on each and obtaining the RMSE."
   ]
  },
  {
   "cell_type": "code",
   "execution_count": 5,
   "id": "49a98c9b-87ca-4497-9e00-12883c41b5f4",
   "metadata": {},
   "outputs": [],
   "source": [
    "q_errors=[] #list to store quad errors\n",
    "\n",
    "#Loop though different values for number of quad points per dimension\n",
    "for quad_param in num_points:\n",
    "    pc_model = uqtkpce.PCSet(\"NISPnoq\", nord, ndim, pc_type, pc_alpha, pc_beta)\n",
    "    pc_model.SetQuadRule(pc_type, 'full', quad_param) # set full or sparse\n",
    "    qdpts, totquat= pce_tools.UQTkGetQuadPoints(pc_model)\n",
    "    f_evals=func(qdpts,model,np.ones(ndim+1))\n",
    "    \n",
    "    if (coef==\"regression\"):\n",
    "        c_k = pce_tools.UQTkRegression(pc_model, f_evals)\n",
    "    elif (coef==\"galerkin\"):\n",
    "        c_k = pce_tools.UQTkGalerkinProjection(pc_model,f_evals)\n",
    "    else:\n",
    "        print(\"Invalid coef chosen. Galerkin projection is used by deafult.)\n",
    "        c_k = pce_tools.UQTkGalerkinProjection(pc_model,f_evals)\n",
    "        \n",
    "    \n",
    "    germ_samples=np.random.normal(0,1, (nSam,ndim))\n",
    "    pce_evals=pce_tools.UQTkEvaluatePCE(pc_model,c_k,germ_samples)\n",
    "    f_actual=func(germ_samples,model,np.ones(ndim+1))\n",
    "    MSE = np.square(np.subtract(f_actual,pce_evals)).mean()\n",
    "    RMSE=math.sqrt(MSE)\n",
    "    q_errors.append(RMSE)"
   ]
  },
  {
   "cell_type": "markdown",
   "id": "fc6e7f40-7402-4441-81b6-34306a5682a2",
   "metadata": {},
   "source": [
    "## Sparse Quadrature"
   ]
  },
  {
   "cell_type": "markdown",
   "id": "a6d7b065-076f-42fc-9498-27697b67ef69",
   "metadata": {},
   "source": [
    "We do the same for sparse quadrature."
   ]
  },
  {
   "cell_type": "code",
   "execution_count": 6,
   "id": "65985026-fb86-446c-9eaf-cb9f6756fa03",
   "metadata": {},
   "outputs": [],
   "source": [
    "q_errors2=[] #list to store quad errors\n",
    "\n",
    "#Loop though different values for number of quad points per dimension\n",
    "for quad_param in num_points:\n",
    "    pc_model2 = uqtkpce.PCSet(\"NISPnoq\", nord, ndim, pc_type, pc_alpha, pc_beta)\n",
    "    pc_model2.SetQuadRule(pc_type, 'sparse', quad_param)\n",
    "    qdpts2, totquat2= pce_tools.UQTkGetQuadPoints(pc_model2)\n",
    "    f_evals2=func(qdpts2,model,np.ones(ndim+1))\n",
    "    \n",
    "    if (coef==\"regression\"):\n",
    "        c_k2 = pce_tools.UQTkRegression(pc_model2, f_evals2)\n",
    "    elif (coef==\"galerkin\"):\n",
    "        c_k2 = pce_tools.UQTkGalerkinProjection(pc_model2,f_evals2)\n",
    "    else:\n",
    "        print(\"Invalid coef chosen. Galerkin projection is used by deafult.)\n",
    "        c_k2 = pce_tools.UQTkGalerkinProjection(pc_model2,f_evals2)\n",
    "    \n",
    "    germ_samples2=np.random.normal(0,1, (nSam,ndim))\n",
    "    pce_evals2=pce_tools.UQTkEvaluatePCE(pc_model2,c_k2,germ_samples2)\n",
    "    f_actual2=func(germ_samples2,model,np.ones(ndim+1))\n",
    "    MSE2 = np.square(np.subtract(f_actual2,pce_evals2)).mean()\n",
    "    RMSE2=math.sqrt(MSE2)\n",
    "    q_errors2.append(RMSE2)"
   ]
  },
  {
   "cell_type": "markdown",
   "id": "6ee2389e-3a0d-450f-b13b-66c4fe28c494",
   "metadata": {},
   "source": [
    "## Summary\n",
    "This table and figure display the error of each method of quadrature as the total quadrature points varies."
   ]
  },
  {
   "cell_type": "code",
   "execution_count": 7,
   "id": "743570ba-1cb6-46da-b15e-d3678d058bc6",
   "metadata": {},
   "outputs": [
    {
     "data": {
      "text/html": [
       "<div>\n",
       "<style scoped>\n",
       "    .dataframe tbody tr th:only-of-type {\n",
       "        vertical-align: middle;\n",
       "    }\n",
       "\n",
       "    .dataframe tbody tr th {\n",
       "        vertical-align: top;\n",
       "    }\n",
       "\n",
       "    .dataframe thead th {\n",
       "        text-align: right;\n",
       "    }\n",
       "</style>\n",
       "<table border=\"1\" class=\"dataframe\">\n",
       "  <thead>\n",
       "    <tr style=\"text-align: right;\">\n",
       "      <th></th>\n",
       "      <th>Num Quad Points</th>\n",
       "      <th>Full</th>\n",
       "      <th>Sparse</th>\n",
       "    </tr>\n",
       "  </thead>\n",
       "  <tbody>\n",
       "    <tr>\n",
       "      <th>0</th>\n",
       "      <td>1.0</td>\n",
       "      <td>0.845997</td>\n",
       "      <td>0.355061</td>\n",
       "    </tr>\n",
       "    <tr>\n",
       "      <th>1</th>\n",
       "      <td>4.0</td>\n",
       "      <td>0.481774</td>\n",
       "      <td>0.025066</td>\n",
       "    </tr>\n",
       "    <tr>\n",
       "      <th>2</th>\n",
       "      <td>9.0</td>\n",
       "      <td>0.104275</td>\n",
       "      <td>0.010800</td>\n",
       "    </tr>\n",
       "    <tr>\n",
       "      <th>3</th>\n",
       "      <td>16.0</td>\n",
       "      <td>0.013254</td>\n",
       "      <td>0.009889</td>\n",
       "    </tr>\n",
       "    <tr>\n",
       "      <th>4</th>\n",
       "      <td>25.0</td>\n",
       "      <td>0.011417</td>\n",
       "      <td>0.010411</td>\n",
       "    </tr>\n",
       "    <tr>\n",
       "      <th>5</th>\n",
       "      <td>36.0</td>\n",
       "      <td>0.009570</td>\n",
       "      <td>0.009728</td>\n",
       "    </tr>\n",
       "    <tr>\n",
       "      <th>6</th>\n",
       "      <td>49.0</td>\n",
       "      <td>0.010298</td>\n",
       "      <td>0.011641</td>\n",
       "    </tr>\n",
       "    <tr>\n",
       "      <th>7</th>\n",
       "      <td>64.0</td>\n",
       "      <td>0.010503</td>\n",
       "      <td>1.366602</td>\n",
       "    </tr>\n",
       "    <tr>\n",
       "      <th>8</th>\n",
       "      <td>81.0</td>\n",
       "      <td>0.010665</td>\n",
       "      <td>1.302191</td>\n",
       "    </tr>\n",
       "    <tr>\n",
       "      <th>9</th>\n",
       "      <td>100.0</td>\n",
       "      <td>0.010345</td>\n",
       "      <td>1.299934</td>\n",
       "    </tr>\n",
       "  </tbody>\n",
       "</table>\n",
       "</div>"
      ],
      "text/plain": [
       "   Num Quad Points      Full    Sparse\n",
       "0              1.0  0.845997  0.355061\n",
       "1              4.0  0.481774  0.025066\n",
       "2              9.0  0.104275  0.010800\n",
       "3             16.0  0.013254  0.009889\n",
       "4             25.0  0.011417  0.010411\n",
       "5             36.0  0.009570  0.009728\n",
       "6             49.0  0.010298  0.011641\n",
       "7             64.0  0.010503  1.366602\n",
       "8             81.0  0.010665  1.302191\n",
       "9            100.0  0.010345  1.299934"
      ]
     },
     "execution_count": 7,
     "metadata": {},
     "output_type": "execute_result"
    }
   ],
   "source": [
    "pd.DataFrame(data=np.transpose([tot_pts,q_errors, q_errors2]), columns=[\"Num Quad Points\", \"Full\", \"Sparse\"])"
   ]
  },
  {
   "cell_type": "code",
   "execution_count": 8,
   "id": "309bf397-feb6-4889-8f3a-d3e0c62aac7b",
   "metadata": {},
   "outputs": [
    {
     "data": {
      "image/png": "[encoded data removed]",
      "text/plain": [
       "<Figure size 720x720 with 1 Axes>"
      ]
     },
     "metadata": {
      "needs_background": "light"
     },
     "output_type": "display_data"
    }
   ],
   "source": [
    "#Create figure\n",
    "fig, ax = plt.subplots(figsize=(10,10))\n",
    "#Plot Quadrature Data\n",
    "plt.plot(tot_pts, q_errors, color='r', label='Full Quadrature')\n",
    "plt.plot(tot_pts, q_errors2, color='b', label='Sparse Quadrature')\n",
    "#Label Axes\n",
    "plt.xlabel(\"Total number of Sampling Points\",fontsize=20)\n",
    "plt.ylabel(\"RMSE\",fontsize=20)\n",
    "#Create legend\n",
    "plt.legend(loc='lower left')\n",
    "\n",
    "#Model titles to be displayed\n",
    "if model==\"genz_osc\":\n",
    "    model_title=\"Genz Oscillatory\"\n",
    "elif model==\"genz_gaus\":\n",
    "    model_title=\"Genz Gaussian\"\n",
    "elif model==\"genz_ppeak\":\n",
    "    model_title=\"Genz Product-Peak\"\n",
    "elif model==\"genz_cpeak\":\n",
    "    model_title=\"Genz Corner-Peak\"\n",
    "elif model==\"genz_exp\":\n",
    "    model_title=\"Genz Exponential\"\n",
    "else:\n",
    "    model_title=\"Genz Continuous\"\n",
    "\n",
    "#Add title\n",
    "fig.suptitle(\"Comparison of Full and Sparse Quadrature\\nfor %s Model with\\\n",
    " Dimension %s\"%(model_title, str(ndim)), fontsize=22)\n",
    "#Make scales logarithmic\n",
    "plt.yscale('log')\n",
    "plt.xscale('log')\n",
    "#Change size of tick labels\n",
    "plt.tick_params(axis='both', labelsize=16)\n",
    "\n",
    "#Show figure\n",
    "plt.show() "
   ]
  }
 ],
 "metadata": {
  "kernelspec": {
   "display_name": "Python 3 (ipykernel)",
   "language": "python",
   "name": "python3"
  },
  "language_info": {
   "codemirror_mode": {
    "name": "ipython",
    "version": 3
   },
   "file_extension": ".py",
   "mimetype": "text/x-python",
   "name": "python",
   "nbconvert_exporter": "python",
   "pygments_lexer": "ipython3",
   "version": "3.9.12"
  }
 },
 "nbformat": 4,
 "nbformat_minor": 5
}
