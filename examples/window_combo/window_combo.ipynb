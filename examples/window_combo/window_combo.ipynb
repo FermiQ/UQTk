{
 "cells": [
  {
   "cell_type": "markdown",
   "id": "5c13dd58-0e7f-4027-b1c4-289bc5a16464",
   "metadata": {},
   "source": [
    "# Heat Transfer through a Window\n",
    "This script produces probability density functions of heat transfer through a window using Monte Carlo sampling, full quadrature, and sparse quadrature. It also produces a graph of the spectral decay of the polynomial chaos expansion for full quadrature.\n",
    "One may choose whether the model has 1 pane or 2 and whether radiative heat transfer is considered."
   ]
  },
  {
   "cell_type": "code",
   "execution_count": 1,
   "id": "7cebd8d6-88a6-4128-8b23-1bdcc1e7b333",
   "metadata": {},
   "outputs": [
    {
     "name": "stdout",
     "output_type": "stream",
     "text": [
      "PyMC is required for some of the MCMC postprocessing codes.\n",
      "Will proceed without, but some convergence tests will not be available.\n",
      "PyUQTkArray module not imported\n",
      "PyUQTk pce_tools module not found\n"
     ]
    }
   ],
   "source": [
    "#general imports\n",
    "\n",
    "from __future__ import print_function\n",
    "\n",
    "try:\n",
    "    import numpy as np\n",
    "except ImportError:\n",
    "    print(\"Numpy module could not be found\")\n",
    "\n",
    "try:\n",
    "    import matplotlib.pyplot as plt\n",
    "    from matplotlib import rc\n",
    "    rc('mathtext', default='regular')\n",
    "except ImportError:\n",
    "    print(\"Matplotlib not found\")\n",
    "\n",
    "try:\n",
    "    from scipy import stats\n",
    "except ImportError:\n",
    "    print(\"Scipy stats module could not be found\")\n",
    "\n",
    "try:\n",
    "    import PyUQTk.pce as uqtkpce\n",
    "except ImportError:\n",
    "    print(\"PyUQTk PCE module not found\")\n",
    "    \n",
    "try:\n",
    "    import PyUQTk.PyPCE.pce_tools as pce_tools\n",
    "except ImportError:\n",
    "    print(\"PyUQTk pce_tools module not found\")"
   ]
  },
  {
   "cell_type": "code",
   "execution_count": 2,
   "id": "53eddfd7-9a59-4869-8b5a-0e3577b87073",
   "metadata": {},
   "outputs": [
    {
     "name": "stdout",
     "output_type": "stream",
     "text": [
      "PyUQTk array module not found\n",
      "PyUQTk quad module not found\n",
      "PyUQTk PCE module not found\n",
      "PyUQTk tools module not found\n"
     ]
    }
   ],
   "source": [
    "#problem-specific imports\n",
    "try:\n",
    "    #from heat_transfer_pce_tools import *\n",
    "    #from fwd_prop_tools import * \n",
    "    from window_combo_tools import *\n",
    "except ImportError:\n",
    "    print(\"File with PCE utilities not found.\")"
   ]
  },
  {
   "cell_type": "markdown",
   "id": "e1537f7e-4524-456a-b3eb-d2951521576e",
   "metadata": {},
   "source": [
    "## Setting input arguments"
   ]
  },
  {
   "cell_type": "code",
   "execution_count": 3,
   "id": "7cd8cd0a-8c6b-4cd4-b59b-4180dd8318c9",
   "metadata": {},
   "outputs": [],
   "source": [
    "model=1 #model with 1 or 2 window panes\n",
    "main_verbose = 11 #set to 1 for intermediate print statements, otherwise set to 0\n",
    "compute_rad=False #whether to include radiation calculations\n",
    "nord = 2 # Order of the PCE\n",
    "pc_type = \"HG\" #Polynomial type\n",
    "pc_alpha = 0.0\n",
    "pc_beta = 1.0\n",
    "param = nord +1 #quad points per dimension for full quadrature or level for sparse quadrature\n",
    "n_MC = 100000 #number of random smaples of MC sampling\n"
   ]
  },
  {
   "cell_type": "code",
   "execution_count": 4,
   "id": "9c51646b-1773-4b7c-8b41-5a8697d12a3e",
   "metadata": {},
   "outputs": [],
   "source": [
    "if ((model>2) or (model<1)):\n",
    "    print('Choose 1 or 2 for the model input.')"
   ]
  },
  {
   "cell_type": "markdown",
   "id": "9d5521cf-27ac-417a-89a2-b6f02b532de9",
   "metadata": {
    "tags": []
   },
   "source": [
    "#### Model 1 inputs"
   ]
  },
  {
   "cell_type": "code",
   "execution_count": 5,
   "id": "ef4bafea-4ddb-4073-80b8-39f0a28cd013",
   "metadata": {},
   "outputs": [],
   "source": [
    "if (model==1):\n",
    "    # Nominal values of the parameters used to calculate the heat flux\n",
    "    # These values are the same as shown in tha table in example forward propgation of uncertainty with PyUQTk in the manual\n",
    "\n",
    "    Ti = 293.0 # Room temperature in K\n",
    "    To = 273.0 # Outside temperature in K\n",
    "    dw = 0.01  # Window thickness in m\n",
    "    kw = 1.0   # Window conductivity in W/mK\n",
    "    hi = 2.0   # Inner convective heat transfer coefficient in W/m^2K\n",
    "    ho = 6.0   # Outer wall convective heat transfer coefficient in W/m^2K\n",
    "    TA = 150.0 # Atmospheric temperature in K. Only used to calculate heat flux when it is assumed that radiative heat transfer occurs\n",
    "\n",
    "    # Set the standard deviations of the Gaussian uncertainty of these uncertain parameters\n",
    "    std_Ti=Ti*0.005\n",
    "    std_To=To*0.005\n",
    "    std_dw=dw*0.01\n",
    "    std_kw=kw*0.05\n",
    "    std_hi=hi*0.15\n",
    "    std_ho=ho*0.15\n",
    "    std_TA=TA*0.1\n",
    "\n",
    "    # Set number of dimensions of the PCE (number of uncertain variables)\n",
    "    if compute_rad:\n",
    "        ndim = 7\n",
    "    else:\n",
    "        ndim = 6\n",
    "            \n",
    "    p=[Ti,To,dw,kw,hi,ho]\n",
    "    std_p=[std_Ti, std_To, std_dw, std_kw, std_hi, std_ho]\n",
    "    if compute_rad:\n",
    "        p.append(TA)\n",
    "        std_p.append(std_TA)"
   ]
  },
  {
   "cell_type": "markdown",
   "id": "ca1251ff-1e8c-4560-b760-1a865e59938f",
   "metadata": {
    "tags": []
   },
   "source": [
    "#### Model 2 inputs"
   ]
  },
  {
   "cell_type": "code",
   "execution_count": 6,
   "id": "889a5372-9ca5-4029-a045-19f0b703bfd9",
   "metadata": {},
   "outputs": [],
   "source": [
    "if (model==2):\n",
    "    # The uncertain, Gaussian parameters used to calculate the heat flux\n",
    "    Ts = 200.0 # Sky temperature (K) #new\n",
    "    hi = 2.0   # Coefficient of convection inside (W/m^2*s)\n",
    "    ho = 6.0   # Coefficient of convection outside (W/m^2*s)\n",
    "    kw = 1.0   # Conduction constant for glass (W/m*K)\n",
    "    ka = 0.024 # Conduction constant for air (W/m*K) \n",
    "    \n",
    "    # Set standard deviations of these uncertain parameters\n",
    "    std_Ts=Ts*0.1\n",
    "    std_hi=hi*0.15\n",
    "    std_ho=ho*0.15\n",
    "    std_kw=kw*0.05\n",
    "    std_ka=ka*0.05\n",
    "\n",
    "    # Set number of dimensions of the PCE (number of uncertain variables)\n",
    "    ndim=5\n",
    "    p=[Ts,hi,ho,kw,ka] \n",
    "    std_p=[std_Ts, std_hi, std_ho, std_kw, std_ka]"
   ]
  },
  {
   "cell_type": "markdown",
   "id": "4981d923-d353-44b6-b137-338743b82b59",
   "metadata": {},
   "source": [
    "## Forward propagation using Monte Carlo sampling"
   ]
  },
  {
   "cell_type": "code",
   "execution_count": 7,
   "id": "a588d1e6-ffd8-4467-b47b-a68901540044",
   "metadata": {},
   "outputs": [],
   "source": [
    "#Generate random samples of the uncertain parameters\n",
    "samples0=[0]*ndim\n",
    "for i in range(ndim):\n",
    "    samples0[i]=np.random.normal(p[i], std_p[i], n_MC)"
   ]
  },
  {
   "cell_type": "code",
   "execution_count": 8,
   "id": "4c84a0ae-74e5-43c7-8e81-ed55361ce41f",
   "metadata": {},
   "outputs": [
    {
     "name": "stdout",
     "output_type": "stream",
     "text": [
      "\n",
      "Computing heat transfer for 100000 parameter samples:\n",
      "  Sample 0 out of 100000\n",
      "  Sample 10000 out of 100000\n",
      "  Sample 20000 out of 100000\n",
      "  Sample 30000 out of 100000\n",
      "  Sample 40000 out of 100000\n",
      "  Sample 50000 out of 100000\n",
      "  Sample 60000 out of 100000\n",
      "  Sample 70000 out of 100000\n",
      "  Sample 80000 out of 100000\n",
      "  Sample 90000 out of 100000\n"
     ]
    },
    {
     "ename": "NameError",
     "evalue": "name 'pce_tools' is not defined",
     "output_type": "error",
     "traceback": [
      "\u001b[0;31m---------------------------------------------------------------------------\u001b[0m",
      "\u001b[0;31mNameError\u001b[0m                                 Traceback (most recent call last)",
      "Input \u001b[0;32mIn [8]\u001b[0m, in \u001b[0;36m<cell line: 7>\u001b[0;34m()\u001b[0m\n\u001b[1;32m      2\u001b[0m Q_evals\u001b[38;5;241m=\u001b[39mfwd_model(samples0, model, compute_rad, main_verbose)\n\u001b[1;32m      4\u001b[0m \u001b[38;5;66;03m# Perform kernel density estimation on Q_evals\u001b[39;00m\n\u001b[1;32m      5\u001b[0m \u001b[38;5;66;03m# xpts_MC is an array of points at which the PDF was estimated\u001b[39;00m\n\u001b[1;32m      6\u001b[0m \u001b[38;5;66;03m# PDF_data_MC is an array of the corresponding estimated PDF values.\u001b[39;00m\n\u001b[0;32m----> 7\u001b[0m xpts_MC, PDF_data_MC\u001b[38;5;241m=\u001b[39m \u001b[43mpce_tools\u001b[49m\u001b[38;5;241m.\u001b[39mUQTkKDE(Q_evals)\n",
      "\u001b[0;31mNameError\u001b[0m: name 'pce_tools' is not defined"
     ]
    }
   ],
   "source": [
    "#Evaluate the forward model  \n",
    "Q_evals=fwd_model(samples0, model, compute_rad, main_verbose)\n",
    "\n",
    "# Perform kernel density estimation on Q_evals\n",
    "# xpts_MC is an array of points at which the PDF was estimated\n",
    "# PDF_data_MC is an array of the corresponding estimated PDF values.\n",
    "xpts_MC, PDF_data_MC= pce_tools.UQTkKDE(Q_evals)"
   ]
  },
  {
   "cell_type": "markdown",
   "id": "21068a6f-d499-4307-bc64-de3de9240a7d",
   "metadata": {},
   "source": [
    "## Forward Propagation using PCEs and full quadrature"
   ]
  },
  {
   "cell_type": "code",
   "execution_count": null,
   "id": "11ce0304-0b5b-4357-bb0a-f4fe8500067f",
   "metadata": {},
   "outputs": [],
   "source": [
    "#Instantiate PC Object with full quadrature methods\n",
    "pc_model = uqtkpce.PCSet(\"NISPnoq\", nord,ndim,pc_type, pc_alpha,pc_beta)\n",
    "pc_model.SetQuadRule(pc_type, 'full', param)\n",
    "npce = pc_model.GetNumberPCTerms() # Number of terms in the PCE\n",
    "\n",
    "if main_verbose > 0:\n",
    "    print(\"The number of terms in each PCE is\",npce)\n",
    "    print(\"Multi-index and norm squared for all terms:\")\n",
    "    pc_model.PrintMultiIndexNormSquared()\n",
    "    \n",
    "#Get NumPy array of quadrature points, qdpts\n",
    "#totquat is the total number of quad points\n",
    "qdpts, totquat= pce_tools.UQTkGetQuadPoints(pc_model)\n",
    "\n",
    "# Convert Quadrature points in ξ_i to equivalent samples of input parameters\n",
    "# Taking advantage of the fact that inputs are assumed to be Gaussian\n",
    "# Following parameter_samples = μ + σ(qdpts)\n",
    "# This is equivalent to evaluating 1st order PC expansions for the input parameters.\n",
    "samples1=[0]*ndim\n",
    "for p_i in range(ndim):\n",
    "    samples1[p_i]=p[p_i]+std_p[p_i]*qdpts[:,p_i]\n",
    "    \n",
    "# Evaluate Forward model for sampled parameters, computing the heat flux Q\n",
    "# Q_evals is an array of evaluations of the forward model\n",
    "Q_evals=fwd_model(samples1,model, compute_rad)\n",
    "\n",
    "# Galerkin Projection to obtain PC coefficients\n",
    "c_k = pce_tools.UQTkGalerkinProjection(pc_model,Q_evals)\n",
    "\n",
    "# Generate germ samples\n",
    "germ_samples=np.random.normal(0,1, (n_MC,ndim))\n",
    "\n",
    "# Evaluate the PCE at the germ samples\n",
    "pce_evals=pce_tools.UQTkEvaluatePCE(pc_model,c_k,germ_samples)\n",
    "\n",
    "#Peform kernel density estimation\n",
    "xpts_pce, PDF_data_pce = pce_tools.UQTkKDE(pce_evals)"
   ]
  },
  {
   "cell_type": "markdown",
   "id": "bd3254e5-6588-4bb1-ab2d-5eeb3fd2400e",
   "metadata": {},
   "source": [
    "## Forward propagation using PCEs and sparse quadrature"
   ]
  },
  {
   "cell_type": "code",
   "execution_count": null,
   "id": "f66933d5-8030-449e-bfbe-b72fe29fd3ba",
   "metadata": {},
   "outputs": [],
   "source": [
    "# Instantiate PC Object with sparse quadrature methods\n",
    "pc_model2 = uqtkpce.PCSet(\"NISPnoq\", nord,ndim,pc_type, pc_alpha,pc_beta)"
   ]
  },
  {
   "cell_type": "code",
   "execution_count": null,
   "id": "e828e027-945d-4432-a6f5-2229d52d20ac",
   "metadata": {},
   "outputs": [],
   "source": [
    "pc_model2.SetQuadRule(pc_type, 'sparse', param)"
   ]
  },
  {
   "cell_type": "code",
   "execution_count": null,
   "id": "a2ae7663-494e-45b8-9a65-d9af31bee851",
   "metadata": {},
   "outputs": [],
   "source": [
    "npce2 = pc_model2.GetNumberPCTerms() # Number of terms in the PCE\n",
    "\n",
    "if main_verbose > 0:\n",
    "    print(\"The number of terms in each PCE is\",npce2)\n",
    "    print(\"Multi-index and norm squared for all terms:\")\n",
    "    pc_model2.PrintMultiIndexNormSquared()\n",
    "    \n",
    "#Get NumPy array of quadrature points, qdpts\n",
    "#totquat2 is the number of quad points\n",
    "qdpts2, totquat2= pce_tools.UQTkGetQuadPoints(pc_model2)\n",
    "\n",
    "# Convert Quadrature points in ξ_i to equivalent samples of input parameters\n",
    "# Taking advantage of the fact that inputs are assumed to be Gaussian\n",
    "# Following parameter_samples = μ + σ(qdpts)\n",
    "# This is equivalent to evaluating 1st order PC expansions for the input para\n",
    "samples2=[0]*ndim\n",
    "for p_i in range(ndim):\n",
    "    samples2[p_i]=p[p_i]+std_p[p_i]*qdpts2[:,p_i]\n",
    "\n",
    "# Evaluate Forward model for sampled parameters, computing the heat flux Q\n",
    "# Q_evals2 is an array of evaluations of the forward model\n",
    "Q_evals2=fwd_model(samples2, model, compute_rad)\n",
    "\n",
    "\n",
    "# Galerkin Projection to obtain PC coefficients\n",
    "c_k2 = pce_tools.UQTkGalerkinProjection(pc_model2,Q_evals2)\n",
    "\n",
    "# Generate germ samples\n",
    "germ_samples2=np.random.normal(0,1, (n_MC,ndim))\n",
    "\n",
    "# Evaluate the PCE at the germ samples\n",
    "pce_evals2=pce_tools.UQTkEvaluatePCE(pc_model2,c_k2,germ_samples2)\n",
    "\n",
    "#Peform kernel density estimation\n",
    "xpts_pce2, PDF_data_pce2= pce_tools.UQTkKDE(pce_evals2)"
   ]
  },
  {
   "cell_type": "code",
   "execution_count": null,
   "id": "ced658fe-0640-4e59-a29d-2d83b2c6a52c",
   "metadata": {},
   "outputs": [],
   "source": [
    "# Print statements to indicate number of samples used\n",
    "print(\"\\nMonte Carlo sampling used %s points\" %(n_MC))\n",
    "print(\"Full quadrature method used %s points\" %(totquat))\n",
    "print(\"Sparse quadrature method used %s points\" %(totquat2))\n",
    "\n",
    "#Plot showing the spectral decay of the PC coefficient magnitude in relation PC order.\n",
    "#Changing nord may alter the results of the plot, since it has elements that are not dynamically linked\n",
    "pce_tools.UQTkPlotMiDims(pc_model,c_k,ndim, nord, \"Full\")\n",
    "pce_tools.UQTkPlotMiDims(pc_model2,c_k2,ndim, nord, \"Sparse\")\n",
    "\n",
    "# Plot the three PDF curves on the same figure\n",
    "plt.figure(figsize=(10,10))\n",
    "plt.plot(xpts_pce, PDF_data_pce, linewidth=2, color='r', label='NISP full quadrature method')\n",
    "plt.plot(xpts_MC, PDF_data_MC, linewidth=2, color='b', label='Monte Carlo Sampling')\n",
    "plt.plot(xpts_pce2, PDF_data_pce2, linewidth=2, color='g', label= 'NISP sparse quadrature method')\n",
    "\n",
    "# Label axes\n",
    "plt.xlabel(\"Total Heat Flux ($W/m^2$)\", size=16)\n",
    "plt.ylabel(\"PDF\", size=16)\n",
    "# Add title\n",
    "plt.suptitle(\"Heat Transfer Through a Window - PCE order %s\"%(nord), size=20)\n",
    "# Change tick size\n",
    "plt.tick_params(axis='both', labelsize=14)\n",
    "# Pad tick labels\n",
    "plt.gca().tick_params(pad=6)\n",
    "# Create legend\n",
    "plt.legend(loc='upper left', prop={'size':12})\n",
    "# Save figure\n",
    "fig_name=\"heat_flux_pce.pdf\"\n",
    "plt.savefig(fig_name)\n",
    "print(\"\\nheat_flux_pce.pdf has been saved.\")\n",
    "# Show figure\n",
    "plt.show()"
   ]
  },
  {
   "cell_type": "code",
   "execution_count": null,
   "id": "1cddf687-0b8e-47de-b0c1-cc304a298086",
   "metadata": {},
   "outputs": [],
   "source": []
  }
 ],
 "metadata": {
  "kernelspec": {
   "display_name": "Python 3 (ipykernel)",
   "language": "python",
   "name": "python3"
  },
  "language_info": {
   "codemirror_mode": {
    "name": "ipython",
    "version": 3
   },
   "file_extension": ".py",
   "mimetype": "text/x-python",
   "name": "python",
   "nbconvert_exporter": "python",
   "pygments_lexer": "ipython3",
   "version": "3.9.12"
  }
 },
 "nbformat": 4,
 "nbformat_minor": 5
}
